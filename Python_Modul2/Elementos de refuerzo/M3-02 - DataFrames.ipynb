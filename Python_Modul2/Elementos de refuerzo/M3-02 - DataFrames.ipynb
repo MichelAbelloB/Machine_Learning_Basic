{
 "cells": [
  {
   "cell_type": "markdown",
   "metadata": {},
   "source": [
    "<a href=\"https://albertomerani.org/\">\n",
    "    <img src=\"images/Merani2.png\" width=\"1000\" align=\"center\">\n",
    "</a>"
   ]
  },
  {
   "cell_type": "markdown",
   "metadata": {},
   "source": [
    "<h1>Procesamiento de Datos con Pandas</h1>"
   ]
  },
  {
   "cell_type": "markdown",
   "metadata": {},
   "source": [
    "<h2>Tabla de contenidos</h2>\n",
    "<div class=\"alert alert-block alert-info\" style=\"margin-top: 20px\">\n",
    "    <ul>\n",
    "         <li>\n",
    "             <a href=\"#pandas\">¿Qué es Pandas?</a>\n",
    "             <ul>\n",
    "                 <li><a href=\"#prep\">Procesamiento de Datos</a></li>\n",
    "                 <li><a href=\"#atr\">Atributos de un DataFrame</a></li>\n",
    "                 <li><a href=\"#mod\">Modificar Dataframes</a></li>\n",
    "             </ul>\n",
    "         </li>\n",
    "         <li>\n",
    "             <a href=\"#quiz\">Quiz sobre DataFrames</a>\n",
    "         </li>\n",
    "     </ul>\n",
    "</div>\n",
    "<hr>"
   ]
  },
  {
   "cell_type": "code",
   "execution_count": null,
   "metadata": {
    "tags": []
   },
   "outputs": [],
   "source": [
    "# Importar la libreria pandas y llamarla como pd \n",
    "import pandas as pd\n",
    "import numpy as np"
   ]
  },
  {
   "cell_type": "markdown",
   "metadata": {},
   "source": [
    "<h2 id=\"pandas\">¿Qué es Pandas?</h2>\n",
    "\n",
    "Es una biblioteca de Python ampliamente utilizada para el análisis y manipulación de datos. Pandas proporciona estructuras de datos y herramientas que facilitan la limpieza, transformación y análisis de datos de una manera eficiente.\n",
    "\n",
    "**Pandas** se ha convertido en una herramienta esencial para científicos de datos, analistas y cualquier persona que trabaje con datos en Python. Su popularidad se debe a su capacidad para manejar datos de manera sencilla y efectiva. Algunos de los conceptos clave de Pandas incluyen:\n",
    "\n",
    "* **Análisis de Datos**: Es una herramienta esencial para explorar y analizar datos, identificando patrones y tendencias.\n",
    "\n",
    "* **Preparación de Datos**: Antes de entrenar modelos de aprendizaje automático, los datos deben estar limpios y bien estructurados. Pandas ayuda a preparar los datos para el modelado.\n",
    "\n",
    "* **Visualización de Datos**: Pandas se integra fácilmente con bibliotecas de visualización como Matplotlib y Seaborn para crear gráficos y visualizaciones.\n",
    "\n",
    "* **Análisis Estadístico**: Ofrece funciones para calcular estadísticas descriptivas y realizar pruebas estadísticas.\n",
    "\n",
    "* **Manipulación de Datos en Proyectos de Ciencia de Datos:** Pandas es una herramienta fundamental en proyectos de ciencia de datos para explorar, limpiar y transformar datos antes de aplicar técnicas de aprendizaje automático."
   ]
  },
  {
   "cell_type": "markdown",
   "metadata": {},
   "source": [
    "<h2 id=\"prep\">Procesamiento de Datos</h2>"
   ]
  },
  {
   "cell_type": "markdown",
   "metadata": {},
   "source": [
    "Este código crea un DataFrame llamado df con 5 variables y 10 registros"
   ]
  },
  {
   "cell_type": "code",
   "execution_count": null,
   "metadata": {
    "tags": []
   },
   "outputs": [],
   "source": [
    "data = {\n",
    "    'Nombre': ['Juan', 'María', 'Luis', 'Ana', 'Pedro', 'Laura', 'Carlos', 'Sofía', 'Diego', 'Elena'],\n",
    "    'Edad': [25, 30, 18, 28, 35, 29, 42, 27, 54, np.nan],\n",
    "    'Género': ['M', 'F', 'M', 'F', 'M', 'F', 'M', 'F', 'M', 'F'],\n",
    "    'Puntuación': [85, 92, 78, np.nan, 96, 89, np.nan, 91, 84, 90],\n",
    "    'Ciudad': ['Madrid', 'Barcelona', 'Valencia', 'Sevilla', 'np.nan', 'Málaga', 'Zaragoza', 'Murcia', 'Granada', 'Alicante']\n",
    "}\n",
    "\n",
    "# Crear un DataFrame a partir del diccionario\n",
    "df = pd.DataFrame(data)\n",
    "\n",
    "# Mostrar el DataFrame\n",
    "df"
   ]
  },
  {
   "cell_type": "markdown",
   "metadata": {},
   "source": [
    "<h2 id=\"atr\">Atributos de un DataFrame</h2>\n",
    "\n",
    "Existen varias propiedades o métodos para ver las características de un DataFrame.\n",
    "\n",
    "* **df.info()** : Devuelve información (número de filas, número de columnas, índices, tipo de las columnas y memoria usado) sobre el DataFrame df.\n",
    "\n",
    "* **df.shape** : Devuelve una tupla con el número de filas y columnas del DataFrame df.\n",
    "\n",
    "* **df.size** : Devuelve el número de elementos del DataFrame.\n",
    "\n",
    "* **df.columns** : Devuelve una lista con los nombres de las columnas del DataFrame df.\n",
    "\n",
    "* **df.index** : Devuelve una lista con los nombres de las filas del DataFrame df.\n",
    "\n",
    "* **df.dtypes** : Devuelve una serie con los tipos de datos de las columnas del DataFrame df.\n",
    "\n",
    "* **df.head(n)** : Devuelve las n primeras filas del DataFrame df.\n",
    "\n",
    "* **df.tail(n)** : Devuelve las n últimas filas del DataFrame df."
   ]
  },
  {
   "cell_type": "markdown",
   "metadata": {},
   "source": [
    "Con el comando <code>colums</code> se utiliza para obtener la lista de etiquetas (nombres) de las columnas en un DataFrame."
   ]
  },
  {
   "cell_type": "code",
   "execution_count": null,
   "metadata": {
    "tags": []
   },
   "outputs": [],
   "source": [
    "df.columns"
   ]
  },
  {
   "cell_type": "markdown",
   "metadata": {},
   "source": [
    "Seleccionar algunas variables del Dataframe "
   ]
  },
  {
   "cell_type": "code",
   "execution_count": null,
   "metadata": {
    "tags": []
   },
   "outputs": [],
   "source": [
    "df[['Nombre','Género','Puntuación']]"
   ]
  },
  {
   "cell_type": "markdown",
   "metadata": {},
   "source": [
    "El método <code>loc</code> en Pandas se utiliza para acceder y seleccionar datos de un DataFrame utilizando etiquetas o etiquetas basadas en ubicaciones. Es una de las formas principales de realizar selecciones y extracciones de datos en un DataFrame en Pandas. El nombre \"loc\" proviene de \"location\" (ubicación), ya que permite localizar datos en función de etiquetas específicas."
   ]
  },
  {
   "cell_type": "code",
   "execution_count": null,
   "metadata": {
    "tags": []
   },
   "outputs": [],
   "source": [
    "df.loc[5]"
   ]
  },
  {
   "cell_type": "code",
   "execution_count": null,
   "metadata": {
    "tags": []
   },
   "outputs": [],
   "source": [
    "df.loc[5,['Nombre','Edad','Ciudad']]"
   ]
  },
  {
   "cell_type": "markdown",
   "metadata": {},
   "source": [
    "El método <code>iloc</code> se utiliza para acceder y seleccionar datos de un DataFrame utilizando índices basados en ubicaciones numéricas. A diferencia de loc, que utiliza etiquetas para la selección, iloc utiliza índices enteros para ubicar los datos en un DataFrame"
   ]
  },
  {
   "cell_type": "code",
   "execution_count": null,
   "metadata": {
    "tags": []
   },
   "outputs": [],
   "source": [
    "df.iloc[0:4]"
   ]
  },
  {
   "cell_type": "code",
   "execution_count": null,
   "metadata": {
    "tags": []
   },
   "outputs": [],
   "source": [
    "# 0-4 hace referencia a los indices de las filas\n",
    "# 0:3 hace referencia a los indices de las columnas\n",
    "\n",
    "df.iloc[0:4,0:3]"
   ]
  },
  {
   "cell_type": "code",
   "execution_count": null,
   "metadata": {
    "tags": []
   },
   "outputs": [],
   "source": [
    "# [0,2] hace referencia a los indices de las filas 0, 2 y 3\n",
    "# [0,1] hace referencia a los indices de las columnas 0 = Nombre y 1 = Edad, 4 = Ciudad\n",
    "\n",
    "df.iloc[[0,2,3],[0,1,4]]"
   ]
  },
  {
   "cell_type": "markdown",
   "metadata": {},
   "source": [
    "#### Filtros \n",
    "\n",
    "Tambien se pueden aplicar filtros al Dataframe aplicando condiciones lógicas"
   ]
  },
  {
   "cell_type": "code",
   "execution_count": null,
   "metadata": {
    "tags": []
   },
   "outputs": [],
   "source": [
    "df"
   ]
  },
  {
   "cell_type": "markdown",
   "metadata": {},
   "source": [
    "#### Dos formas de referirse a una variable"
   ]
  },
  {
   "cell_type": "code",
   "execution_count": null,
   "metadata": {
    "tags": []
   },
   "outputs": [],
   "source": [
    "df['Nombre']"
   ]
  },
  {
   "cell_type": "code",
   "execution_count": null,
   "metadata": {
    "tags": []
   },
   "outputs": [],
   "source": [
    "df.Nombre"
   ]
  },
  {
   "cell_type": "markdown",
   "metadata": {},
   "source": [
    "Condición lógica"
   ]
  },
  {
   "cell_type": "code",
   "execution_count": null,
   "metadata": {
    "tags": []
   },
   "outputs": [],
   "source": [
    "df['Edad']>30"
   ]
  },
  {
   "cell_type": "markdown",
   "metadata": {},
   "source": [
    "#### Condición lógica aplicada dentro del Dataframe"
   ]
  },
  {
   "cell_type": "code",
   "execution_count": null,
   "metadata": {
    "tags": []
   },
   "outputs": [],
   "source": [
    "df[ df['Edad']>30 ]"
   ]
  },
  {
   "cell_type": "code",
   "execution_count": null,
   "metadata": {
    "tags": []
   },
   "outputs": [],
   "source": [
    "df[ df['Género'] == 'M' ]"
   ]
  },
  {
   "cell_type": "markdown",
   "metadata": {},
   "source": [
    "#### Combinación de filtros para encontrar la información según los requerimientos del analisis"
   ]
  },
  {
   "cell_type": "code",
   "execution_count": null,
   "metadata": {
    "tags": []
   },
   "outputs": [],
   "source": [
    "df[ (df['Edad']>30) & (df['Puntuación'] > 80) ]"
   ]
  },
  {
   "cell_type": "markdown",
   "metadata": {},
   "source": [
    "El método <code>query()</code> se utiliza para filtrar y seleccionar filas de un DataFrame que cumplan con una condición específica. Proporciona una forma más legible y concisa de realizar consultas en un DataFrame en comparación con la indexación tradicional."
   ]
  },
  {
   "cell_type": "code",
   "execution_count": null,
   "metadata": {
    "tags": []
   },
   "outputs": [],
   "source": [
    "df.query('Edad > 30 and Puntuación > 80')"
   ]
  },
  {
   "cell_type": "markdown",
   "metadata": {},
   "source": [
    "El método <code>describe()</code> se utiliza para obtener un resumen estadístico de las columnas numéricas en un DataFrame. Proporciona estadísticas como el recuento, la media, la desviación estándar, los valores mínimo y máximo, y los cuartiles (25%, 50%, 75%) para cada columna numérica."
   ]
  },
  {
   "cell_type": "code",
   "execution_count": null,
   "metadata": {
    "tags": []
   },
   "outputs": [],
   "source": [
    "df.describe()"
   ]
  },
  {
   "cell_type": "markdown",
   "metadata": {},
   "source": [
    "El método <code>info()</code> se utiliza para obtener información sobre un DataFrame, incluyendo el recuento de no nulos, los tipos de datos de cada columna y la cantidad de memoria utilizada. Es útil para verificar rápidamente la integridad de los datos y los tipos de datos en el DataFrame."
   ]
  },
  {
   "cell_type": "code",
   "execution_count": null,
   "metadata": {
    "tags": []
   },
   "outputs": [],
   "source": [
    "df.info()"
   ]
  },
  {
   "cell_type": "markdown",
   "metadata": {},
   "source": [
    "La propiedad <code>dtypes</code> se utiliza para obtener los tipos de datos de cada columna en un DataFrame. Devuelve una Serie que muestra los tipos de datos de las columnas."
   ]
  },
  {
   "cell_type": "code",
   "execution_count": null,
   "metadata": {
    "tags": []
   },
   "outputs": [],
   "source": [
    "df.dtypes"
   ]
  },
  {
   "cell_type": "markdown",
   "metadata": {},
   "source": [
    "El método <code>nunique()</code> se utiliza para contar el número de valores únicos en cada columna de un DataFrame. Es especialmente útil cuando quieres saber cuántos valores únicos existen en una columna."
   ]
  },
  {
   "cell_type": "code",
   "execution_count": null,
   "metadata": {
    "tags": []
   },
   "outputs": [],
   "source": [
    "df.nunique()"
   ]
  },
  {
   "cell_type": "markdown",
   "metadata": {},
   "source": [
    "El método <code>value_counts()</code>  se utiliza para contar los valores únicos en una Serie de Pandas y devolver un objeto Serie que muestra cuántas veces aparece cada valor único en la Serie. Es especialmente útil para analizar la distribución de valores en una columna."
   ]
  },
  {
   "cell_type": "code",
   "execution_count": null,
   "metadata": {
    "tags": []
   },
   "outputs": [],
   "source": [
    "df['Género'].value_counts()"
   ]
  },
  {
   "cell_type": "markdown",
   "metadata": {},
   "source": [
    "l método <code>pd.get_dummies()</code>  se utiliza para convertir variables categóricas en variables ficticias (también conocidas como variables binarias o \"one-hot encoding\"). Crea una nueva DataFrame donde cada categoría se convierte en una columna binaria con valores 1 o 0, indicando la presencia o ausencia de la categoría."
   ]
  },
  {
   "cell_type": "code",
   "execution_count": null,
   "metadata": {
    "tags": []
   },
   "outputs": [],
   "source": [
    "pd.get_dummies(df['Ciudad'])"
   ]
  },
  {
   "cell_type": "markdown",
   "metadata": {},
   "source": [
    "<h2 id=\"mod\">Modificar Dataframes</h2>"
   ]
  },
  {
   "cell_type": "markdown",
   "metadata": {},
   "source": [
    "#### Agregar un Registro"
   ]
  },
  {
   "cell_type": "code",
   "execution_count": null,
   "metadata": {
    "tags": []
   },
   "outputs": [],
   "source": [
    "new_row = {'Nombre': 'Eve', 'Edad': 28, 'Género': 'F', 'Puntuación':79, 'Ciudad':'Colombia'}\n",
    "df = df.append(new_row, ignore_index=True)"
   ]
  },
  {
   "cell_type": "code",
   "execution_count": null,
   "metadata": {
    "tags": []
   },
   "outputs": [],
   "source": [
    "df.tail(4)"
   ]
  },
  {
   "cell_type": "markdown",
   "metadata": {},
   "source": [
    "#### Modificar un Registro:\n",
    "\n",
    " "
   ]
  },
  {
   "cell_type": "code",
   "execution_count": null,
   "metadata": {
    "tags": []
   },
   "outputs": [],
   "source": [
    "df.loc[10, 'Edad'] = 31\n",
    "df.tail(4)"
   ]
  },
  {
   "cell_type": "markdown",
   "metadata": {},
   "source": [
    "#### Agregar una Variable"
   ]
  },
  {
   "cell_type": "code",
   "execution_count": null,
   "metadata": {
    "tags": []
   },
   "outputs": [],
   "source": [
    "df['Peso (kg)'] = [55, 80, 68, 62, 65, 78, 67, 42, 96, 76, 54]\n",
    "df"
   ]
  },
  {
   "cell_type": "markdown",
   "metadata": {},
   "source": [
    "#### Modificar una Variable\n"
   ]
  },
  {
   "cell_type": "code",
   "execution_count": null,
   "metadata": {
    "tags": []
   },
   "outputs": [],
   "source": [
    "df['Peso (kg)'] = df['Peso (kg)'] + 5\n",
    "df"
   ]
  },
  {
   "cell_type": "markdown",
   "metadata": {},
   "source": [
    "#### Eliminar un Registro"
   ]
  },
  {
   "cell_type": "code",
   "execution_count": null,
   "metadata": {
    "tags": []
   },
   "outputs": [],
   "source": [
    "# Seleccionar todos los Nombres que sean diferentes a 'Eve'\n",
    "df = df[df['Nombre'] != 'Eve']\n",
    "df.tail()"
   ]
  },
  {
   "cell_type": "code",
   "execution_count": null,
   "metadata": {
    "tags": []
   },
   "outputs": [],
   "source": [
    "df = df.drop(9, axis=0) # Axis=0 : Filas\n",
    "df"
   ]
  },
  {
   "cell_type": "markdown",
   "metadata": {},
   "source": [
    "#### Eliminar una Variable"
   ]
  },
  {
   "cell_type": "code",
   "execution_count": null,
   "metadata": {
    "tags": []
   },
   "outputs": [],
   "source": [
    "df = df.drop('Puntuación', axis=1)  # Axis=1 : Columnas\n",
    "df"
   ]
  },
  {
   "cell_type": "markdown",
   "metadata": {},
   "source": [
    "<hr>"
   ]
  },
  {
   "cell_type": "markdown",
   "metadata": {},
   "source": [
    "<h2 id=\"quiz\">Quiz sobre DataFrames</h2>"
   ]
  },
  {
   "cell_type": "markdown",
   "metadata": {},
   "source": [
    "#### **Ejercicio 1**: Filtrado de Datos."
   ]
  },
  {
   "cell_type": "code",
   "execution_count": null,
   "metadata": {
    "tags": []
   },
   "outputs": [],
   "source": [
    "data = {'Nombre': ['Alice', 'Bob', 'Charlie', 'David'],\n",
    "        'Edad': [25, 30, 22, 28],\n",
    "        'Altura (cm)': [165, 180, 175, 170]}\n",
    "\n",
    "df = pd.DataFrame(data)\n",
    "df"
   ]
  },
  {
   "cell_type": "code",
   "execution_count": null,
   "metadata": {},
   "outputs": [],
   "source": [
    "# Escriba su código a continuación y presione Shift+Enter para ejecutar\n",
    "# Reemplaze la declaración **None** por la respuesta\n",
    "\n",
    "# Filtra las filas donde la edad es mayor de 25 años.\n",
    "filtro = df[None] > 25\n",
    "result1 = df[filtro]\n",
    "\n",
    "# Muestra solo las columnas 'Nombre' y 'Edad' para estas filas.\n",
    "result2 = result1[[None]]\n"
   ]
  },
  {
   "cell_type": "markdown",
   "metadata": {},
   "source": [
    "Haga doble clic __aquí__ para ver la solución.\n",
    "\n",
    "<!-- Su respuesta está a continuación:\n",
    "\n",
    "# Filtra las filas donde la edad es mayor de 25 años.\n",
    "filtro = df['Edad'] > 25\n",
    "result1 = df[filtro]\n",
    "\n",
    "# Muestra solo las columnas 'Nombre' y 'Edad' para estas filas.\n",
    "result2 = result1[['Nombre', 'Edad']]\n",
    "\n",
    " -->"
   ]
  },
  {
   "cell_type": "markdown",
   "metadata": {},
   "source": [
    "<hr>"
   ]
  },
  {
   "cell_type": "markdown",
   "metadata": {},
   "source": [
    "#### **Ejercicio 2**: Agregar y Modificar Datos."
   ]
  },
  {
   "cell_type": "code",
   "execution_count": null,
   "metadata": {
    "tags": []
   },
   "outputs": [],
   "source": [
    "# Escriba su código a continuación y presione Shift+Enter para ejecutar\n",
    "\n",
    "data = {'Nombre': ['Alice', 'Bob', 'Charlie', 'David'],\n",
    "        'Edad': [25, 30, 22, 28],\n",
    "        'Altura (cm)': [165, 180, 175, 170]}\n",
    "\n",
    "df = pd.DataFrame(data)\n",
    "df"
   ]
  },
  {
   "cell_type": "code",
   "execution_count": null,
   "metadata": {
    "tags": []
   },
   "outputs": [],
   "source": [
    "# Escriba su código a continuación y presione Shift+Enter para ejecutar\n",
    "# Reemplaze la declaración **None** por la respuesta\n",
    "\n",
    "# Agrega una nueva columna llamada 'Peso (kg)' con los valores [55, 80, 68, 62].\n",
    "df['Peso (kg)'] = None\n",
    "\n",
    "# Modifica la altura de 'Alice' para que sea 160 cm.\n",
    "df.loc[df[None] == 'Alice', 'Altura (cm)'] = None\n",
    "\n",
    "df"
   ]
  },
  {
   "cell_type": "markdown",
   "metadata": {},
   "source": [
    "Haga doble clic __aquí__ para ver la solución.\n",
    "\n",
    "<!-- Su respuesta está a continuación:\n",
    "\n",
    "# Agrega una nueva columna llamada 'Peso (kg)' con los valores [55, 80, 68, 62].\n",
    "df['Peso (kg)'] = [55, 80, 68, 62]\n",
    "\n",
    "# Modifica la altura de 'Alice' para que sea 160 cm.\n",
    "df.loc[df['Nombre'] == 'Alice', 'Altura (cm)'] = 160\n",
    "\n",
    "df\n",
    "\n",
    " -->"
   ]
  },
  {
   "cell_type": "markdown",
   "metadata": {},
   "source": [
    "<hr>"
   ]
  },
  {
   "cell_type": "markdown",
   "metadata": {},
   "source": [
    "<div class=\"alert alert-block alert-info\" style=\"margin-top: 20px\">\n",
    "\n",
    "<h2>Felicitaciones por llegar hasta aquí!</h2>\n",
    "\n",
    "¡Has completado una nueva hazaña!\n",
    "\n",
    "Has aprendido mucho sobre Dataframes.\n",
    "\n",
    "Ahora eres capaz de realizar de interactuar con la información.\n",
    "\n",
    "\n",
    "<h3>¡Sigue aprendiendo y creciendo!</h3>\n",
    "    \n",
    "</div>"
   ]
  },
  {
   "cell_type": "markdown",
   "metadata": {},
   "source": [
    "<hr>"
   ]
  },
  {
   "cell_type": "markdown",
   "metadata": {},
   "source": [
    "<h2>Autores y colaborares:</h2> \n",
    "\n",
    "\n",
    "<a href=\"https://www.linkedin.com/in/robinssondeantonio/\" title=\"Robinsson Deantonio\"> Robinsson S. Deantonio</a> \n"
   ]
  },
  {
   "cell_type": "markdown",
   "metadata": {},
   "source": [
    "<hr>"
   ]
  },
  {
   "cell_type": "markdown",
   "metadata": {
    "tags": []
   },
   "source": [
    "<p>Copyright &copy; 2023. Este cuaderno y su código fuente se publican según los términos del <a href=\"https://cognitiveclass.ai/mit-license/\">MIT License</a>.</p>"
   ]
  }
 ],
 "metadata": {
  "kernelspec": {
   "display_name": "Python 3 (ipykernel)",
   "language": "python",
   "name": "python3"
  },
  "language_info": {
   "codemirror_mode": {
    "name": "ipython",
    "version": 3
   },
   "file_extension": ".py",
   "mimetype": "text/x-python",
   "name": "python",
   "nbconvert_exporter": "python",
   "pygments_lexer": "ipython3",
   "version": "3.10.9"
  }
 },
 "nbformat": 4,
 "nbformat_minor": 4
}
