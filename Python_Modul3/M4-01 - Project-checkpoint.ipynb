{
 "cells": [
  {
   "cell_type": "markdown",
   "id": "cd114f7e-052c-4982-9200-15a11934ad13",
   "metadata": {},
   "source": [
    "<a href=\"https://albertomerani.org/\">\n",
    "    <img src=\"images/Merani2.png\" width=\"1000\" align=\"center\">\n",
    "</a>"
   ]
  },
  {
   "cell_type": "markdown",
   "id": "c86ee2ab-1967-438b-b635-05a199abab21",
   "metadata": {},
   "source": [
    "# **CASO DE NEGOCIO: Predicción de vivienda**\n"
   ]
  },
  {
   "cell_type": "markdown",
   "id": "8adbec51-a720-4431-92e5-0e2197348d65",
   "metadata": {},
   "source": [
    "<h2>Tabla de contenidos</h2>\n",
    "<div class=\"alerta alerta-bloque alerta-info\" estilo=\"margin-top: 20px\">\n",
    "     <ul>\n",
    "         <ul>\n",
    "             <li><a href=\"#sin\"> Sinopsis </a></li>\n",
    "             <li><a href=\"#pp\"> Principales Pasos </a></li>\n",
    "             <ul>             \n",
    "                 <li><a href=\"#neg\"> Paso 1: Entendimiento de negocio </a></li>\n",
    "                 <li><a href=\"#dat\"> Paso 2: Entendimiento de los datos </a></li>\n",
    "                 <li><a href=\"#prep\"> Paso 3: Preparación de Datos</a></li>\n",
    "                 <li><a href=\"#mod\"> Paso 4: Modelamiento</a></li>\n",
    "                 <li><a href=\"#eva\"> Paso 5: Evalucación</a></li>\n",
    "            </ul>\n",
    "         </ul>\n",
    "     </ul>\n",
    "</div>\n",
    "\n",
    "<hr>"
   ]
  },
  {
   "cell_type": "markdown",
   "id": "d0bb792e-e2d7-4dcf-a52a-d0e5d37d271b",
   "metadata": {},
   "source": [
    "<h2 id=\"sin\"> Sinopsis </h2>\n",
    "\n",
    "\"Este conjunto de datos es una versión modificada del conjunto de datos de Vivienda de California disponible en la página de Luís Torgo (Universidad de Oporto). Luís Torgo lo obtuvo del repositorio de StatLib (que ahora está cerrado). El conjunto de datos también se puede descargar desde los espejos de StatLib.\n",
    "\n",
    "La siguiente es la descripción del autor del libro:\n",
    "\n",
    "Este conjunto de datos apareció en un artículo de 1997 titulado Sparse Spatial Autoregressions de Pace, R. Kelley y Ronald Barry, publicado en la revista Statistics and Probability Letters. Lo construyeron utilizando los datos del censo de California de 1990. Contiene una fila por grupo de bloques censales. Un grupo de bloques es la unidad geográfica más pequeña para la cual la Oficina del Censo de EE. UU. publica datos de muestra (un grupo de bloques suele tener una población de 600 a 3000 personas).\n",
    "\n",
    "El conjunto de datos de este directorio es casi idéntico al original, con dos diferencias:\n",
    "Se eliminaron aleatoriamente 207 valores de la columna total_bedrooms, por lo que podemos discutir qué hacer con los datos faltantes.\n",
    "Se agregó un atributo categórico adicional llamado ocean_proximity, que indica (de manera muy aproximada) si cada grupo de bloques está cerca del océano, cerca del área de la Bahía, tierra adentro o en una isla. Esto permite discutir qué hacer con los datos categóricos."
   ]
  },
  {
   "cell_type": "markdown",
   "id": "d98d714d-946f-49d9-9444-a6f47ede1884",
   "metadata": {
    "tags": []
   },
   "source": [
    " <h2 id=\"pp\"> Principales Pasos en un Proyecto de I.A. </h2>\n",
    "\n",
    "1. Entendimiento de negocio\n",
    "2. Entendimiento de los datos.\n",
    "    * tipos de datos (número, texto, objeto, etc.)\n",
    "    * continuo/discreto\n",
    "    * estadísticas básicas (mín., máx., estándar, mediana, etc.) mediante diagrama de caja\n",
    "    * frecuencia a través del histograma\n",
    "    * escalas y distribuciones de diferentes características\n",
    "    * Análisis de correlación (combinaciones por pares y atributos)\n",
    "3. Prepraración de Datos.\n",
    "    * Limpieza de datos (datos faltantes, valores atípicos, errores de datos\n",
    "    * Transformación de datos a través de canalizaciones (texto categórico a número usando una codificación activa, escalado de características mediante normalización/estandarización, combinaciones de características)\n",
    "4. Modelamiento\n",
    "    * Entrene y valide de forma cruzada diferentes modelos y seleccione el más prometedor\n",
    "    * Ajuste el modelo probando diferentes combinaciones de hiperparámetros.\n",
    "5. Evaluación.\n",
    "6. Iniciar, monitorear y actualizar el modelo y el sistema.et *(Este paso no se llevar a cabo por el alcanze del curso)*"
   ]
  },
  {
   "cell_type": "markdown",
   "id": "5108def5-eb58-4f52-9dda-bb4312ea6338",
   "metadata": {
    "tags": []
   },
   "source": [
    "<h2 id=\"neg\"> Paso 1: Entendimiento de negocio </h2>"
   ]
  },
  {
   "cell_type": "markdown",
   "id": "e74b7f21-a449-42c7-becc-4cd0e7feb3a6",
   "metadata": {},
   "source": [
    "Este problema de clasificación consiste en estimar la ubicación aproximada de los bloques de viviendas. La ubicación aproximada se representa con una variable discreta llamada ocean_proximity que puede tener uno de los cinco valores posibles: \n",
    "\n",
    "* **NEAR BAY**  -  CERCA DE LA BAHÍA\n",
    "* **<1H OCEAN** -  <1H OCÉANO\n",
    "* **INLAND**    -  INTERIOR\n",
    "* **NEAR OCEAN** - CERCA DEL OCÉANO\n",
    "* **ISLAND**   -   ISLA"
   ]
  },
  {
   "cell_type": "markdown",
   "id": "a440a3d5-63db-457d-b717-b7c96c48e94f",
   "metadata": {},
   "source": [
    "<h3 id=\"neg\"> Contenido </h3>"
   ]
  },
  {
   "cell_type": "markdown",
   "id": "a0478e6a-4493-4961-b074-6326f37494e0",
   "metadata": {},
   "source": [
    "Los datos pertenecen a las casas encontradas en un distrito determinado de California y algunas estadísticas resumidas sobre ellas basadas en los datos del censo de 1990. ¡Tenga en cuenta que los datos no se limpian, por lo que se requieren algunos pasos de preprocesamiento! Las columnas son las siguientes, sus nombres se explican por sí solos:\n",
    "\n",
    "* longitude\n",
    "* latitude\n",
    "* housing_median_age\n",
    "* total_rooms\n",
    "* population\n",
    "* households\n",
    "* median_income\n",
    "* median_house_value\n",
    "* ocean_proximity"
   ]
  },
  {
   "cell_type": "markdown",
   "id": "e87c81fd-e7ca-45bd-8b41-9f65559bc37e",
   "metadata": {},
   "source": [
    "<h2 id=\"dat\"> Paso 2: Entendimiento de los datos </h2>"
   ]
  },
  {
   "cell_type": "code",
   "execution_count": null,
   "id": "1046c08e-88fa-4de8-8860-81fd7c952be6",
   "metadata": {
    "tags": []
   },
   "outputs": [],
   "source": [
    "# Establezca el número máximo de subprocesos en 4 en el computador, para un cálculo más rápido\n",
    "import os\n",
    "os.environ[\"OMP_NUM_THREADS\"] = \"4\""
   ]
  },
  {
   "cell_type": "markdown",
   "id": "5d0dd784-4b2d-493d-903e-3d86b9262413",
   "metadata": {},
   "source": [
    "### **Cargar los paquetes y librerías necesarias**"
   ]
  },
  {
   "cell_type": "code",
   "execution_count": null,
   "id": "17ceb328-b4c5-408c-835e-3b3c54133937",
   "metadata": {
    "tags": []
   },
   "outputs": [],
   "source": [
    "import pandas as pd\n",
    "import numpy as np\n",
    "\n",
    "from sklearn.model_selection import train_test_split\n",
    "from sklearn.metrics import r2_score, mean_absolute_error\n",
    "from math import sqrt\n",
    "\n",
    "# data viz\n",
    "%matplotlib inline\n",
    "import matplotlib.pyplot as plt\n",
    "import seaborn as sns\n",
    "\n",
    "sns.set(color_codes=True)\n",
    "sns.set_palette(sns.color_palette(\"muted\"))\n",
    "\n",
    "\n",
    "import warnings\n",
    "warnings.filterwarnings(\"ignore\")"
   ]
  },
  {
   "cell_type": "markdown",
   "id": "4299b376-5bc5-4df7-bce1-43e06580db2d",
   "metadata": {
    "tags": []
   },
   "source": [
    "### **Cargar los datos**"
   ]
  },
  {
   "cell_type": "code",
   "execution_count": null,
   "id": "bc593ff1-3881-465d-a5d8-ce572f14ec53",
   "metadata": {
    "tags": []
   },
   "outputs": [],
   "source": [
    "Housing_df = pd.read_csv(\"data/HousingRawDataset.csv\", encoding='utf-8')\n",
    "Housing_df"
   ]
  },
  {
   "cell_type": "markdown",
   "id": "eb4f5bac-e89c-46ba-85ee-df6b753d4b83",
   "metadata": {},
   "source": [
    "### **Análisis exploratorio de datos - EDA**\n",
    "\n",
    "En ciencia de datos aplicamos el método científico a los datos con el objetivo de obtener conocimientos. Esto significa que planteamos una hipótesis sobre los datos, la probamos y la refinamos si es necesario. En este marco, el análisis exploratorio de datos (EDA) es el paso en el que exploramos los datos antes de construir modelos. Esto nos ayuda a comprender qué información contienen realmente los datos y qué conocimientos se pueden obtener de ellos.\n",
    "\n",
    "Formalmente, los objetivos de EDA son:\n",
    "\n",
    "* Sugerir hipótesis sobre los fenómenos de interés.\n",
    "* Compruebar si hay datos necesarios disponibles para probar estas hipótesis.\n",
    "* Hacer una selección de métodos y modelos adecuados para lograr el objetivo.\n",
    "* Sugerir qué datos deberían recopilarse para una mayor investigación.\n",
    "\n",
    "Esta fase exploratoria marca el camino para el resto de un proyecto de ciencia de datos y, por lo tanto, es una parte crucial del proceso."
   ]
  },
  {
   "cell_type": "code",
   "execution_count": null,
   "id": "7d69d498-5a92-4907-8866-2ff1dfcf52f0",
   "metadata": {
    "tags": []
   },
   "outputs": [],
   "source": [
    "# ver la información básica\n",
    "Housing_df.info()"
   ]
  },
  {
   "cell_type": "markdown",
   "id": "42c240f3-58b5-45dc-828d-e31149428db5",
   "metadata": {},
   "source": [
    "**¿Qué información debemos obtener de info()?**\n",
    "\n",
    "* Total de observaciones: 20640: asegúrese de comprender qué es cada observación. En este caso, cada observación son los datos de un registro.\n",
    "* Columnas totales (Variables): 10\n",
    "* Tipo de datos de cada característica: 9 númericos y 1 objeto (se manejará más adelante)\n",
    "* Significado de cada característica: es muy importante trabajar con un experto en el dominio para comprender completamente cada característica\n",
    "* Valores nulos (por ejemplo, total_bedrooms es 20433, se manejará más adelante)"
   ]
  },
  {
   "cell_type": "code",
   "execution_count": null,
   "id": "b933b509-6c2b-490f-a05f-85e569d8b53a",
   "metadata": {
    "tags": []
   },
   "outputs": [],
   "source": [
    "Housing_df.head()"
   ]
  },
  {
   "cell_type": "markdown",
   "id": "129c3014-ee73-48cb-9b44-308ce1e25352",
   "metadata": {},
   "source": [
    "### **Data Types**\n",
    "\n",
    "head() muestra el valor de las filas superiores, lo que da más idea sobre los tipos de datos. Pandas adivinó los tipos de datos de las características al leer los datos, lo que puede no siempre funcionar. En este conjunto de datos, puede ver que la característica ocean_proximity es texto. A veces, la característica de precio también puede ser de tipo **objeto** porque los datos sin procesar tienen el signo **$**, en cuyo caso necesita convertir el tipo de datos de objeto a **float64** si desea utilizar esta característica en el modelo."
   ]
  },
  {
   "cell_type": "markdown",
   "id": "e6b6aea4-f911-4aec-b439-7702472bc738",
   "metadata": {},
   "source": [
    "### **Estadísticas básicas**\n",
    "\n",
    "describe() muestra un resumen de características numéricas, que se pueden visualizar mediante diagramas de caja e histogramas. value_counts() se puede utilizar para generar un resumen de características categóricas."
   ]
  },
  {
   "cell_type": "code",
   "execution_count": null,
   "id": "ae9c1e57-3e95-4819-b924-c5f753ae1774",
   "metadata": {
    "tags": []
   },
   "outputs": [],
   "source": [
    "Housing_df.describe()"
   ]
  },
  {
   "cell_type": "code",
   "execution_count": null,
   "id": "7fb24612-862c-4d52-ba7b-f23b67d545ff",
   "metadata": {},
   "outputs": [],
   "source": [
    "Housing_df[\"ocean_proximity\"].value_counts()"
   ]
  },
  {
   "cell_type": "code",
   "execution_count": null,
   "id": "75e4ddc8-3b3e-4ab2-bf2d-bc66a144edc1",
   "metadata": {
    "tags": []
   },
   "outputs": [],
   "source": [
    "# Configura el contexto de Seaborn para \"paper\" y aumenta el tamaño de la fuente\n",
    "# y el tamaño de la letra de los títulos y etiquetas de los ejes\n",
    "sns.set_context(\"paper\", rc={\"font.size\":20,\"axes.titlesize\":16,\"axes.labelsize\":11})\n",
    "\n",
    "# Configura el tema o diseño de Seaborn a \"white\"\n",
    "sns.set_theme(style=\"white\")\n",
    "\n",
    "# Crea un diagrama de dispersión de la columna \"ocean_proximity\" del conjunto de datos Housing_df\n",
    "# con el color #f2AB6D, sin KDE, una altura de 6 pulgadas y 15 bins : INTETE CAMBIAR KDE=True\n",
    "# Establece el título, las etiquetas de los ejes y las leyendas del diagrama\n",
    "sns.displot(Housing_df['ocean_proximity'], color='#f2AB6D', kde=False, height=6, bins=15).set(\n",
    "    title='Distribución Ocean Proximity', xlabel='', ylabel='')"
   ]
  },
  {
   "cell_type": "markdown",
   "id": "885e20dc-8133-4524-b777-8952300af0a2",
   "metadata": {},
   "source": [
    "### **Visualización de datos**\n",
    "\n",
    "Otra forma rápida de tener una idea del tipo de datos numéricos que está tratando es trazar uno o más de los siguientes:\n",
    "\n",
    "* **Histogramas**: muestra el número de instancias (en el eje vertical) que tienen un rango de valores determinado (en el eje horizontal). Útil para comprender la forma de una sola variable.\n",
    "* **Mapa de calor de matriz de correlación**: muestra cuánto se correlaciona cada columna entre sí con un degradado de color. Útil para ver rápidamente qué variables se correlacionan más fuertemente con la variable de interés.\n",
    "* **Gráficos de dispersión**: muestra una colección de puntos, cada uno de los cuales tiene el valor de una columna que determina la posición en el eje horizontal y el valor de la otra columna que determina la posición en el eje vertical. Útil para buscar correlaciones visualmente ."
   ]
  },
  {
   "cell_type": "code",
   "execution_count": null,
   "id": "20d3eb76-86ab-489a-8f76-4b30475e6593",
   "metadata": {
    "tags": []
   },
   "outputs": [],
   "source": [
    "# Crea un histograma de cada columna de Housing_df\n",
    "# con 50 bins y un tamaño de figura de 20x15 pulgadas\n",
    "Housing_df.hist(bins=50, figsize=(20,15))\n",
    "\n",
    "# Muestra el histograma\n",
    "plt.show()"
   ]
  },
  {
   "cell_type": "markdown",
   "id": "eab5f896-7b1b-4c3a-bc74-d54cd215e53e",
   "metadata": {},
   "source": [
    "#### **Mapa de calor de matriz de correlación**\n",
    "\n",
    "Para crear el mapa de calor, primero debemos calcular la matriz de correlación de nuestras columnas numéricas."
   ]
  },
  {
   "cell_type": "markdown",
   "id": "8b32c475-aec7-4dde-bf18-8d12eaf73cec",
   "metadata": {},
   "source": [
    "<a href=\"https://en.wikipedia.org/wiki/Correlation\">\n",
    "    <img src=\"images/Correlation_examples2.svg\" width=\"800\" align=\"center\">\n",
    "</a>"
   ]
  },
  {
   "cell_type": "code",
   "execution_count": null,
   "id": "bdea79fc-6582-4fe3-aae0-5f7e7cf738d3",
   "metadata": {
    "tags": []
   },
   "outputs": [],
   "source": [
    "# Esta línea de código crea una nueva figura de Matplotlib con un tamaño de 9x6 pulgadas.\n",
    "plt.figure(figsize=(9,6))\n",
    "\n",
    "# Crea una matriz triangular superior de la matriz de correlación de Housing_df\n",
    "upp_mat = np.triu(Housing_df.corr(numeric_only=True))\n",
    "\n",
    "# Crea un mapa de calor de la matriz de correlación de Housing_df, con los siguientes argumentos:\n",
    "# * vmin = -1: valor mínimo de la matriz de correlación\n",
    "# * vmax = 1: valor máximo de la matriz de correlación\n",
    "# * annot = True: muestra los valores de correlación en el mapa de calor\n",
    "# * cmap = 'coolwarm': usa la paleta de colores 'coolwarm', INTENTE CAMBIAR AL 'viridis'\n",
    "# * mask = upp_mat: enmascara el mapa de calor con la matriz triangular superior\n",
    "sns.heatmap(Housing_df.corr(), vmin = -1, vmax = +1, annot = True, cmap = 'coolwarm', mask = upp_mat)"
   ]
  },
  {
   "cell_type": "markdown",
   "id": "3a5bd41a-4ad1-411c-90b0-7744cc43fdf9",
   "metadata": {},
   "source": [
    "Las variables **total rooms** esta correlacionada con las variable **population** y **households**, de igual manera **median_income** y **median_house_value** tambien tienden a tener una alta correlacion"
   ]
  },
  {
   "cell_type": "markdown",
   "id": "c3b4d4e5-0787-4837-bc59-ea6145514f14",
   "metadata": {},
   "source": [
    "#### **Gráfico de dispersión**\n",
    "\n",
    "Finalmente, otra forma de comprobar las correlaciones es examinar los diagramas de dispersión de cada columna numérica. Esto puede resultar útil para detectar correlaciones no lineales que podrían pasarse por alto en el análisis anterior. Seaborn proporciona una función útil seaborn.pairplotque nos permite ver rápidamente las relaciones entre los datos numéricos:"
   ]
  },
  {
   "cell_type": "code",
   "execution_count": null,
   "id": "df20cbcd-1a50-4a23-8904-813d759a5717",
   "metadata": {
    "tags": []
   },
   "outputs": [],
   "source": [
    "# Crea una lista de variables que se utilizarán en el diagrama de pares\n",
    "attributes = [\"median_house_value\", \"median_income\", \"total_rooms\", \"housing_median_age\"]\n",
    "\n",
    "# Crea un diagrama de pares de las columnas especificadas en la lista de variables, eliminando los valores nulos con dropna()\n",
    "sns.pairplot(Housing_df[attributes].dropna());"
   ]
  },
  {
   "cell_type": "code",
   "execution_count": null,
   "id": "b530abd4-89a4-441c-8737-e04e52b9034a",
   "metadata": {
    "tags": []
   },
   "outputs": [],
   "source": [
    "sns.set_context(\"paper\", rc={\"font.size\":20,\"axes.titlesize\":16,\"axes.labelsize\":13}) \n",
    "sns.set_theme(style=\"white\")\n",
    "\n",
    "sns.displot(Housing_df['median_income'], color='#02AB6D', kde=False, height=5, bins=15).set(\n",
    "    title='Distribución Median Income', xlabel='', ylabel='')"
   ]
  },
  {
   "cell_type": "code",
   "execution_count": null,
   "id": "4e736c29-2172-4bd9-8c13-e358a1bac2c0",
   "metadata": {
    "tags": []
   },
   "outputs": [],
   "source": [
    "sns.set_context(\"paper\", rc={\"font.size\":20,\"axes.titlesize\":16,\"axes.labelsize\":13}) \n",
    "sns.set_theme(style=\"white\")\n",
    "\n",
    "sns.displot(Housing_df['median_house_value'], color='#020B6D', kde=False, height=5, bins=15).set(\n",
    "    title='Distribución Median House Value', xlabel='', ylabel='')"
   ]
  },
  {
   "cell_type": "code",
   "execution_count": null,
   "id": "ab579dde-bbc7-4225-bc49-9b4a885ecaaf",
   "metadata": {},
   "outputs": [],
   "source": []
  },
  {
   "cell_type": "markdown",
   "id": "bd6067be-a2c2-46f4-b2a1-dd5dcc29e300",
   "metadata": {},
   "source": [
    "#### **Boxplot**\n",
    "\n",
    "Un gráfico boxplot, también conocido como diagrama de caja y bigotes, es un tipo de gráfico que se utiliza para representar gráficamente la distribución de una variable numérica. El gráfico está compuesto por seis elementos:\n",
    "\n",
    "* Límite inferior: El valor más pequeño de la muestra.\n",
    "* Primer cuartil (Q1): El valor que deja por debajo el 25% de los datos.\n",
    "* Mediana: El valor que deja por debajo y por encima el 50% de los datos.\n",
    "* Tercer cuartil (Q3): El valor que deja por encima el 75% de los datos.\n",
    "* Límite superior: El valor más grande de la muestra.\n",
    "* Bigotes: Líneas que se extienden desde los cuartiles Q1 y Q3 hasta los valores más extremos de la muestra que no se consideran outliers."
   ]
  },
  {
   "cell_type": "markdown",
   "id": "4b70f179-a4bd-4f58-a0a2-367d70cb53be",
   "metadata": {},
   "source": [
    "<a>\n",
    "    <img src=\"images/Boxplot.png\" width=\"400\" align=\"center\">\n",
    "</a>"
   ]
  },
  {
   "cell_type": "code",
   "execution_count": null,
   "id": "b1b6c47f-eaa2-4c1c-ada2-7b36118c6075",
   "metadata": {
    "tags": []
   },
   "outputs": [],
   "source": [
    "# Crea un diagrama de caja de las columnas \"median_income\" y \"ocean_proximity\" del conjunto de datos Housing_df\n",
    "sns.catplot(x=\"median_income\", y=\"ocean_proximity\", kind=\"box\", data=Housing_df, height = 5)\n",
    "\n",
    "# Agrega un título al diagrama de caja\n",
    "plt.title(\"Salario por proximidad al océano\")"
   ]
  },
  {
   "cell_type": "code",
   "execution_count": null,
   "id": "2a2c6815-eb1a-41dc-8a39-6891b166f971",
   "metadata": {
    "tags": []
   },
   "outputs": [],
   "source": [
    "sns.catplot(x=\"population\", y=\"ocean_proximity\", kind=\"box\", data=Housing_df,  height = 5)\n",
    "plt.title(\"Población por proximidad al océano\")"
   ]
  },
  {
   "cell_type": "code",
   "execution_count": null,
   "id": "d4f5c7d0-fe3c-4574-bcf1-825cdbce20df",
   "metadata": {
    "tags": []
   },
   "outputs": [],
   "source": [
    "sns.catplot(x=\"median_income\", y=\"ocean_proximity\", kind=\"box\", data=Housing_df,  height = 5)\n",
    "plt.title(\"Ingreso medio por proximidad al océano\")"
   ]
  },
  {
   "cell_type": "markdown",
   "id": "2905f8f8-179d-4532-86a1-ae98b3ffbaa9",
   "metadata": {},
   "source": [
    "### Visualización de datos geográficos\n",
    "\n",
    "Hagamos un diagrama de dispersión de los valores de latitud y longitud para ver si podemos identificar algún patrón interesante"
   ]
  },
  {
   "cell_type": "code",
   "execution_count": null,
   "id": "0c660ad8-4adb-42d1-bd39-3c8fed85542f",
   "metadata": {
    "tags": []
   },
   "outputs": [],
   "source": [
    "# Crea una figura de Matplotlib con un tamaño de 6x8 pulgadas\n",
    "figure = plt.figure(figsize=(6,8))\n",
    "\n",
    "# Crea un diagrama de dispersión de las columnas \"longitude\" y \"latitude\" del conjunto de datos Housing_df\n",
    "# con un tamaño de marcador de 15 y un color purpura\n",
    "plt.scatter(Housing_df['longitude'], Housing_df['latitude'], s=15, c='purple')\n",
    "\n",
    "# Muestra el diagrama de dispersión\n",
    "plt.show()"
   ]
  },
  {
   "cell_type": "markdown",
   "id": "35454618-58d2-4427-a93d-c3b564ad3d32",
   "metadata": {},
   "source": [
    "Para que este gráfico sea aún más informativo, coloreemos los puntos según el valor medio de la vivienda; Usaremos el mapa de colores (paleta) de viridis ya que ha sido cuidadosamente diseñado para datos que tienen una naturaleza secuencial (es decir, valores bajos a altos):"
   ]
  },
  {
   "cell_type": "code",
   "execution_count": null,
   "id": "c53721a7-5f91-45b6-a551-303cdfacd8fc",
   "metadata": {
    "tags": []
   },
   "outputs": [],
   "source": [
    "# Crea un diagrama de dispersión de los datos de longitud y latitud del conjunto de datos Housing_df\n",
    "# con una transparencia de 0.1, una paleta de colores viridis y un tamaño de punto proporcional a la población\n",
    "fig = sns.scatterplot(\n",
    "    x=\"longitude\",\n",
    "    y=\"latitude\",\n",
    "    data=Housing_df,\n",
    "    alpha=0.1,\n",
    "    hue=\"median_house_value\",\n",
    "    palette=\"viridis\",\n",
    "    size=Housing_df[\"population\"] / 100\n",
    ")\n",
    "\n",
    "# Coloca la leyenda del diagrama en el centro izquierdo de la figura\n",
    "fig.legend(loc=\"center left\", bbox_to_anchor=(1.01, 0.6), ncol=1);"
   ]
  },
  {
   "cell_type": "markdown",
   "id": "f639026e-5d06-4792-959e-399c893295ee",
   "metadata": {
    "tags": []
   },
   "source": [
    "<a >\n",
    "    <img src=\"images/California_in_United_States.png\" width=\"500\" align=\"center\">\n",
    "</a>\n",
    "\n",
    "**Fuente**: https://es.wikipedia.org/wiki/California"
   ]
  },
  {
   "cell_type": "markdown",
   "id": "b7167dfd-f75c-49e1-893c-9183eafacb12",
   "metadata": {},
   "source": [
    "<h2 id=\"prep\"> Paso 3: Preparación de Datos </h2>"
   ]
  },
  {
   "cell_type": "markdown",
   "id": "0ee32b4e-27d0-43ef-a734-0b09f981b953",
   "metadata": {},
   "source": [
    "### Limpieza de datos\n",
    "\n",
    "Cuando recibe un nuevo conjunto de datos al comienzo de un proyecto, la primera tarea generalmente implica algún tipo de limpieza de datos.\n",
    "\n",
    "Para resolver la tarea en cuestión, es posible que necesite datos de múltiples fuentes que deba combinar en una tabla unificada. Sin embargo, esto suele ser una tarea complicada; Las diferentes fuentes de datos pueden tener diferentes convenciones de nomenclatura, algunas de ellas pueden ser generadas por humanos, mientras que otras son informes automáticos del sistema. Una lista de cosas por las que normalmente tienes que pasar es la siguiente:\n",
    "\n",
    "* Fusionar varias fuentes en una tabla\n",
    "* Eliminar entradas duplicadas\n",
    "* Limpiar entradas corruptas\n",
    "* Manejar datos faltantes\n",
    "\n",
    "Aunque construir algoritmos que sean capaces de clasificar datos o estimar resultados es posiblemente la parte más interesante de la ciencia de datos, la limpieza de datos es la que ocupa la mayor parte del tiempo. Según un estudio de  [CrowdFlower](https://www.forbes.com/sites/gilpress/2016/03/23/data-preparation-most-time-consuming-least-enjoyable-data-science-task-survey-says/?sh=705a6b5d6f63)., los científicos de datos dedican entre el 60% y el 80% de su tiempo a preparar conjuntos de datos para algoritmos de aprendizaje automático."
   ]
  },
  {
   "cell_type": "markdown",
   "id": "56761265-80c1-477c-9d0c-ab781836e7fe",
   "metadata": {},
   "source": [
    "#### **Valores perdidos**\n",
    "En general, los algoritmos de aprendizaje automático no funcionarán con los datos faltantes y, en general, tiene tres opciones para manejarlos:\n",
    "\n",
    "* Deshazte de las filas correspondientes.\n",
    "* Deshacerse de toda la característica o columna\n",
    "* Reemplace los valores faltantes con algún valor como cero o la media, mediana de la columna."
   ]
  },
  {
   "cell_type": "code",
   "execution_count": null,
   "id": "43461370-5e80-4c7f-aea0-f045bb11f9b6",
   "metadata": {
    "tags": []
   },
   "outputs": [],
   "source": [
    "# Verificación de datos\n",
    "print(len(Housing_df))\n",
    "pd.DataFrame(Housing_df).isna().sum()"
   ]
  },
  {
   "cell_type": "markdown",
   "id": "8d4cf121-827f-4083-b5d4-24c370e3608f",
   "metadata": {},
   "source": [
    "Veamos nuestra primera opción para manejar los datos faltantes: deshacernos de las filas. Para lograr esto podemos utilizar el método <code>DataFrame.dropna()</code>  de la siguiente manera:"
   ]
  },
  {
   "cell_type": "code",
   "execution_count": null,
   "id": "8355b43e-d2d7-4897-987a-9161da14f817",
   "metadata": {
    "tags": []
   },
   "outputs": [],
   "source": [
    "Housing_df = Housing_df.dropna()\n",
    "Housing_df"
   ]
  },
  {
   "cell_type": "markdown",
   "id": "eabfd503-0687-4616-890b-41c355e0df48",
   "metadata": {},
   "source": [
    "#### **Ajustar Tipo de dato**"
   ]
  },
  {
   "cell_type": "code",
   "execution_count": null,
   "id": "bdce5794-0146-4b72-a112-676f1b452ae5",
   "metadata": {
    "tags": []
   },
   "outputs": [],
   "source": [
    "Housing_df.info()"
   ]
  },
  {
   "cell_type": "markdown",
   "id": "fd57602d-000e-4c94-b647-95020eb46766",
   "metadata": {},
   "source": [
    "pandas tiene un tipo categórico especial para almacenar datos que utiliza la representación o codificación categórica basada en números enteros. Por ejemplo, <code>Housing_df['ocean_proximity']</code> es un pandas. Serie de objetos de cadena de Python <code>['NEAR BAY', '<1H OCEAN', 'INLAND', 'NEAR OCEAN', 'ISLAND ']</code>. Podemos convertir una columna <code>pandas.DataFrame</code> a categórica de la siguiente manera:"
   ]
  },
  {
   "cell_type": "code",
   "execution_count": null,
   "id": "415d73ff-5868-4c25-b282-d61061c58cd0",
   "metadata": {
    "tags": []
   },
   "outputs": [],
   "source": [
    "Housing_df['ocean_proximity'] = Housing_df['ocean_proximity'].astype('category')\n",
    "\n",
    "Housing_df.info()"
   ]
  },
  {
   "cell_type": "markdown",
   "id": "d32da669-3088-428f-99ab-18ebc05aca0a",
   "metadata": {},
   "source": [
    "#### Selección de Variables\n",
    "\n",
    "Hay varias razones por las que se podría quitar una categoría de una variable a predecir. Algunas de las razones más comunes son:\n",
    "\n",
    "* **La categoría es demasiado pequeña**. Si una categoría es muy pequeña, puede no tener suficiente información para entrenar un modelo de aprendizaje automático. Esto puede conducir a un modelo que no es preciso o que no es capaz de generalizar a nuevos datos.\n",
    "* **La categoría es irrelevante para la predicción**. Si una categoría no está relacionada con la variable a predecir, no es necesario incluirla en el modelo. Esto puede ayudar a mejorar la precisión del modelo.\n",
    "* **La categoría es problemática**. Si una categoría contiene datos erróneos o incompletos, puede ser mejor quitarla del modelo. Esto puede evitar que el modelo aprenda de datos incorrectos."
   ]
  },
  {
   "cell_type": "markdown",
   "id": "2224bc6c-bc53-4f1e-92dd-89759563fa6c",
   "metadata": {},
   "source": [
    "En este caso la categoria **ISLAN** de la variable **ocean_proximity** tienen solo 5 registros lo que para la creación de un modelo son muy pocos registros, dado que es muy probable que no quede bien entrenada esta categoria mejor la retiramos del proceso de modelado"
   ]
  },
  {
   "cell_type": "code",
   "execution_count": null,
   "id": "0669233c-375c-4048-a490-94729775a2cc",
   "metadata": {
    "tags": []
   },
   "outputs": [],
   "source": [
    "filtro = Housing_df['ocean_proximity'] != 'ISLAND'\n",
    "Housing_df = Housing_df[filtro]"
   ]
  },
  {
   "cell_type": "code",
   "execution_count": null,
   "id": "e8dbda6f-cda8-4ce0-a7d6-90c0fea011ea",
   "metadata": {
    "tags": []
   },
   "outputs": [],
   "source": [
    "Housing_df.head()"
   ]
  },
  {
   "cell_type": "markdown",
   "id": "b13db8f7-5323-4097-907c-343fabddeaf0",
   "metadata": {},
   "source": [
    "#### **Combinaciones de atributos**\n",
    "\n",
    "En algún momento, las combinaciones de atributos son más significativas e interesantes en términos de resolver los problemas comerciales, por ejemplo,\n",
    "\n",
    "* Habitaciones por hogar: el número total de habitaciones por distrito no es útil, pero las habitaciones por hogar pueden ser interesantes.\n",
    "* relación dormitorio/habitación total\n",
    "* población por hogar"
   ]
  },
  {
   "cell_type": "code",
   "execution_count": null,
   "id": "ff3f7d25-02e4-4c19-899a-4dc00ec16293",
   "metadata": {
    "tags": []
   },
   "outputs": [],
   "source": [
    "# calculated attributes\n",
    "Housing_df['rooms_per_household'] = Housing_df['total_rooms']/Housing_df['households']\n",
    "Housing_df['bedrooms_per_room'] = Housing_df['total_bedrooms']/Housing_df['total_rooms']\n",
    "Housing_df['population_per_household'] = Housing_df['population']/Housing_df['households']"
   ]
  },
  {
   "cell_type": "code",
   "execution_count": null,
   "id": "e4afd1ef-3af8-4a99-8dd3-bf08d8c8785f",
   "metadata": {
    "tags": []
   },
   "outputs": [],
   "source": [
    "# checkout the correlations again\n",
    "corr_matrix = Housing_df.corr()\n",
    "corr_matrix['median_house_value'].sort_values(ascending=False)"
   ]
  },
  {
   "cell_type": "markdown",
   "id": "cc32c74a-a697-45f4-abb0-6549b4e775cb",
   "metadata": {},
   "source": [
    "Dos hallazgos después de combinar atributos:\n",
    "\n",
    "* rooms_per_household está ligeramente más correlacionado (0,146285) con el valor de la casa que total_rooms (0,135097)\n",
    "* bedrooms_per_room está mucho más correlacionado (-0,259984) que total_rooms (0,135097) y total_bedrooms (0,047689): las casas con una menor relación bedroom/room son más caras: esto tiene sentido, las casas más caras pueden tener más oficinas, estudios, salas de juegos, etc."
   ]
  },
  {
   "cell_type": "markdown",
   "id": "ad629f5e-ec24-49bb-a66b-0ad30f27554b",
   "metadata": {},
   "source": [
    "#### **Text and Categorial Attributes**\n",
    "\n",
    "La mayoría de los algoritmos de ML funcionan mejor con números. Por lo tanto, a menudo necesitamos convertir atributos de texto en atributos numéricos. Para ocean_proximity, tenemos dos formas de manejar este problema:\n",
    "\n",
    "* Asigne cada categoría a un número, como \"<1H OCEAN\" es 0, \"INLAND\" es 1, 'NEAR OCEAN' es 4, etc. El problema con esta solución es que el algoritmo ML puede pensar que 4 es mayor que 0, lo que podría causar un problema.\n",
    "* Para solucionar el problema en 1, también podemos crear una variable binaria para cada atributo, lo que se denomina codificación one-hot (solo una es 1 hot, todas las demás son 0 cold)\n"
   ]
  },
  {
   "cell_type": "markdown",
   "id": "73510ead-9706-4332-84ff-35a97374d676",
   "metadata": {},
   "source": [
    "##### **ONE-HOT Encoding**"
   ]
  },
  {
   "cell_type": "markdown",
   "id": "d6f5c17f-d5c8-428a-baaf-d2ab8b13b148",
   "metadata": {},
   "source": [
    "La codificación **one-hot** es una técnica utilizada para representar datos categóricos como vectores numéricos. Esto es necesario para los algoritmos de aprendizaje automático, que normalmente requieren entradas numéricas. La codificación one-hot funciona creando una nueva variable binaria para cada categoría única en la variable categórica. El valor de cada variable binaria es 1 si la categoría correspondiente está presente y 0 en caso contrario."
   ]
  },
  {
   "cell_type": "code",
   "execution_count": null,
   "id": "3aae60c4-6837-48ff-979e-921d05a2331d",
   "metadata": {
    "tags": []
   },
   "outputs": [],
   "source": [
    "Housing_df.head(2)"
   ]
  },
  {
   "cell_type": "markdown",
   "id": "078ebcfe-6034-4795-8e06-1b25ad106acd",
   "metadata": {},
   "source": [
    "<a >\n",
    "    <img src=\"images/One-Hot-Encoding.png\" width=\"500\" align=\"center\">\n",
    "</a>\n",
    "\n",
    "**Fuente**: https://datagy.io/sklearn-one-hot-encode/"
   ]
  },
  {
   "cell_type": "markdown",
   "id": "e74cccde-64ec-4ea6-93ba-34b7be138c5c",
   "metadata": {},
   "source": [
    "Por lo tanto, un enfoque alternativo es aplicar una técnica conocida como codificación **one-hot**, donde creamos una característica binaria por categoría. En pandas podemos hacer esto simplemente ejecutando <code>pandas.get_dummies()</code>"
   ]
  },
  {
   "cell_type": "code",
   "execution_count": null,
   "id": "61938794-52c7-44d5-b5f1-34b3af2c80a8",
   "metadata": {
    "tags": []
   },
   "outputs": [],
   "source": [
    "Housing_df = pd.get_dummies(Housing_df)\n",
    "Housing_df.head()"
   ]
  },
  {
   "cell_type": "markdown",
   "id": "646a0f59-74bc-4507-bfbf-3731f6e50467",
   "metadata": {},
   "source": [
    "<h2 id=\"mod\"> Paso 4: Modelamiento </h2>"
   ]
  },
  {
   "cell_type": "markdown",
   "id": "d8cf3f10-de05-4803-acb4-187e1a7a8ea4",
   "metadata": {},
   "source": [
    "### **Creación de muestras para entrenamiento y validación**"
   ]
  },
  {
   "cell_type": "markdown",
   "id": "6bf4df4f-aee1-4163-8a54-67d5c2f60e48",
   "metadata": {},
   "source": [
    "La variable X se asigna a un subconjunto de Housing_df sin la columna median_house_value. Para ello, se utiliza el método <code>drop()</code> del DataFrame. El primer argumento de drop() es el nombre de la columna que queremos eliminar. El segundo argumento, <code>axis=1</code>, indica que queremos eliminar una columna, no una fila.\n",
    "\n",
    "La variable y se asigna a un subconjunto de Housing_df que solo contiene la columna ,<code>median_house_value</code>."
   ]
  },
  {
   "cell_type": "code",
   "execution_count": null,
   "id": "ff61f6d0-05ca-4e53-a9c0-d5c0094419ad",
   "metadata": {
    "tags": []
   },
   "outputs": [],
   "source": [
    "X = Housing_df.drop('median_house_value', axis=1)\n",
    "y = Housing_df['median_house_value']"
   ]
  },
  {
   "cell_type": "markdown",
   "id": "d5ab3284-d660-490b-ba8d-4873625f6fb4",
   "metadata": {},
   "source": [
    "Una forma de medir qué tan bien se generalizará un modelo a casos nuevos es dividir los datos en dos conjuntos: **el conjunto de entrenamiento** y el **conjunto de validación**. Como lo implican estos nombres, usted entrena su modelo usando el conjunto de entrenamiento y lo valida usando el conjunto de validación. La tasa de error en el conjunto de validación es una medida que se utiliza como referencia para saber si el modelo se ajusta bien a datos con los cuales no fueron entrenados"
   ]
  },
  {
   "cell_type": "code",
   "execution_count": null,
   "id": "6cc98054-3c49-4ed9-8547-a9b3fb199fe5",
   "metadata": {
    "tags": []
   },
   "outputs": [],
   "source": [
    "# Dividimos el conjunto de datos `X` y `y` en dos conjuntos: un conjunto de entrenamiento `X_train` y `y_train`, \n",
    "# y un conjunto de validación `X_valid` y `y_valid`.\n",
    "# El argumento `test_size` especifica el porcentaje de datos que queremos asignar al conjunto de validación.\n",
    "# El argumento `random_state` se utiliza para garantizar que la división del conjunto de datos sea reproducible.\n",
    "X_train, X_valid, y_train, y_valid = train_test_split(X, y, test_size=0.2, random_state=42)\n",
    "\n",
    "# Imprimimos el número de filas de los conjuntos de entrenamiento y validación.\n",
    "# Esto nos permite comprobar que la división del conjunto de datos se ha realizado correctamente.\n",
    "print(f'{len(X_train)} filas de entrenamiento + {len(X_valid)} filas de validación')"
   ]
  },
  {
   "cell_type": "markdown",
   "id": "440e0a18-08dd-40ff-9367-172a95da9e2c",
   "metadata": {},
   "source": [
    "### **Selección del modelo**"
   ]
  },
  {
   "cell_type": "markdown",
   "id": "97781724-223a-4379-bc53-b2df6039486b",
   "metadata": {},
   "source": [
    "Podemos utilizar esta función para entrenar un modelo de regresión aleatoria para predecir el precio de una casa.\n",
    "\n",
    "Para ello, primero debemos crear un objeto <code>RandomForestRegressor</code>.\n",
    "A continuación, podemos entrenar el modelo utilizando la función <code>fit()</code>.\n",
    "La función <code>fit()</code> toma los argumentos <code>X_train y y_train</code>.\n",
    "Una vez que el modelo haya sido entrenado, podemos utilizarlo para predecir el precio de una casa nueva."
   ]
  },
  {
   "cell_type": "markdown",
   "id": "0af7a04b-cce9-4792-8524-5f180d6ab4c7",
   "metadata": {},
   "source": [
    "El módulo <code>RandomForestRegressor</code> nos permite crear modelos de regresión aleatoria.\n",
    "Un modelo de regresión aleatoria es un tipo de modelo de aprendizaje automático que utiliza un conjunto de árboles de decisión para hacer predicciones.\n",
    "\n",
    "Los árboles de decisión son una forma de <code>aprendizaje automático supervisado</code> que se utiliza para clasificar o **predecir valores continuos**, funcionan dividiendo el espacio de datos en regiones, cada una de las cuales se asigna a una clase o valor.\n",
    "\n",
    "Un modelo de regresión aleatoria funciona construyendo un conjunto de árboles de decisión de forma aleatoria, esto ayuda a reducir el riesgo de sobreajuste."
   ]
  },
  {
   "cell_type": "code",
   "execution_count": null,
   "id": "5d673502-4f40-4f09-b4f0-dd310a5e9f4d",
   "metadata": {
    "tags": []
   },
   "outputs": [],
   "source": [
    "# Importamos el módulo `RandomForestRegressor` de la librería `sklearn.ensemble`\n",
    "\n",
    "from sklearn.ensemble import RandomForestRegressor"
   ]
  },
  {
   "cell_type": "markdown",
   "id": "10770842-bc7a-4b00-a32b-9c83f9aced95",
   "metadata": {},
   "source": [
    "<a >\n",
    "    <img src=\"images/random-forest-algorithm.png\" width=\"500\" align=\"center\">\n",
    "</a>\n",
    "\n",
    "**Fuente**: https://www.analyticsvidhya.com/blog/2021/06/understanding-random-forest/"
   ]
  },
  {
   "cell_type": "markdown",
   "id": "a2bd47a8-db07-4a2f-a5a5-3b2a74c4ebcf",
   "metadata": {},
   "source": [
    "En el caso de que la variable a predecir sea **categórica** como es el caso de la imagen anterior se selecciona el resultado usando la clase con mayor votación en cada arbol, en caso de que sea **numérica** la variable a predecir, se obtiene el resultado a traves de un promedio entre todos los arboles."
   ]
  },
  {
   "cell_type": "code",
   "execution_count": null,
   "id": "995a9cf9-93ed-49cd-81a4-53c7c4353b38",
   "metadata": {},
   "outputs": [],
   "source": [
    "# El parámetro `n_estimators` especifica el número de árboles que queremos utilizar en el modelo.\n",
    "# El parámetro `n_jobs` especifica el número de núcleos que queremos utilizar para entrenar el modelo.\n",
    "# El parámetro `random_state` se utiliza para garantizar que la creación del modelo sea reproducible.\n",
    "\n",
    "model = RandomForestRegressor(n_estimators=10, n_jobs=-1, random_state=42)"
   ]
  },
  {
   "cell_type": "code",
   "execution_count": null,
   "id": "dce6675a-91e1-4bd2-ab04-c8e7a48233f5",
   "metadata": {},
   "outputs": [],
   "source": [
    "# La función `fit()` toma los siguientes argumentos:\n",
    "#\n",
    "# * `X`: El conjunto de datos de entrada.\n",
    "# * `y`: La variable objetivo.\n",
    "\n",
    "# La función devuelve el modelo entrenado.\n",
    "\n",
    "model.fit(X_train, y_train)"
   ]
  },
  {
   "cell_type": "markdown",
   "id": "890d14e8-5e07-48c1-9259-40eeb48805be",
   "metadata": {},
   "source": [
    "<h2 id=\"eva\"> Paso 5: Evalucación </h2>"
   ]
  },
  {
   "cell_type": "code",
   "execution_count": null,
   "id": "b9e91783-cfa5-4f44-bb28-6ffd2160af34",
   "metadata": {
    "tags": []
   },
   "outputs": [],
   "source": [
    "# A continuación, podemos utilizar la función `predict()` para realizar predicciones sobre el conjunto de datos de validación.\n",
    "# Las predicciones se pueden utilizar para evaluar el rendimiento del modelo.\n",
    "\n",
    "y_pred = model.predict(X_valid)"
   ]
  },
  {
   "cell_type": "code",
   "execution_count": null,
   "id": "8a2591ed-b8b6-4126-9f5b-a36cfd861f6f",
   "metadata": {},
   "outputs": [],
   "source": [
    "# Calculamos el error absoluto medio entre las predicciones y los valores reales del conjunto de validación.\n",
    "# El error absoluto medio es una métrica de evaluación que mide la diferencia promedio entre las predicciones\n",
    "# y los valores reales.\n",
    "\n",
    "mean_absolute_error(y_valid, y_pred)"
   ]
  },
  {
   "cell_type": "markdown",
   "id": "36d134d5-dbcd-4074-9fdb-d72d391a7c1c",
   "metadata": {},
   "source": [
    "Para tener una idea de la frecuencia con la que nuestro modelo predice valores cercanos a los valores esperados, trazaremos las etiquetas **median_house_value** reales del conjunto de datos de prueba con el valor predicho generado por nuestro modelo final:"
   ]
  },
  {
   "cell_type": "code",
   "execution_count": null,
   "id": "a3a28538-ec3f-4327-a9ab-ee66e2cc3900",
   "metadata": {
    "tags": []
   },
   "outputs": [],
   "source": [
    "def plot_prediction_error(fitted_model, X, y):\n",
    "    \"\"\"\n",
    "     Una función de utilidad para visualizar los errores de predicción de los modelos de regresión.\n",
    "    \n",
    "     Argumentos:\n",
    "         fitted_model: un modelo de regresión de aprendizaje científico.\n",
    "         X: La matriz de características sobre la que generar predicciones.\n",
    "         y: el vector objetivo compara las predicciones.\n",
    "     \"\"\"\n",
    "    y_pred = model.predict(X)\n",
    "    plt.figure(figsize=(8, 4))\n",
    "    sns.scatterplot(x=y, y=y_pred)\n",
    "    sns.lineplot(x=[y.min(), y.max()], y=[y.min(), y.max()], lw=2, color=\"r\")\n",
    "    plt.xlabel(\"Actual: Median House Price\")\n",
    "    plt.ylabel(\"predicción: Median House Price\")\n",
    "    plt.title(f\"Error de Predicción del modelo {model.__class__.__name__}\")\n",
    "    plt.show()"
   ]
  },
  {
   "cell_type": "code",
   "execution_count": null,
   "id": "b2f61a64-9e11-4e99-ace1-c7c1619885d1",
   "metadata": {
    "tags": []
   },
   "outputs": [],
   "source": [
    "plot_prediction_error(model, X_valid, y_valid)"
   ]
  },
  {
   "cell_type": "markdown",
   "id": "1290e91b-ca2a-41fb-9e57-a62b5c70eb72",
   "metadata": {},
   "source": [
    "Lo que buscamos aquí es una relación clara y lineal entre los valores previstos y reales. La **línea roja** denota lo que podría considerarse un modelo \"óptimo\", por lo que queremos que nuestros puntos se agrupen alrededor de esta línea. Podemos ver que, aparte de algunos valores atípicos, el bosque aleatorio funciona bastante bien. (De hecho, esos valores atípicos podrían sugerir que algo anda mal con los datos o que estas casas son especiales por razones que no se reflejan en los datos, lo que podria sugerir que encontrar mas variables para entrenar el modelo puede ser util)"
   ]
  },
  {
   "cell_type": "code",
   "execution_count": null,
   "id": "1b0f7590-6101-45e3-9966-a15a908f0115",
   "metadata": {
    "tags": []
   },
   "outputs": [],
   "source": [
    "from sklearn.metrics import mean_squared_error, r2_score"
   ]
  },
  {
   "cell_type": "markdown",
   "id": "7ed65245-658a-428f-9b61-313015351c4e",
   "metadata": {},
   "source": [
    "**La Raíz del Error Cuadrático Medio (RMSE)** es una métrica relacionada con el **Error Cuadrático Medio (ECM)** que se utiliza comúnmente para evaluar el rendimiento de modelos de regresión. La principal diferencia entre el ECM y el RMSE es que el RMSE toma la raíz cuadrada del ECM, lo que lo convierte en una medida en la misma escala que los valores reales. Esto facilita la interpretación, ya que el RMSE se expresa en las mismas unidades que la variable objetivo.\n",
    "\n",
    "Supongamos que estamos construyendo un modelo de regresión para predecir las ventas mensuales de una tienda en función de variables como el gasto en publicidad, el precio de los productos, el tamaño de la tienda, etc. Después de entrenar el modelo y usarlo para hacer predicciones, calculamos el RMSE.\n",
    "\n",
    "\n",
    "Si el RMSE es, por ejemplo, 1000, esto significa que, en promedio, nuestras predicciones tienen un error de 1000 unidades en términos de ventas mensuales. En este caso, el RMSE se expresa en la misma unidad que las ventas, lo que facilita la interpretación. Cuanto menor sea el RMSE, mejor será el rendimiento del modelo, ya que indicaría que las predicciones se acercan más a los valores reales de las ventas.\n"
   ]
  },
  {
   "cell_type": "markdown",
   "id": "b73f82d8-00af-4d6e-bc36-749d177179c9",
   "metadata": {},
   "source": [
    "**El coeficiente de determinación R^2**  es una métrica comúnmente utilizada para evaluar el rendimiento de un modelo de regresión. R^2 mide la proporción de la variabilidad en la variable dependiente (variable objetivo) que es explicada por el modelo. Puede tomar valores entre 0 y 1, donde:\n",
    "\n",
    "R^2 = 0: El modelo no explica ninguna variabilidad en los datos. Las predicciones son tan malas como simplemente usar la media de la variable dependiente.\n",
    "\n",
    "R^2 = 1: El modelo explica toda la variabilidad en los datos. Las predicciones del modelo coinciden perfectamente con los valores reales."
   ]
  },
  {
   "cell_type": "code",
   "execution_count": null,
   "id": "cca34c32-f190-46c8-b978-ac5c948dce76",
   "metadata": {},
   "outputs": [],
   "source": [
    "def rmse(y, yhat):\n",
    "    \"\"\"Una función de utilidad para calcular el error cuadrático medio (RMSE).\n",
    "    \n",
    "     Argumentos:\n",
    "         y: valores reales para el objetivo.\n",
    "         yhat : Las predicciones.\n",
    "        \n",
    "     Devoluciones:\n",
    "         rmse: El RMSE.\n",
    "    \"\"\"\n",
    "    return np.sqrt(mean_squared_error(y, yhat))"
   ]
  },
  {
   "cell_type": "code",
   "execution_count": null,
   "id": "266e9613-a0e2-4293-958d-5de03cd17259",
   "metadata": {
    "tags": []
   },
   "outputs": [],
   "source": [
    "def print_rf_scores(fitted_model):\n",
    "    \"\"\"Genera puntuaciones RMSE y R^2 a partir del modelo Random Forest.\"\"\"\n",
    "\n",
    "    yhat_train = fitted_model.predict(X_train)\n",
    "    R2_train = fitted_model.score(X_train, y_train)\n",
    "    yhat_valid = fitted_model.predict(X_valid)\n",
    "    R2_valid = fitted_model.score(X_valid, y_valid)\n",
    "\n",
    "    scores = {\n",
    "        \"RMSE en entrenamiento:\": rmse(y_train, yhat_train),\n",
    "        \"R^2 en entrenamiento:\": R2_train,\n",
    "        \"RMSE en validación:\": rmse(y_valid, yhat_valid),\n",
    "        \"R^2 en validación:\": R2_valid,\n",
    "    }\n",
    "    if hasattr(fitted_model, \"oob_score_\"):\n",
    "        scores[\"OOB R^2:\"] = fitted_model.oob_score_\n",
    "\n",
    "    for score_name, score_value in scores.items():\n",
    "        print(score_name, round(score_value, 3))"
   ]
  },
  {
   "cell_type": "code",
   "execution_count": null,
   "id": "f8315ad3-6479-4cae-9a7b-50ac3a039981",
   "metadata": {
    "tags": []
   },
   "outputs": [],
   "source": [
    "print_rf_scores(model)"
   ]
  },
  {
   "cell_type": "markdown",
   "id": "c61e7bb5-664a-4266-863b-fdd337fcf050",
   "metadata": {},
   "source": [
    "En la práctica, podemos obtener una visión global clasificando cada característica (variable independiente) en términos de su importancia para las predicciones del modelo. En scikit-learn, el modelo Random Forest tiene un atributo llamado <code>feature_importances_</code> que podemos usar para clasificar cada característica:"
   ]
  },
  {
   "cell_type": "code",
   "execution_count": null,
   "id": "3e202b05-dd05-45ec-8c2a-94858e81d76f",
   "metadata": {
    "tags": []
   },
   "outputs": [],
   "source": [
    "def rf_feature_importance(fitted_model, df):\n",
    "    '''\n",
    "    La función `rf_feature_importance()` devuelve un DataFrame con las siguientes columnas:\n",
    "    * `Column`: El nombre de la característica.\n",
    "    * `Importance`: La importancia de la característica.\n",
    "\n",
    "    La importancia de una característica se calcula como la contribución de la característica a la precisión del modelo.\n",
    "\n",
    "    La función `sort_values()` ordena el DataFrame por la columna `Importance`, de mayor a menor.\n",
    "    '''\n",
    "    return pd.DataFrame(\n",
    "        {\"Column\": df.columns, \"Importance\": fitted_model.feature_importances_}\n",
    "    ).sort_values(\"Importance\", ascending=False)"
   ]
  },
  {
   "cell_type": "code",
   "execution_count": null,
   "id": "0205f799-d39d-40d7-89a0-71b133e450bb",
   "metadata": {
    "tags": []
   },
   "outputs": [],
   "source": [
    "feature_importance = rf_feature_importance(model, X)\n",
    "\n",
    "# echa un vistazo a las 10 variables principales\n",
    "feature_importance[:10]"
   ]
  },
  {
   "cell_type": "markdown",
   "id": "6525774f-76d2-46f8-a015-73e66ba1021b",
   "metadata": {},
   "source": [
    "En la tabla vemos que **median_income**, la **proximidad del océano EN TIERRA** y la **población por hogar** son las características más importantes; esto no es del todo sorprendente ya que el ingreso y la ubicación de la casa parecen ser buenos indicadores del valor de la misma. También podemos trazar la importancia de la característica para obtener una comprensión visual:"
   ]
  },
  {
   "cell_type": "code",
   "execution_count": null,
   "id": "94dec47b-9938-4887-b001-01ebd20840cb",
   "metadata": {
    "tags": []
   },
   "outputs": [],
   "source": [
    "def plot_feature_importance(feature_importance):\n",
    "    return sns.barplot(y=\"Column\", x=\"Importance\", data=feature_importance, color='b')\n",
    "\n",
    "plot_feature_importance(feature_importance);"
   ]
  },
  {
   "cell_type": "markdown",
   "id": "6371fd3e-17db-4578-b4df-ce2b089bc356",
   "metadata": {},
   "source": [
    "<hr>"
   ]
  },
  {
   "cell_type": "markdown",
   "id": "f9205d10-5dc2-4d9a-9519-b6fba2903d24",
   "metadata": {},
   "source": [
    "<div class=\"alert alert-block alert-info\" style=\"margin-top: 20px\">\n",
    "\n",
    "<h2>Felicitaciones por llegar hasta aquí!</h2>\n",
    "\n",
    "¡Has completado una nueva hazaña!\n",
    "\n",
    "Has aprendido mucho sobre como llevar un proyecto de I.A.\n",
    "\n",
    "\n",
    "<h3>¡Sigue aprendiendo y creciendo!</h3>\n",
    "    \n",
    "</div>"
   ]
  },
  {
   "cell_type": "markdown",
   "id": "2f9a6d35-ebd1-43cd-8a33-a767ff4bfc13",
   "metadata": {},
   "source": [
    "<hr>"
   ]
  },
  {
   "cell_type": "markdown",
   "id": "eabc8ec8-e8fd-48e5-bbf5-921b9d49160b",
   "metadata": {},
   "source": [
    "<h2>Autores y colaborares:</h2> \n",
    "\n",
    "\n",
    "<a href=\"https://www.linkedin.com/in/robinssondeantonio/\" title=\"Robinsson Deantonio\"> Robinsson S. Deantonio</a> \n",
    "\n",
    "Basado en el trabajo de\n",
    "<a href=\"https://lewtun.github.io/dslectures/\" title=\"lewtun.github\"> lewtun.github </a> \n"
   ]
  },
  {
   "cell_type": "markdown",
   "id": "481d5401-d356-42a1-981b-c562139136ea",
   "metadata": {},
   "source": [
    "<hr>"
   ]
  },
  {
   "cell_type": "markdown",
   "id": "72f98c25-a16f-469a-8b5b-3f49a9948a4c",
   "metadata": {},
   "source": [
    "<p>Copyright &copy; 2023. Este cuaderno y su código fuente se publican según los términos del <a href=\"https://cognitiveclass.ai/mit-license/\">MIT License</a>.</p>"
   ]
  }
 ],
 "metadata": {
  "kernelspec": {
   "display_name": "Python 3 (ipykernel)",
   "language": "python",
   "name": "python3"
  },
  "language_info": {
   "codemirror_mode": {
    "name": "ipython",
    "version": 3
   },
   "file_extension": ".py",
   "mimetype": "text/x-python",
   "name": "python",
   "nbconvert_exporter": "python",
   "pygments_lexer": "ipython3",
   "version": "3.10.9"
  }
 },
 "nbformat": 4,
 "nbformat_minor": 5
}
