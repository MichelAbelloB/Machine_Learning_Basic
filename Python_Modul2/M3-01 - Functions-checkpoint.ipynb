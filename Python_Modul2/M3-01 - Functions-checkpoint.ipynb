{
 "cells": [
  {
   "cell_type": "markdown",
   "metadata": {},
   "source": [
    "<a href=\"https://albertomerani.org/\">\n",
    "    <img src=\"images/Merani2.png\" width=\"1000\" align=\"center\">\n",
    "</a>"
   ]
  },
  {
   "cell_type": "markdown",
   "metadata": {},
   "source": [
    "<h1>Funciones en Python</h1>"
   ]
  },
  {
   "cell_type": "markdown",
   "metadata": {},
   "source": [
    "<h2>Tabla de contenidos</h2>\n",
    "<div class=\"alert alert-block alert-info\" style=\"margin-top: 20px\">\n",
    "    <ul>\n",
    "         <li>\n",
    "             <a href=\"#func\">Funciones</a>\n",
    "             <ul>\n",
    "                 <li><a href=\"content\">¿Qué es una función?</a></li>\n",
    "                 <li><a href=\"var\">Variables</a></li>\n",
    "                 <li><a href=\"simple\">Las funciones simplifican las cosas</a></li>\n",
    "             </ul>\n",
    "         </li>\n",
    "         <li><a href=\"pre\">Funciones predefinidas</a></li>\n",
    "         <li><a href=\"if\">Uso de sentencias y bucles <code>if</code>/<code>else</code> en funciones</a></li>\n",
    "         <li><a href=\"default\">Establecer valores de argumento predeterminados en sus funciones personalizadas</a></li>\n",
    "         <li><a href=\"global\">Variables globales</a></li>\n",
    "         <li><a href=\"scope\">Alcance de una variable</a></li>\n",
    "         <li>\n",
    "             <a href=\"#quiz\">Prueba sobre bucles</a>\n",
    "         </li>\n",
    "     </ul>\n",
    "</div>\n",
    "\n",
    "<hr>"
   ]
  },
  {
   "cell_type": "markdown",
   "metadata": {},
   "source": [
    "<h2 id=\"func\">Funciones</h2>"
   ]
  },
  {
   "cell_type": "markdown",
   "metadata": {},
   "source": [
    "Una función es un bloque de código reutilizable que realiza operaciones especificadas en la función. Le permiten dividir tareas y reutilizar su código en diferentes programas.\n",
    "\n",
    "Hay dos tipos de funciones:\n",
    "\n",
    "- <b>Funciones predefinidas</b>\n",
    "- <b>Funciones definidas por el usuario</b>"
   ]
  },
  {
   "cell_type": "markdown",
   "metadata": {},
   "source": [
    "<h3 id=\"content\">¿Qué es una función?</h3>"
   ]
  },
  {
   "cell_type": "markdown",
   "metadata": {},
   "source": [
    "Puede definir funciones para proporcionar la funcionalidad requerida. Aquí hay reglas simples para definir una función en Python:\n",
    "- Los bloques de funciones comienzan <code>def</code> seguido de la función <code>name</code> y paréntesis <code>()</code>.\n",
    "- Hay parámetros de entrada o argumentos que deben colocarse dentro de estos paréntesis.\n",
    "- También puedes definir parámetros dentro de estos paréntesis.\n",
    "- Hay un cuerpo dentro de cada función que comienza con dos puntos (<code>:</code>) y tiene sangría.\n",
    "- También puedes colocar documentación ante el organismo.\n",
    "- La declaración <code>return</code> sale de una función y, opcionalmente, devuelve un valor.\n",
    "\n",
    "Un ejemplo de una función que se suma al parámetro <code>a</code> imprime y devuelve la salida como <code>b</code>:"
   ]
  },
  {
   "cell_type": "markdown",
   "metadata": {
    "tags": []
   },
   "source": [
    "<h3 id=\"why\">¿Por qué necesitamos usar funciones en Python?</h3>"
   ]
  },
  {
   "cell_type": "markdown",
   "metadata": {},
   "source": [
    "Una función es un fragmento de código de un programa que realiza una tarea específica. A continuación se presentan algunas razones clave para usar funciones en Python. Ellos son:\n",
    "\n",
    "1. Las funciones ayudan a reducir el código duplicado. Pueden convertir un programa largo en uno más pequeño. Podemos evitar la repetición de código requerido con frecuencia usando funciones.\n",
    "Más adelante, si necesitamos realizar un cambio en el código, podremos actualizarlo fácilmente en un solo lugar. Por lo tanto, la depuración del código resulta sencilla.\n",
    "\n",
    "2. Dividir un programa largo y complejo en funciones nos permite depurar cada segmento uno a la vez y luego ensamblarlos en un todo funcional.\n",
    "\n",
    "3. Podemos agrupar todas las declaraciones relacionadas lógicamente en una entidad usando funciones en Python. La función hace que el programa sea fácil de leer, comprender y depurar. Mejora la claridad del código.\n",
    "\n",
    "4. Una vez que escribimos el código dentro de la función y lo probamos, podemos reutilizar este código según el requisito. La reutilización es el uso significativo de funciones en Python"
   ]
  },
  {
   "cell_type": "code",
   "execution_count": null,
   "metadata": {
    "tags": []
   },
   "outputs": [],
   "source": [
    "def suma(a, b):\n",
    "    \"\"\"Esta función suma dos números, 'a' y 'b', y devuelve el resultado.\"\"\"\n",
    "    resultado = a + b\n",
    "    return resultado"
   ]
  },
  {
   "cell_type": "markdown",
   "metadata": {},
   "source": [
    "La siguiente figura ilustra la terminología:"
   ]
  },
  {
   "cell_type": "markdown",
   "metadata": {},
   "source": [
    "<img src=\"images/python-function-definition.png\" width=\"500\" /> "
   ]
  },
  {
   "cell_type": "markdown",
   "metadata": {},
   "source": [
    "Podemos obtener ayuda sobre una función:"
   ]
  },
  {
   "cell_type": "code",
   "execution_count": null,
   "metadata": {
    "tags": []
   },
   "outputs": [],
   "source": [
    "# Obtenga ayuda sobre la función agregar\n",
    "\n",
    "help(suma)"
   ]
  },
  {
   "cell_type": "markdown",
   "metadata": {},
   "source": [
    "We can call the function:"
   ]
  },
  {
   "cell_type": "code",
   "execution_count": null,
   "metadata": {
    "tags": []
   },
   "outputs": [],
   "source": [
    "# Llamando a la función 'suma' con los números 3 y 4\n",
    "resultado = suma(5, 6)\n",
    "print(\"La suma es:\", resultado)"
   ]
  },
  {
   "cell_type": "markdown",
   "metadata": {},
   "source": [
    "Si llamamos a la función con una nueva entrada obtenemos un nuevo resultado:"
   ]
  },
  {
   "cell_type": "code",
   "execution_count": null,
   "metadata": {
    "tags": []
   },
   "outputs": [],
   "source": [
    "# Call the function add()\n",
    "\n",
    "suma(12, 4)"
   ]
  },
  {
   "cell_type": "markdown",
   "metadata": {},
   "source": [
    "Podemos crear diferentes funciones. Por ejemplo, podemos crear una función que multiplique dos números. Los números estarán representados por las variables <code>a</code> y <code>b</code>:"
   ]
  },
  {
   "cell_type": "code",
   "execution_count": null,
   "metadata": {
    "tags": []
   },
   "outputs": [],
   "source": [
    "# Define a function for multiple two numbers\n",
    "\n",
    "def multiplicar(a,b):\n",
    "    \"\"\"Esta función multiplica.\"\"\"\n",
    "    x = a*b  # Variable local\n",
    "    \n",
    "    return x"
   ]
  },
  {
   "cell_type": "markdown",
   "metadata": {},
   "source": [
    "La misma función se puede utilizar para diferentes tipos de datos. Por ejemplo, podemos multiplicar dos números enteros:"
   ]
  },
  {
   "cell_type": "code",
   "execution_count": null,
   "metadata": {
    "tags": []
   },
   "outputs": [],
   "source": [
    "# Usa multiplicar() para multiplicar dos números enteros\n",
    "\n",
    "resultado = multiplicar(10,3)\n",
    "print(\"Resultado:\", resultado)"
   ]
  },
  {
   "cell_type": "markdown",
   "metadata": {},
   "source": [
    " Two Floats: "
   ]
  },
  {
   "cell_type": "code",
   "execution_count": null,
   "metadata": {
    "tags": []
   },
   "outputs": [],
   "source": [
    "# Usa mult() para multiplicar dos flotantes\n",
    "\n",
    "multiplicar(10.0, 3.14)"
   ]
  },
  {
   "cell_type": "markdown",
   "metadata": {},
   "source": [
    "Incluso podemos replicar una cadena multiplicándola por un número entero:"
   ]
  },
  {
   "cell_type": "code",
   "execution_count": null,
   "metadata": {
    "tags": []
   },
   "outputs": [],
   "source": [
    "# Use mult() multiply two different type values together\n",
    "\n",
    "multiplicar(6, \"PYTHON \")"
   ]
  },
  {
   "cell_type": "markdown",
   "metadata": {},
   "source": [
    "<h3 id=\"var\">Variables</h3>"
   ]
  },
  {
   "cell_type": "markdown",
   "metadata": {},
   "source": [
    "La entrada a una función se llama **parámetro**.\n",
    "\n",
    "Una variable que se declara **dentro de una función** se llama **variable local**. El parámetro solo existe dentro de la función (es decir, el punto donde la función comienza y se detiene).\n",
    "\n",
    "Una variable que se declara **fuera de la definición de una función** es una **variable global** y su valor es accesible y modificable durante todo el programa. Discutiremos más sobre las variables globales al final de la práctica de laboratorio.\n"
   ]
  },
  {
   "cell_type": "code",
   "execution_count": null,
   "metadata": {
    "tags": []
   },
   "outputs": [],
   "source": [
    "# Function Definition\n",
    "\n",
    "def calcular_circunferencia(radio):\n",
    "    \"\"\"Esta función calcula la circunferencia de un círculo.\"\"\"\n",
    "    \n",
    "    circuferencia = 2 * pi * radio \n",
    "    return print('la circunferencia de radio', radio, 'es:', circuferencia)"
   ]
  },
  {
   "cell_type": "markdown",
   "metadata": {},
   "source": [
    "We can call the function  with an input of <b>3</b>:"
   ]
  },
  {
   "cell_type": "code",
   "execution_count": null,
   "metadata": {
    "tags": []
   },
   "outputs": [],
   "source": [
    "# Initializes Global variable  \n",
    "x = 3\n",
    "pi = 3.14159\n",
    "\n",
    "# Makes function call and return function a y\n",
    "y = calcular_circunferencia(x)\n",
    "y"
   ]
  },
  {
   "cell_type": "markdown",
   "metadata": {},
   "source": [
    "Podemos llamar a la función con una entrada de <b>3</b> de una manera diferente:"
   ]
  },
  {
   "cell_type": "code",
   "execution_count": null,
   "metadata": {
    "tags": []
   },
   "outputs": [],
   "source": [
    "# Directly enter a number as parameter\n",
    "\n",
    "calcular_circunferencia(3)"
   ]
  },
  {
   "cell_type": "markdown",
   "metadata": {},
   "source": [
    "Si no hay una declaración <code>return</code>, la función devuelve <code>Ninguno</code>. Las dos funciones siguientes son equivalentes:"
   ]
  },
  {
   "cell_type": "code",
   "execution_count": null,
   "metadata": {
    "tags": []
   },
   "outputs": [],
   "source": [
    "# Definir funciones, una con valor de retorno Nonce y otra sin valor de retorno\n",
    "\n",
    "def P():\n",
    "    print('Python')\n",
    "    \n",
    "def P1():\n",
    "    print('Python')\n",
    "    return(None)"
   ]
  },
  {
   "cell_type": "code",
   "execution_count": null,
   "metadata": {
    "tags": []
   },
   "outputs": [],
   "source": [
    "# See the output\n",
    "\n",
    "P()"
   ]
  },
  {
   "cell_type": "code",
   "execution_count": null,
   "metadata": {
    "tags": []
   },
   "outputs": [],
   "source": [
    "# See the output\n",
    "\n",
    "P1()"
   ]
  },
  {
   "cell_type": "markdown",
   "metadata": {},
   "source": [
    "Imprimir la función después de una llamada revela que **None** es la declaración de devolución predeterminada:"
   ]
  },
  {
   "cell_type": "code",
   "execution_count": null,
   "metadata": {
    "tags": []
   },
   "outputs": [],
   "source": [
    "# See what functions returns are\n",
    "\n",
    "print(P())\n",
    "\n",
    "print('-'*10)\n",
    "\n",
    "print(P1())"
   ]
  },
  {
   "cell_type": "markdown",
   "metadata": {},
   "source": [
    "Cree una función <code>con</code> que concatene dos strings usando la operación de suma:"
   ]
  },
  {
   "cell_type": "code",
   "execution_count": null,
   "metadata": {
    "tags": []
   },
   "outputs": [],
   "source": [
    "# Definir la función para combinar strings.\n",
    "\n",
    "def con(a, b):\n",
    "    return(a + b)"
   ]
  },
  {
   "cell_type": "code",
   "execution_count": null,
   "metadata": {
    "tags": []
   },
   "outputs": [],
   "source": [
    "# Prueba en la función con()\n",
    "\n",
    "con(\"MIN\", \"TIC\")"
   ]
  },
  {
   "cell_type": "markdown",
   "metadata": {},
   "source": [
    "<h3 id=\"simple\">Las funciones simplifican las cosas</h3>"
   ]
  },
  {
   "cell_type": "markdown",
   "metadata": {},
   "source": [
    "Considere las dos líneas de código en el <b>Bloque 1</b> y el <b>Bloque 2</b>: el procedimiento para cada bloque es idéntico. Lo único que es diferente son los nombres y valores de las variables."
   ]
  },
  {
   "cell_type": "markdown",
   "metadata": {},
   "source": [
    "<h4>Bloque 1:</h4>"
   ]
  },
  {
   "cell_type": "code",
   "execution_count": null,
   "metadata": {
    "tags": []
   },
   "outputs": [],
   "source": [
    "# a and b calculation block1\n",
    "\n",
    "a1 = 4\n",
    "b1 = 5\n",
    "c1 = a1 + b1 + 2 * a1 * b1 - 1\n",
    "\n",
    "if(c1 < 0):\n",
    "    c1 = 0 \n",
    "else:\n",
    "    c1 = 5\n",
    "c1   "
   ]
  },
  {
   "cell_type": "markdown",
   "metadata": {},
   "source": [
    "<h4>Bloque 2:</h4>"
   ]
  },
  {
   "cell_type": "code",
   "execution_count": null,
   "metadata": {
    "tags": []
   },
   "outputs": [],
   "source": [
    "# a and b calculation block2\n",
    "\n",
    "a2 = 0\n",
    "b2 = 0\n",
    "c2 = a2 + b2 + 2 * a2 * b2 - 1\n",
    "\n",
    "if(c2 < 0):\n",
    "    c2 = 0 \n",
    "else:\n",
    "    c2 = 5\n",
    "c2   "
   ]
  },
  {
   "cell_type": "markdown",
   "metadata": {},
   "source": [
    "Podemos reemplazar las líneas de código con una función. Una función combina muchas instrucciones en una sola línea de código. Una vez que se define una función, se puede utilizar repetidamente. Puedes invocar la misma función muchas veces en tu programa. Puede guardar su función y usarla en otro programa o usar la función de otra persona. Las líneas de código en el código <b>Bloque 1</b> y el código <b>Bloque 2</b> se pueden reemplazar por la siguiente función:"
   ]
  },
  {
   "cell_type": "code",
   "execution_count": null,
   "metadata": {
    "tags": []
   },
   "outputs": [],
   "source": [
    "# Crea una función para el cálculo anterior\n",
    "\n",
    "def Equation(a,b):\n",
    "    c = a + b + 2 * a * b - 1\n",
    "    \n",
    "    if(c < 0):\n",
    "        c = 0 \n",
    "    else:\n",
    "        c = 5\n",
    "    return(c) "
   ]
  },
  {
   "cell_type": "markdown",
   "metadata": {},
   "source": [
    "Esta función toma dos entradas, a y b, luego aplica varias operaciones para devolver c.\n",
    "Simplemente definimos la función, reemplazamos las instrucciones con la función e ingresamos los nuevos valores de <code>a1</code>, <code>b1</code> y <code>a2</code>, <code>b2. </code> como entradas. Todo el proceso se demuestra en la figura:"
   ]
  },
  {
   "cell_type": "markdown",
   "metadata": {},
   "source": [
    "<img src=\"https://s3-api.us-geo.objectstorage.softlayer.net/cf-courses-data/CognitiveClass/PY0101EN/Chapter%203/Images/FuncsPros.gif\" width=\"850\" />"
   ]
  },
  {
   "cell_type": "markdown",
   "metadata": {},
   "source": [
    "El código **Bloques 1** y **Bloque 2** ahora se pueden reemplazar con el código **Bloque 3** y el código **Bloque 4**."
   ]
  },
  {
   "cell_type": "markdown",
   "metadata": {},
   "source": [
    "<h4>Bloque 3:</h4>"
   ]
  },
  {
   "cell_type": "code",
   "execution_count": null,
   "metadata": {
    "tags": []
   },
   "outputs": [],
   "source": [
    "a1 = 4\n",
    "b1 = 5\n",
    "c1 = Equation(a1, b1)\n",
    "c1"
   ]
  },
  {
   "cell_type": "markdown",
   "metadata": {},
   "source": [
    "<h4>Bloque 4:</h4>"
   ]
  },
  {
   "cell_type": "code",
   "execution_count": null,
   "metadata": {
    "tags": []
   },
   "outputs": [],
   "source": [
    "a2 = 0\n",
    "b2 = 0\n",
    "c2 = Equation(a2, b2)\n",
    "c2"
   ]
  },
  {
   "cell_type": "markdown",
   "metadata": {},
   "source": [
    "<hr>"
   ]
  },
  {
   "cell_type": "markdown",
   "metadata": {},
   "source": [
    "<h2 id=\"pre\">Funciones predefinidas</h2>"
   ]
  },
  {
   "cell_type": "markdown",
   "metadata": {},
   "source": [
    "Las funciones predefinidas son funciones que ya están disponibles en Python. Estas funciones se pueden utilizar sin necesidad de declararlas."
   ]
  },
  {
   "cell_type": "markdown",
   "metadata": {},
   "source": [
    "Ejemplos de funciones predefinidas\n",
    "\n",
    "* <code>print()</code>: Imprime información en la consola.\n",
    "* <code>input()</code>: Lee información del usuario.\n",
    "* <code>len()</code>: Devuelve la longitud de una cadena o una lista.\n",
    "* <code>max()</code>: Devuelve el elemento máximo de una lista.\n",
    "* <code>min()</code>: Devuelve el elemento mínimo de una lista."
   ]
  },
  {
   "cell_type": "markdown",
   "metadata": {},
   "source": [
    "#### Ejercicio 1\n",
    "\n",
    "La función <code>print()</code>:"
   ]
  },
  {
   "cell_type": "code",
   "execution_count": null,
   "metadata": {
    "tags": []
   },
   "outputs": [],
   "source": [
    "\n",
    "album_ratings = [10.0, 8.5, 9.5, 7.0, 7.0, 9.5, 9.0, 9.5] \n",
    "print(album_ratings)"
   ]
  },
  {
   "cell_type": "markdown",
   "metadata": {},
   "source": [
    "#### Ejercicio 2:\n",
    "\n",
    "Utiliza la función input() para leer el nombre del usuario y luego utiliza la función print() para saludarlo."
   ]
  },
  {
   "cell_type": "code",
   "execution_count": null,
   "metadata": {
    "tags": []
   },
   "outputs": [],
   "source": [
    "nombre = input(\"Ingresa tu nombre: \")\n",
    "\n",
    "print(\"Hola, \" + nombre + \"!\")"
   ]
  },
  {
   "cell_type": "markdown",
   "metadata": {},
   "source": [
    "#### Ejercicio 3:\n",
    "\n",
    "Utiliza la función max() para encontrar el número mayor de una lista."
   ]
  },
  {
   "cell_type": "code",
   "execution_count": null,
   "metadata": {
    "tags": []
   },
   "outputs": [],
   "source": [
    "lista = [1, 2, 3, 4, 5]\n",
    "numero_mayor = max(lista)\n",
    "print(\"El número mayor de la lista es:\", numero_mayor)"
   ]
  },
  {
   "cell_type": "markdown",
   "metadata": {},
   "source": [
    "<h2 id=\"if\">Uso de sentencias y bucles <code>if</code>/<code>else</code> en funciones</h2>"
   ]
  },
  {
   "cell_type": "markdown",
   "metadata": {},
   "source": [
    "#### Ejercicio #1 \n",
    "\n",
    "**Explicación:**\n",
    "\n",
    "La función **determinar_tipo_de_triangulo()** recibe como parámetros la longitud de los tres lados de un triángulo. La función utiliza una sentencia if/else para determinar el tipo de triángulo según la longitud de sus lados.\n",
    "\n",
    "Si los tres lados del triángulo son iguales, el triángulo es **equilátero**. Si dos de los lados del triángulo son iguales, el triángulo es **isósceles**. Si los tres lados del triángulo son diferentes, el triángulo es **escaleno**.\n",
    "\n",
    "La función devuelve el tipo de triángulo como una cadena de caracteres."
   ]
  },
  {
   "cell_type": "code",
   "execution_count": null,
   "metadata": {
    "tags": []
   },
   "outputs": [],
   "source": [
    "def determinar_tipo_de_triangulo(lado_a, lado_b, lado_c):\n",
    "  \"\"\"Determina el tipo de triángulo según la longitud de sus lados.\"\"\"\n",
    "\n",
    "  if lado_a == lado_b and lado_b == lado_c:\n",
    "    tipo_triangulo = \"Equilátero\"\n",
    "  elif lado_a == lado_b or lado_a == lado_c or lado_b == lado_c:\n",
    "    tipo_triangulo = \"Isósceles\"\n",
    "  else:\n",
    "    tipo_triangulo = \"Escaleno\"\n",
    "\n",
    "  return tipo_triangulo"
   ]
  },
  {
   "cell_type": "code",
   "execution_count": null,
   "metadata": {
    "tags": []
   },
   "outputs": [],
   "source": [
    "tipo_triangulo = determinar_tipo_de_triangulo(3, 3, 3)\n",
    "print(\"El tipo de triángulo es:\", tipo_triangulo)"
   ]
  },
  {
   "cell_type": "markdown",
   "metadata": {},
   "source": [
    "#### Ejercicio #2 \n",
    "\n",
    "**Explicación:**\n",
    "\n",
    "La función **calcular_descuento()** recibe como parámetros el precio del producto y el tipo de cliente. La función utiliza una sentencia if/else para calcular el descuento a aplicar según el tipo de cliente.\n",
    "\n",
    "**Si el cliente es VIP, el descuento es del 20%**. Si el **cliente es regular, el descuento es del 10%**. Si el cliente no es VIP ni regular, el descuento es del 0%.\n",
    "\n",
    "La función devuelve el valor del descuento aplicado."
   ]
  },
  {
   "cell_type": "code",
   "execution_count": null,
   "metadata": {
    "tags": []
   },
   "outputs": [],
   "source": [
    "def calcular_descuento(precio, tipo_de_cliente):\n",
    "  \"\"\"Calcula el descuento a aplicar a un producto según el tipo de cliente.\"\"\"\n",
    "\n",
    "  if tipo_de_cliente == \"VIP\":\n",
    "    descuento = 20\n",
    "  elif tipo_de_cliente == \"regular\":\n",
    "    descuento = 10\n",
    "  else:\n",
    "    descuento = 0\n",
    "\n",
    "  return precio * descuento / 100"
   ]
  },
  {
   "cell_type": "code",
   "execution_count": null,
   "metadata": {
    "tags": []
   },
   "outputs": [],
   "source": [
    "precio = 100\n",
    "tipo_de_cliente = \"regular\"\n",
    "\n",
    "descuento_aplicado = calcular_descuento(precio, tipo_de_cliente)\n",
    "\n",
    "print(\"El descuento aplicado es:\", descuento_aplicado)"
   ]
  },
  {
   "cell_type": "code",
   "execution_count": null,
   "metadata": {
    "tags": []
   },
   "outputs": [],
   "source": [
    "precio = 60\n",
    "tipo_de_cliente = \"VIP\"\n",
    "\n",
    "descuento_aplicado = calcular_descuento(precio, tipo_de_cliente)\n",
    "\n",
    "print(\"El descuento aplicado es:\", descuento_aplicado)"
   ]
  },
  {
   "cell_type": "markdown",
   "metadata": {},
   "source": [
    "<hr>"
   ]
  },
  {
   "cell_type": "markdown",
   "metadata": {},
   "source": [
    "<h2 id=\"default\">Establecer valores de argumento predeterminados en sus funciones personalizadas</h2>"
   ]
  },
  {
   "cell_type": "markdown",
   "metadata": {},
   "source": [
    "Puede establecer un valor predeterminado para los argumentos de su función. Por ejemplo, La función **calcular_impuesto()** recibe como parámetros el precio del producto, el tipo de producto e impuesto por defecto. El impuesto por defecto es el valor que se utiliza si no se especifica un tipo de producto.\n",
    "\n",
    "La función utiliza una sentencia if/else para calcular el impuesto a pagar según el tipo de producto.\n",
    "\n",
    "Si el producto es alimenticio, el impuesto es del 10%. Si el producto no es alimenticio, el impuesto es del valor especificado en el parámetro **impuesto_por_defecto**. Si el producto no está clasificado como alimenticio ni no alimenticio, el impuesto es del 0%.\n",
    "\n",
    "La función devuelve el valor del impuesto a pagar.\n",
    "\n",
    "En el ejemplo, el impuesto por defecto es del 19%. Si se llama a la función sin especificar un tipo de producto, la función utilizará el valor predeterminado del impuesto.\n",
    "\n",
    "Si se llama a la función especificando un tipo de producto como \"alimenticio\", la función utilizará el impuesto del 10%."
   ]
  },
  {
   "cell_type": "code",
   "execution_count": null,
   "metadata": {
    "tags": []
   },
   "outputs": [],
   "source": [
    "\n",
    "def calcular_impuesto(precio, tipo_de_producto=\"regular\", impuesto_por_defecto=19):\n",
    "  \"\"\"Calcula el impuesto a pagar según el tipo de producto.\"\"\"\n",
    "\n",
    "  if tipo_de_producto == \"alimenticio\":\n",
    "    impuesto = 10\n",
    "  elif tipo_de_producto == \"regular\":\n",
    "    impuesto = impuesto_por_defecto\n",
    "  else:\n",
    "    impuesto = impuesto_por_defecto\n",
    "\n",
    "  return precio * impuesto / 100\n"
   ]
  },
  {
   "cell_type": "code",
   "execution_count": null,
   "metadata": {
    "tags": []
   },
   "outputs": [],
   "source": [
    "precio = 100\n",
    "\n",
    "# Llamada a la función con valores de argumento predeterminados\n",
    "impuesto_a_pagar = calcular_impuesto(precio)\n",
    "\n",
    "print(\"El impuesto a pagar es:\", impuesto_a_pagar)"
   ]
  },
  {
   "cell_type": "code",
   "execution_count": null,
   "metadata": {
    "tags": []
   },
   "outputs": [],
   "source": [
    "# Llamada a la función con valores de argumento personalizados\n",
    "impuesto_a_pagar = calcular_impuesto(precio, \"alimenticio\")\n",
    "\n",
    "print(\"El impuesto a pagar es:\", impuesto_a_pagar)"
   ]
  },
  {
   "cell_type": "markdown",
   "metadata": {},
   "source": [
    "<hr>"
   ]
  },
  {
   "cell_type": "markdown",
   "metadata": {},
   "source": [
    "<h2 id=\"global\">Global variables</h2>"
   ]
  },
  {
   "cell_type": "markdown",
   "metadata": {},
   "source": [
    "Las variables globales son variables que son accesibles desde cualquier parte del programa. Las variables globales se declaran fuera de cualquier función.\n",
    "\n",
    "Para declarar una variable global, simplemente asigna un valor a una variable fuera de una función o bloque de código. Veamos un ejemplo:\n"
   ]
  },
  {
   "cell_type": "code",
   "execution_count": null,
   "metadata": {
    "tags": []
   },
   "outputs": [],
   "source": [
    "# Declaración de una variable global\n",
    "mi_variable_global = 10\n",
    "\n",
    "def mi_funcion():\n",
    "    # Accediendo a la variable global\n",
    "    print(\"Variable global:\", mi_variable_global)\n",
    "\n",
    "# Llamando a la función\n",
    "mi_funcion()"
   ]
  },
  {
   "cell_type": "markdown",
   "metadata": {},
   "source": [
    "En el primer ejemplo, variable_global se declara fuera de las funciones y se accede desde cualquier parte del código. Dentro de una función o un bucle la variable global se puede modificar o crear utilizando la palabra clave **global**"
   ]
  },
  {
   "cell_type": "code",
   "execution_count": null,
   "metadata": {
    "tags": []
   },
   "outputs": [],
   "source": [
    "bucle = \"FOR\"\n",
    "\n",
    "def printer(word):\n",
    "    global internal_var \n",
    "    internal_var= \"WHILE\"\n",
    "    print(word,\"is a bucle\")\n",
    "\n",
    "printer(bucle) \n",
    "printer(internal_var)"
   ]
  },
  {
   "cell_type": "markdown",
   "metadata": {},
   "source": [
    "<h2 id=\"scope\">Scope of a Variable</h2>"
   ]
  },
  {
   "cell_type": "markdown",
   "metadata": {},
   "source": [
    "El alcance de una variable es la parte de ese programa donde se puede acceder a esa variable. Se puede acceder a las variables que se declaran fuera de todas las definiciones de funciones, como la variable <code>myFavouriteBand</code> en el código que se muestra aquí, desde cualquier lugar dentro del programa. Como resultado, se dice que dichas variables tienen alcance global y se conocen como variables globales.\n",
    "     <code>myFavouriteBand</code> es una variable global, por lo que se puede acceder a ella desde la función <code>getBandRating</code> y podemos usarla para determinar la calificación de una banda. También podemos usarlo fuera de la función, como cuando lo pasamos a la función print para mostrarlo:"
   ]
  },
  {
   "cell_type": "code",
   "execution_count": null,
   "metadata": {
    "tags": []
   },
   "outputs": [],
   "source": [
    "# Example of global variable\n",
    "\n",
    "myFavouriteBand = \"AC/DC\"\n",
    "\n",
    "def getBandRating(bandname):\n",
    "    if bandname == myFavouriteBand:\n",
    "        return 10.0\n",
    "    else:\n",
    "        return 0.0\n",
    "\n",
    "print(\"AC/DC's rating is:\", getBandRating(\"AC/DC\"))\n",
    "print(\"Deep Purple's rating is:\",getBandRating(\"Deep Purple\"))\n",
    "print(\"My favourite band is:\", myFavouriteBand)"
   ]
  },
  {
   "cell_type": "markdown",
   "metadata": {},
   "source": [
    "Eche un vistazo a esta versión modificada de nuestro código. Ahora la variable <code>myBanda</code> está definida dentro de la función <code>getBandRating</code>. Una variable que se define dentro de una función se dice que es una variable local de esa función. Eso significa que solo es accesible desde la función en la que está definido. Nuestra función <code>getBandRating</code> seguirá funcionando, porque <code>myBanda</code> todavía está definida dentro de la función. Sin embargo, ya no podemos imprimir <code>myBanda</code> fuera de nuestra función, porque es una variable local de nuestra función <code>getBandRating</code>; sólo se define dentro de la función <code>getBandRating</code>:"
   ]
  },
  {
   "cell_type": "code",
   "execution_count": null,
   "metadata": {
    "tags": []
   },
   "outputs": [],
   "source": [
    "# Example of local variable\n",
    "\n",
    "def getBandRating(bandname):\n",
    "    myBanda = \"AC/DC\"\n",
    "    if bandname == myBanda:\n",
    "        return 10.0\n",
    "    else:\n",
    "        return 0.0\n",
    "\n",
    "print(\"AC/DC's rating is: \", getBandRating(\"AC/DC\"))\n",
    "print(\"Deep Purple's rating is: \", getBandRating(\"Deep Purple\"))\n",
    "print(\"My favourite band is\", myBanda)"
   ]
  },
  {
   "cell_type": "markdown",
   "metadata": {},
   "source": [
    "Finalmente, eche un vistazo a este ejemplo. Ahora tenemos dos definiciones de variables <code>myFavouriteBand</code>. El primero de ellos tiene un alcance global y el segundo es una variable local dentro de la función <code>getBandRating</code>. Dentro de la función <code>getBandRating</code>, la variable local tiene prioridad. **Deep Purple** recibirá una calificación de 10,0 cuando se pase a la función <code>getBandRating</code>. Sin embargo, fuera de la función <code>getBandRating</code>, la variable local <code>getBandRating</code> no está definida, por lo que la variable <code>myFavouriteBand</code> que imprimimos es la variable global, que tiene un valor de **AC/DC**:"
   ]
  },
  {
   "cell_type": "code",
   "execution_count": null,
   "metadata": {},
   "outputs": [],
   "source": [
    "# Example of global variable and local variable with the same name\n",
    "\n",
    "myFavouriteBand = \"AC/DC\"\n",
    "\n",
    "def getBandRating(bandname):\n",
    "    myFavouriteBand = \"Deep Purple\"\n",
    "    if bandname == myFavouriteBand:\n",
    "        return 10.0\n",
    "    else:\n",
    "        return 0.0\n",
    "\n",
    "print(\"AC/DC's rating is:\",getBandRating(\"AC/DC\"))\n",
    "print(\"Deep Purple's rating is: \",getBandRating(\"Deep Purple\"))\n",
    "print(\"My favourite band is:\",myFavouriteBand)"
   ]
  },
  {
   "cell_type": "markdown",
   "metadata": {},
   "source": [
    "<h2>Quiz de Funciones</h2>"
   ]
  },
  {
   "cell_type": "markdown",
   "metadata": {},
   "source": [
    "#### Ejercicio 1:\n",
    "\n",
    "Escribe una función que reciba una cadena de texto como parámetro y devuelva el número de palabras de la cadena."
   ]
  },
  {
   "cell_type": "code",
   "execution_count": null,
   "metadata": {
    "tags": []
   },
   "outputs": [],
   "source": [
    "## Escriba su código a continuación y presione Shift+Enter para ejecutar\n",
    "# Reemplaze la declaración **None** por la respuesta\n",
    "\n",
    "def contar_palabras(cadena):\n",
    "  \"\"\"\n",
    "  Cuenta el número de palabras de una cadena.\n",
    "\n",
    "  Args:\n",
    "    cadena: La cadena de texto.\n",
    "\n",
    "  Returns:\n",
    "    El número de palabras de la cadena.\n",
    "  \"\"\"\n",
    "\n",
    "  palabras = cadena.split(\" \")  ## separa las palabras en cada espacio\n",
    "    \n",
    "  return None\n"
   ]
  },
  {
   "cell_type": "code",
   "execution_count": null,
   "metadata": {
    "tags": []
   },
   "outputs": [],
   "source": [
    "cadena = \"Esta es una cadena de texto con varias palabras.\"\n",
    "print(contar_palabras(cadena))"
   ]
  },
  {
   "cell_type": "markdown",
   "metadata": {},
   "source": [
    "Haga doble clic __aquí__ para ver la solución.\n",
    "\n",
    "<!-- Su respuesta está a continuación:\n",
    "\n",
    "def contar_palabras(cadena):\n",
    "  \"\"\"\n",
    "  Cuenta el número de palabras de una cadena.\n",
    "\n",
    "  Args:\n",
    "    cadena: La cadena de texto.\n",
    "\n",
    "  Returns:\n",
    "    El número de palabras de la cadena.\n",
    "  \"\"\"\n",
    "\n",
    "  palabras = cadena.split(\" \")  ## separa las palabras en cada espacio\n",
    "    \n",
    "  return len(palabras)\n",
    "\n",
    "-->"
   ]
  },
  {
   "cell_type": "markdown",
   "metadata": {},
   "source": [
    "<hr>"
   ]
  },
  {
   "cell_type": "markdown",
   "metadata": {},
   "source": [
    "#### Ejercicio 2:\n",
    "\n",
    "Contador de Vocales: Crea una función llamada contar_vocales que tome una cadena de texto como argumento y cuente cuántas vocales (a, e, i, o, u) contiene. Devuelve el recuento como resultado."
   ]
  },
  {
   "cell_type": "markdown",
   "metadata": {},
   "source": [
    "Esta función convierte el texto a minúsculas para que sea insensible a mayúsculas y minúsculas, luego itera sobre cada carácter en el texto y verifica si es una vocal. Si es una vocal, aumenta el contador. Al final, devuelve el recuento de vocales en el texto.\n"
   ]
  },
  {
   "cell_type": "code",
   "execution_count": null,
   "metadata": {
    "tags": []
   },
   "outputs": [],
   "source": [
    "## Escriba su código a continuación y presione Shift+Enter para ejecutar\n",
    "# Reemplaze la declaración **None** por la respuesta\n",
    "\n",
    "def contar_vocales(texto):\n",
    "    \"\"\"Esta función cuenta cuántas vocales contiene una cadena de texto.\"\"\"\n",
    "    # Convertir el texto a minúsculas para que sea insensible a mayúsculas y minúsculas\n",
    "    texto = texto.lower()\n",
    "    \n",
    "    # Inicializar un contador para las vocales\n",
    "    contador = 0\n",
    "    \n",
    "    # Iterar sobre cada carácter en el texto\n",
    "    for caracter in None:\n",
    "        if caracter in \"aeiou\":\n",
    "            contador += 1\n",
    "    \n",
    "    return contador\n"
   ]
  },
  {
   "cell_type": "code",
   "execution_count": null,
   "metadata": {
    "tags": []
   },
   "outputs": [],
   "source": [
    "# Ejemplo de uso de la función\n",
    "texto = \"Hola, cómo estás?\"\n",
    "resultado = contar_vocales(texto)\n",
    "\n",
    "print(\"El número de vocales en el texto es:\", resultado)"
   ]
  },
  {
   "cell_type": "markdown",
   "metadata": {},
   "source": [
    "Haga doble clic __aquí__ para ver la solución.\n",
    "\n",
    "<!-- Su respuesta está a continuación:\n",
    "\n",
    "## Escriba su código a continuación y presione Shift+Enter para ejecutar\n",
    "# Reemplaze la declaración **None** por la respuesta\n",
    "\n",
    "def contar_vocales(texto):\n",
    "    \"\"\"Esta función cuenta cuántas vocales contiene una cadena de texto.\"\"\"\n",
    "    # Convertir el texto a minúsculas para que sea insensible a mayúsculas y minúsculas\n",
    "    texto = texto.lower()\n",
    "    \n",
    "    # Inicializar un contador para las vocales\n",
    "    contador = 0\n",
    "    \n",
    "    # Iterar sobre cada carácter en el texto\n",
    "    for caracter in texto:\n",
    "        if caracter in \"aeiou\":\n",
    "            contador += 1\n",
    "    \n",
    "    return contador\n",
    "\n",
    " -->"
   ]
  },
  {
   "cell_type": "markdown",
   "metadata": {},
   "source": [
    "<hr>"
   ]
  },
  {
   "cell_type": "markdown",
   "metadata": {},
   "source": [
    "#### Ejercicio 3:\n",
    "\n",
    "Verificar Número Par o Impar: Crea una función llamada es_par que tome un número como argumento y determine si es par o impar. La función debe devolver True si es par y False si es impar."
   ]
  },
  {
   "cell_type": "markdown",
   "metadata": {
    "tags": []
   },
   "source": [
    "#### Operador %\n",
    "\n",
    "**%** Obtiene el residuo entre los operandos"
   ]
  },
  {
   "cell_type": "code",
   "execution_count": null,
   "metadata": {
    "tags": []
   },
   "outputs": [],
   "source": [
    "print(10 % 3) # al dividir 10/3 se obtiene un residuo de 1"
   ]
  },
  {
   "cell_type": "code",
   "execution_count": null,
   "metadata": {
    "tags": []
   },
   "outputs": [],
   "source": [
    "print(8 % 4)"
   ]
  },
  {
   "cell_type": "code",
   "execution_count": null,
   "metadata": {
    "tags": []
   },
   "outputs": [],
   "source": [
    "print(7 % 5)"
   ]
  },
  {
   "cell_type": "markdown",
   "metadata": {},
   "source": [
    "La función <code>return()</code> es particularmente útil si tiene declaraciones IF en la función, cuando desea que su salida dependa de alguna condición:"
   ]
  },
  {
   "cell_type": "code",
   "execution_count": null,
   "metadata": {
    "tags": []
   },
   "outputs": [],
   "source": [
    "## Escriba su código a continuación y presione Shift+Enter para ejecutar\n",
    "# Reemplaze la declaración **None** por la respuesta\n",
    "\n",
    "def es_par(numero):\n",
    "    \"\"\"Esta función verifica si un número es par o impar.\"\"\"\n",
    "    # \n",
    "    if None == 0:\n",
    "        return True  # El número es par\n",
    "    else:\n",
    "        return False  # El número es impar\n"
   ]
  },
  {
   "cell_type": "code",
   "execution_count": null,
   "metadata": {
    "tags": []
   },
   "outputs": [],
   "source": [
    "# Ejemplo de uso de la función\n",
    "numero = 5  # Cambia este número para verificar si es par o impar\n",
    "\n",
    "if es_par(numero):\n",
    "    print(numero, \"es un número par.\")\n",
    "else:\n",
    "    print(numero, \"es un número impar.\")"
   ]
  },
  {
   "cell_type": "markdown",
   "metadata": {},
   "source": [
    "Haga doble clic __aquí__ para ver la solución.\n",
    "\n",
    "<!-- Su respuesta está a continuación:\n",
    "\n",
    "def es_par(numero):\n",
    "    \"\"\"Esta función verifica si un número es par o impar.\"\"\"\n",
    "    # \n",
    "    if numero % 2 == 0:\n",
    "        return True  # El número es par\n",
    "    else:\n",
    "        return False  # El número es impar\n",
    "\n",
    "-->"
   ]
  },
  {
   "cell_type": "markdown",
   "metadata": {},
   "source": [
    "<hr>"
   ]
  },
  {
   "cell_type": "markdown",
   "metadata": {},
   "source": [
    "<div class=\"alert alert-block alert-info\" style=\"margin-top: 20px\">\n",
    "\n",
    "<h2>Felicitaciones por llegar hasta aquí!</h2>\n",
    "\n",
    "¡Has completado una nueva hazaña!\n",
    "\n",
    "Has aprendido mucho sobre funciones en Python.\n",
    "\n",
    "Ahora eres capaz de realizar tareas repetitivas de forma eficiente.\n",
    "\n",
    "\n",
    "<h3>¡Sigue aprendiendo y creciendo!</h3>\n",
    "    \n",
    "</div>"
   ]
  },
  {
   "cell_type": "markdown",
   "metadata": {},
   "source": [
    "<hr>"
   ]
  },
  {
   "cell_type": "markdown",
   "metadata": {},
   "source": [
    "<h2>Autores y colaborares:</h2> \n",
    "\n",
    "\n",
    "<a href=\"https://www.linkedin.com/in/robinssondeantonio/\" title=\"Robinsson Deantonio\"> Robinsson S. Deantonio</a> \n",
    "\n",
    "<p> Basado en aportes de: \n",
    "    <a href=\"https://cognitiveclass.ai/\" title=\"cognitiveclass\"> cognitiveclass</a>, \n",
    "    <a href=\"https://www.linkedin.com/in/joseph-s-50398b136/\" title=\"cognitiveclass\"> Joseph Santarcangelo</a>, \n",
    "    <a href=\"https://www.linkedin.com/in/reevejamesd/\" title=\"cognitiveclass\"> James Reeve</a>,  \n",
    "    <a href=\"www.linkedin.com/in/jiahui-mavis-zhou-a4537814a\" title=\"cognitiveclass\"> Mavis Zhou</a>, \n",
    "</p>"
   ]
  },
  {
   "cell_type": "markdown",
   "metadata": {},
   "source": [
    "<hr>"
   ]
  },
  {
   "cell_type": "markdown",
   "metadata": {},
   "source": [
    "<p>Copyright &copy; 2023. Este cuaderno y su código fuente se publican según los términos del <a href=\"https://cognitiveclass.ai/mit-license/\">MIT License</a>.</p>"
   ]
  }
 ],
 "metadata": {
  "kernelspec": {
   "display_name": "Python 3 (ipykernel)",
   "language": "python",
   "name": "python3"
  },
  "language_info": {
   "codemirror_mode": {
    "name": "ipython",
    "version": 3
   },
   "file_extension": ".py",
   "mimetype": "text/x-python",
   "name": "python",
   "nbconvert_exporter": "python",
   "pygments_lexer": "ipython3",
   "version": "3.10.9"
  }
 },
 "nbformat": 4,
 "nbformat_minor": 4
}
