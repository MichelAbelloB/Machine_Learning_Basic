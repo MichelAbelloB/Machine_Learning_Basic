{
 "cells": [
  {
   "cell_type": "markdown",
   "metadata": {},
   "source": [
    "<a href=\"https://albertomerani.org/\">\n",
    "    <img src=\"images/Merani2.png\" width=\"1000\" align=\"center\">\n",
    "</a>"
   ]
  },
  {
   "cell_type": "markdown",
   "metadata": {},
   "source": [
    "<h1>Loops en Python</h1>"
   ]
  },
  {
   "cell_type": "markdown",
   "metadata": {},
   "source": [
    "<h2>Tabla de contenidos</h2>\n",
    "<div class=\"alert alert-block alert-info\" style=\"margin-top: 20px\">\n",
    "<ul>\n",
    "         <li>\n",
    "             <a href=\"#loop\">Bucles</a>\n",
    "             <ul>\n",
    "                 <li><a href=\"#range\">Rango</a></li>\n",
    "                 <li><a href=\"#for\">¿Qué es el bucle <code>for</code>?</a></li>\n",
    "                 <li><a href=\"#while\">¿Qué es el bucle <code> while</code>?</a></li>\n",
    "             </ul>\n",
    "         </li>\n",
    "         <li>\n",
    "             <a href=\"#quiz\">Prueba sobre bucles</a>\n",
    "         </li>\n",
    "     </ul>\n",
    "</div>\n",
    "\n",
    "<hr>"
   ]
  },
  {
   "cell_type": "markdown",
   "metadata": {},
   "source": [
    "<h2 id=\"loop\">Loops</h2>"
   ]
  },
  {
   "cell_type": "markdown",
   "metadata": {},
   "source": [
    "En programación, los bucles (loops) son estructuras que permiten ejecutar un conjunto de instrucciones repetidamente. Los dos tipos de bucles más comunes en Python son los bucles <code>for</code> y los bucles <code>while</code>. Estos bucles son fundamentales para la automatización de tareas y la repetición de operaciones.\n"
   ]
  },
  {
   "cell_type": "markdown",
   "metadata": {},
   "source": [
    "<h3 id=\"range\">Range</h3>"
   ]
  },
  {
   "cell_type": "markdown",
   "metadata": {},
   "source": [
    "A veces, es posible que desees repetir una operación determinada muchas veces. Las ejecuciones repetidas como esta se realizan mediante <b>bucles</b>. Veremos dos tipos de bucles, bucles <code>for</code> y bucles <code> while</code>.\n",
    "\n",
    "Antes de discutir los bucles, analicemos el objeto <code>range</code>. Es útil pensar en el objeto de rango como una lista ordenada. Por ahora, veamos el caso más simple. Si quisiéramos generar una secuencia que contenga tres elementos ordenados de 0 a 2 simplemente usamos el siguiente comando:"
   ]
  },
  {
   "cell_type": "markdown",
   "metadata": {},
   "source": [
    "La función range() se utiliza para generar una secuencia de números.\n",
    "\n",
    "El formato de la función range() es el siguiente:\n",
    "\n",
    "<code>range(start, stop, step=1)</code>"
   ]
  },
  {
   "cell_type": "markdown",
   "metadata": {},
   "source": [
    "* start: El número inicial de la secuencia.\n",
    "* stop: El número final de la secuencia.\n",
    "* step: El incremento de la secuencia."
   ]
  },
  {
   "cell_type": "code",
   "execution_count": null,
   "metadata": {
    "tags": []
   },
   "outputs": [],
   "source": [
    "# Usos de f: range\n",
    "\n",
    "range(3)"
   ]
  },
  {
   "cell_type": "markdown",
   "metadata": {},
   "source": [
    "<img src=\"https://s3-api.us-geo.objectstorage.softlayer.net/cf-courses-data/CognitiveClass/PY0101EN/Chapter%203/Images/LoopsRange.png\" width=\"300\" />"
   ]
  },
  {
   "cell_type": "code",
   "execution_count": null,
   "metadata": {
    "tags": []
   },
   "outputs": [],
   "source": [
    "# Usos de f: range\n",
    "\n",
    "range(3,8)"
   ]
  },
  {
   "cell_type": "code",
   "execution_count": null,
   "metadata": {
    "tags": []
   },
   "outputs": [],
   "source": [
    "# Usos de f: range\n",
    "\n",
    "range(3,8,2)"
   ]
  },
  {
   "cell_type": "code",
   "execution_count": null,
   "metadata": {
    "tags": []
   },
   "outputs": [],
   "source": [
    "# Imprime los números pares del 0 al 20\n",
    "for numero in range(0, 20, 2):\n",
    "    print(numero)"
   ]
  },
  {
   "cell_type": "markdown",
   "metadata": {},
   "source": [
    "<h3 id=\"for\">¿Qué es el bucle <code>for</code>?</h3>"
   ]
  },
  {
   "cell_type": "markdown",
   "metadata": {},
   "source": [
    "Un bucle for se utiliza para iterar sobre una secuencia (como una lista, tupla o rango) o cualquier otro objeto iterable. Cada elemento de la secuencia se asigna a una variable y se ejecutan las instrucciones del bucle para cada elemento."
   ]
  },
  {
   "cell_type": "markdown",
   "metadata": {},
   "source": [
    "Esto puede hacerse de la siguiente manera:"
   ]
  },
  {
   "cell_type": "code",
   "execution_count": null,
   "metadata": {
    "tags": []
   },
   "outputs": [],
   "source": [
    "# For loop example\n",
    "\n",
    "# crear lista de años\n",
    "dates = [1982,1980,1973]\n",
    "\n",
    "# tamaño de la lista\n",
    "N = len(dates)\n",
    "\n",
    "# Iterar la lista\n",
    "for i in range(N):\n",
    "    print(dates[i])     "
   ]
  },
  {
   "cell_type": "markdown",
   "metadata": {},
   "source": [
    "El código en la sangría se ejecuta <code>N</code> veces, cada vez que el valor de <code>i</code> aumenta en 1 por cada ejecución. La declaración ejecutada es <code>imprimir</code> el valor en la lista en el índice <code>i</code> como se muestra aquí:"
   ]
  },
  {
   "cell_type": "markdown",
   "metadata": {},
   "source": [
    "<img src=\"https://s3-api.us-geo.objectstorage.softlayer.net/cf-courses-data/CognitiveClass/PY0101EN/Chapter%203/Images/LoopsForRange.gif\" width=\"800\" />"
   ]
  },
  {
   "cell_type": "code",
   "execution_count": null,
   "metadata": {},
   "outputs": [],
   "source": [
    "# Iterar a través de una lista de colores e imprimir cada color\n",
    "colores = [\"rojo\", \"verde\", \"azul\"]\n",
    "for color in colores:\n",
    "    print(\"Color:\", color)"
   ]
  },
  {
   "cell_type": "markdown",
   "metadata": {},
   "source": [
    "En Python podemos acceder directamente a los elementos de la lista de la siguiente manera:"
   ]
  },
  {
   "cell_type": "code",
   "execution_count": null,
   "metadata": {
    "tags": []
   },
   "outputs": [],
   "source": [
    "# Ejemplo de bucle for, recorrer la lista\n",
    "\n",
    "for year in dates:  \n",
    "    print(year)   "
   ]
  },
  {
   "cell_type": "markdown",
   "metadata": {},
   "source": [
    "Para cada iteración, el valor de la variable <code>años</code> se comporta como el valor de <code>fechas[i]</code> en el primer ejemplo:"
   ]
  },
  {
   "cell_type": "markdown",
   "metadata": {},
   "source": [
    "<img src=\"https://s3-api.us-geo.objectstorage.softlayer.net/cf-courses-data/CognitiveClass/PY0101EN/Chapter%203/Images/LoopsForList.gif\" width=\"800\">"
   ]
  },
  {
   "cell_type": "markdown",
   "metadata": {},
   "source": [
    "Utilice el bucle for para cambiar los elementos de la lista"
   ]
  },
  {
   "cell_type": "code",
   "execution_count": null,
   "metadata": {
    "tags": []
   },
   "outputs": [],
   "source": [
    "# Iterar a través de una lista de colores e imprimir cada color\n",
    "colores = [\"rojo\", \"verde\", \"azul\"]\n",
    "\n",
    "for color in colores:\n",
    "    print(\"Color:\", color)"
   ]
  },
  {
   "cell_type": "markdown",
   "metadata": {},
   "source": [
    "Podemos acceder al índice (Posición dentro de la lista comenzando en 0) y a los elementos de una lista de la siguiente manera:"
   ]
  },
  {
   "cell_type": "code",
   "execution_count": null,
   "metadata": {
    "tags": []
   },
   "outputs": [],
   "source": [
    "\n",
    "colores = [\"rojo\", \"verde\", \"azul\"]\n",
    "\n",
    "for i, color in enumerate(colores):\n",
    "    #i = indice , color = color en cada iteración\n",
    "    print(i, color)"
   ]
  },
  {
   "cell_type": "markdown",
   "metadata": {},
   "source": [
    "<h3 id=\" while\">¿Qué es el bucle <code> while</code>?</h3>"
   ]
  },
  {
   "cell_type": "markdown",
   "metadata": {},
   "source": [
    "Un bucle  <code>while</code> se utiliza para ejecutar un conjunto de instrucciones mientras se cumple una condición dada. El bucle continuará ejecutándose hasta que la condición sea falsa.\n",
    "\n",
    "A continuación, proporcionaré ejemplos de cada tipo de bucle:"
   ]
  },
  {
   "cell_type": "code",
   "execution_count": null,
   "metadata": {
    "tags": []
   },
   "outputs": [],
   "source": [
    "# Imprimir números del 1 al 5 usando un bucle while\n",
    "numero = 1\n",
    "\n",
    "while numero <= 5:\n",
    "    print(\"Número:\", numero)\n",
    "    \n",
    "    # incrementa 1 a numero en cada iteracion\n",
    "    numero += 1"
   ]
  },
  {
   "cell_type": "markdown",
   "metadata": {},
   "source": [
    "Digamos que nos gustaría recorrer la lista <code>fechas</code> y detenernos en el año 1973, luego imprimir el número de iteraciones. Esto se puede hacer con el siguiente bloque de código:"
   ]
  },
  {
   "cell_type": "code",
   "execution_count": null,
   "metadata": {
    "tags": []
   },
   "outputs": [],
   "source": [
    "# While Loop ejemplo\n",
    "\n",
    "fechas = [1982, 1980, 1973, 2000]\n",
    "\n",
    "i = 0\n",
    "año = 0\n",
    "\n",
    "while(año != 1973):\n",
    "    \n",
    "    # itera la lista fechas con dada incremento de i en cada iteración\n",
    "    año = fechas[i]\n",
    "    i = i + 1\n",
    "    \n",
    "    print(año)\n",
    "\n",
    "print(\"Se necesitaron\", i,\"repeticiones para salir del bucle.\")"
   ]
  },
  {
   "cell_type": "markdown",
   "metadata": {},
   "source": [
    "Un bucle while se itera simplemente hasta que no se cumple la condición del argumento, como se muestra en la siguiente figura:"
   ]
  },
  {
   "cell_type": "markdown",
   "metadata": {},
   "source": [
    "<img src=\"https://s3-api.us-geo.objectstorage.softlayer.net/cf-courses-data/CognitiveClass/PY0101EN/Chapter%203/Images/LoopsWhile.gif\" width=\"650\" />"
   ]
  },
  {
   "cell_type": "markdown",
   "metadata": {},
   "source": [
    "<hr>"
   ]
  },
  {
   "cell_type": "markdown",
   "metadata": {},
   "source": [
    "<h2 id=\"quiz\">Quiz de Bucles</h2>"
   ]
  },
  {
   "cell_type": "markdown",
   "metadata": {},
   "source": [
    "Escriba un bucle <code>for</code> que imprima todos los elementos entre <b>-5</b> y <b>5</b> usando la función de rango."
   ]
  },
  {
   "cell_type": "code",
   "execution_count": null,
   "metadata": {
    "tags": []
   },
   "outputs": [],
   "source": [
    "# Escriba su código a continuación y presione Shift+Enter para ejecutar\n",
    "# Reemplaze la declaración **None** por la respuesta\n",
    "\n",
    "for i in range(None):\n",
    "    print(None)"
   ]
  },
  {
   "cell_type": "markdown",
   "metadata": {},
   "source": [
    "Haga doble clic __aquí__ para ver la solución.\n",
    "\n",
    "<!-- Su respuesta está a continuación:\n",
    "\n",
    "for i in range(-5, 6):\n",
    "    print(i)\n",
    "-->"
   ]
  },
  {
   "cell_type": "markdown",
   "metadata": {},
   "source": [
    "<hr>"
   ]
  },
  {
   "cell_type": "markdown",
   "metadata": {},
   "source": [
    "Escriba un bucle for que imprima la siguiente lista: <code>cuadrados=['rojo', 'amarillo', 'verde', 'púrpura', 'azul']</code>"
   ]
  },
  {
   "cell_type": "code",
   "execution_count": null,
   "metadata": {
    "tags": []
   },
   "outputs": [],
   "source": [
    "# Escriba su código a continuación y presione Shift+Enter para ejecutar\n",
    "# Reemplaze la declaración **None** por la respuesta\n",
    "\n",
    "colores = ['rojo', 'amarillo', 'verde', 'púrpura', 'azul']\n",
    "for color in None:\n",
    "    print(No)"
   ]
  },
  {
   "cell_type": "markdown",
   "metadata": {},
   "source": [
    "Haga doble clic __aquí__ para ver la solución.\n",
    "\n",
    "<!-- Su respuesta está a continuación:\n",
    "\n",
    "colores = ['rojo', 'amarillo', 'verde', 'púrpura', 'azul']\n",
    "for color in colores:\n",
    "    print(color)\n",
    "\n",
    " -->"
   ]
  },
  {
   "cell_type": "markdown",
   "metadata": {},
   "source": [
    "<hr>"
   ]
  },
  {
   "cell_type": "markdown",
   "metadata": {},
   "source": [
    "#### Imagina que estás desarrollando un programa para calcular el monto total de gastos de oficina en una pequeña empresa durante una semana.\n",
    "\n",
    "**Contexto**: La empresa desea realizar un seguimiento de sus gastos diarios, que incluyen gastos de suministros de oficina, café y refrigerios para los empleados. El objetivo es calcular el monto total de gastos durante una semana de trabajo (5 días).\n",
    "\n",
    "**Objetivo**: Crear un programa que utilice un bucle for para registrar y calcular el monto total de gastos de oficina durante 5 días laborables.\n",
    "\n",
    "Explicación detallada paso a paso:\n",
    "\n",
    "1. Inicializamos una variable monto_total_gastos en 0. Esta variable se utilizará para acumular el monto total de gastos.\n",
    "\n",
    "2. Utilizamos un bucle for para iterar a través de los 5 días laborables de la semana (de lunes a viernes). El bucle recorre una secuencia de días utilizando range(5).\n",
    "\n",
    "3. Para cada día, solicitamos al usuario que ingrese el monto de gastos de oficina para ese día.\n",
    "\n",
    "4. Sumamos el monto de gastos de ese día al monto_total_gastos.\n",
    "\n",
    "5. Después de completar el bucle, mostramos el monto total de gastos de oficina durante la semana.\n",
    "\n"
   ]
  },
  {
   "cell_type": "code",
   "execution_count": null,
   "metadata": {
    "tags": []
   },
   "outputs": [],
   "source": [
    "## Escriba su código a continuación y presione Shift+Enter para ejecutar\n",
    "# Reemplaze la declaración **None** por la respuesta\n",
    "\n",
    "# Inicializar el monto total de gastos\n",
    "monto_total_gastos = 0\n",
    "\n",
    "# Utilizar un bucle for para registrar los gastos durante 5 días laborables\n",
    "for dia in range(5):\n",
    "    # Solicitar al usuario que ingrese los gastos del día\n",
    "    gastos_dia = float(input(f\"Ingrese los gastos de oficina para el día {dia + 1}: $\"))\n",
    "    \n",
    "    # Sumar los gastos al monto total\n",
    "    monto_total_gastos += None\n",
    "\n",
    "# Mostrar el monto total de gastos de oficina durante la semana\n",
    "print(f\"El monto total de gastos de oficina durante la semana es: ${monto_total_gastos}\")"
   ]
  },
  {
   "cell_type": "markdown",
   "metadata": {},
   "source": [
    "Haga doble clic __aquí__ para ver la solución.\n",
    "\n",
    "<!-- Su respuesta está a continuación:\n",
    "\n",
    "# Inicializar el monto total de gastos\n",
    "monto_total_gastos = 0\n",
    "\n",
    "# Utilizar un bucle for para registrar los gastos durante 5 días laborables\n",
    "for dia in range(5):\n",
    "    # Solicitar al usuario que ingrese los gastos del día\n",
    "    gastos_dia = float(input(f\"Ingrese los gastos de oficina para el día {dia + 1}: $\"))\n",
    "    \n",
    "    # Sumar los gastos al monto total\n",
    "    monto_total_gastos += gastos_dia\n",
    "\n",
    "# Mostrar el monto total de gastos de oficina durante la semana\n",
    "print(f\"El monto total de gastos de oficina durante la semana es: ${monto_total_gastos}\")\n",
    "\n",
    " -->"
   ]
  },
  {
   "cell_type": "markdown",
   "metadata": {},
   "source": [
    "<hr>"
   ]
  },
  {
   "cell_type": "markdown",
   "metadata": {},
   "source": [
    "#### Supongamos que estás construyendo un programa para una tienda minorista y deseas calcular el precio total de los productos comprados por un cliente.\n",
    "\n",
    "**Contexto**: Un cliente ha comprado varios productos en la tienda minorista, y cada producto tiene un precio. El objetivo es calcular el precio total de la compra del cliente.\n",
    "\n",
    "**Objetivo**: Crear un programa que utilice un bucle for para calcular el precio total de los productos comprados por el cliente.\n",
    "\n",
    "Explicación detallada paso a paso:\n",
    "\n",
    "1. Definimos una lista de productos y sus precios. Cada producto es representado como una tupla con el nombre del producto y su precio.\n",
    "\n",
    "2. Inicializamos una variable precio_total en 0. Esta variable se utilizará para acumular el precio total de los productos comprados por el cliente.\n",
    "\n",
    "3. Utilizamos un bucle for para iterar a través de la lista de productos comprados por el cliente.\n",
    "\n",
    "4. Para cada producto, verificamos si está en la lista de productos definida y obtenemos su precio. Luego, sumamos ese precio al precio_total.\n",
    "\n",
    "5. Después de completar el bucle, mostramos el precio total de la compra del cliente."
   ]
  },
  {
   "cell_type": "code",
   "execution_count": null,
   "metadata": {
    "tags": []
   },
   "outputs": [],
   "source": [
    "## Escriba su código a continuación y presione Shift+Enter para ejecutar\n",
    "# Reemplaze la declaración **None** por la respuesta\n",
    "\n",
    "# Definir la lista de productos y sus precios\n",
    "productos = [(\"Camiseta\", 15.99), (\"Pantalones\", 29.99), (\"Zapatos\", 49.99), (\"Gorra\", 9.99)]\n",
    "\n",
    "# Inicializar el precio total de la compra\n",
    "precio_total = 0.0\n",
    "\n",
    "# Solicitar al usuario que ingrese los productos comprados\n",
    "print(\"Ingrese los productos comprados (Ingrese 'fin' para finalizar):\")\n",
    "\n",
    "while True:\n",
    "    #recibe input de los productos comprados\n",
    "    producto_comprado = input(\"Producto: \")\n",
    "    \n",
    "    # Si el input es la palabra 'fin' sale de ciclo while con el comando BREAK\n",
    "    if producto_comprado.lower() == None:\n",
    "        break\n",
    "    \n",
    "    # Itera la lista 'productos' que tienen el formato (\"producto\", precio)\n",
    "    for producto, precio in None:\n",
    "        \n",
    "        # compara el texto ingresado con los productos de la lista,\n",
    "        # utiliza lower para hacer todas las palabras minusculas \n",
    "        if producto.lower() == producto_comprado.lower():\n",
    "            \n",
    "            # Suma el precio del producto comprado al total de la compra\n",
    "            precio_total += precio\n",
    "            break\n",
    "\n",
    "# Mostrar el precio total de la compra del cliente\n",
    "print(f\"El precio total de la compra del cliente es: ${precio_total:.2f}\")\n"
   ]
  },
  {
   "cell_type": "markdown",
   "metadata": {},
   "source": [
    "**Ejemplo de ejecución**\n",
    "\n",
    "Ingrese los productos comprados (Ingrese 'fin' para finalizar):\n",
    "* Producto: Camiseta\n",
    "* Producto: Zapatos\n",
    "* Producto: Gorra\n",
    "* Producto: fin\n",
    "\n",
    "El precio total de la compra del cliente es: $75.97"
   ]
  },
  {
   "cell_type": "markdown",
   "metadata": {},
   "source": [
    "Haga doble clic __aquí__ para ver la solución.\n",
    "\n",
    "<!-- Su respuesta está a continuación:\n",
    "\n",
    "# Definir la lista de productos y sus precios\n",
    "productos = [(\"Camiseta\", 15.99), (\"Pantalones\", 29.99), (\"Zapatos\", 49.99), (\"Gorra\", 9.99)]\n",
    "\n",
    "# Inicializar el precio total de la compra\n",
    "precio_total = 0.0\n",
    "\n",
    "# Solicitar al usuario que ingrese los productos comprados\n",
    "print(\"Ingrese los productos comprados (Ingrese 'fin' para finalizar):\")\n",
    "\n",
    "while True:\n",
    "    #recibe input de los productos comprados\n",
    "    producto_comprado = input(\"Producto: \")\n",
    "    \n",
    "    # Si el input es la palabra 'fin' sale de ciclo while con el comando BREAK\n",
    "    if producto_comprado.lower() == \"fin\":\n",
    "        break\n",
    "    \n",
    "    # Itera la lista 'productos' que tienen el formato (\"producto\", precio)\n",
    "    for producto, precio in productos:\n",
    "        \n",
    "        # compara el texto ingresado con los productos de la lista,\n",
    "        # utiliza lower para hacer todas las palabras minusculas \n",
    "        if producto.lower() == producto_comprado.lower():\n",
    "            \n",
    "            # Suma el precio del producto comprado al total de la compra\n",
    "            precio_total += precio\n",
    "            break\n",
    "\n",
    "# Mostrar el precio total de la compra del cliente\n",
    "print(f\"El precio total de la compra del cliente es: ${precio_total:.2f}\")\n",
    "\n",
    " -->"
   ]
  },
  {
   "cell_type": "markdown",
   "metadata": {
    "tags": []
   },
   "source": [
    "<hr>"
   ]
  },
  {
   "cell_type": "markdown",
   "metadata": {
    "jp-MarkdownHeadingCollapsed": true,
    "tags": []
   },
   "source": [
    "<div class=\"alert alert-block alert-info\" style=\"margin-top: 20px\">\n",
    "\n",
    "<h2>Felicitaciones por llegar hasta aquí!</h2>\n",
    "\n",
    "¡Has completado una nueva hazaña!\n",
    "\n",
    "Has aprendido mucho sobre los bucles en Python.\n",
    "\n",
    "Ahora eres capaz de realizar tareas repetitivas de forma eficiente.\n",
    "\n",
    "\n",
    "<h3>¡Sigue aprendiendo y creciendo!</h3>\n",
    "    \n",
    "</div>"
   ]
  },
  {
   "cell_type": "markdown",
   "metadata": {},
   "source": [
    "<hr>"
   ]
  },
  {
   "cell_type": "markdown",
   "metadata": {},
   "source": [
    "<h2>Autores y colaborares:</h2> \n",
    "\n",
    "\n",
    "<a href=\"https://www.linkedin.com/in/robinssondeantonio/\" title=\"Robinsson Deantonio\"> Robinsson S. Deantonio</a> \n",
    "\n",
    "<p> Basado en aportes de: \n",
    "    <a href=\"https://cognitiveclass.ai/\" title=\"cognitiveclass\"> cognitiveclass</a>, \n",
    "    <a href=\"https://www.linkedin.com/in/joseph-s-50398b136/\" title=\"cognitiveclass\"> Joseph Santarcangelo</a>, \n",
    "    <a href=\"https://www.linkedin.com/in/reevejamesd/\" title=\"cognitiveclass\"> James Reeve</a>,  \n",
    "    <a href=\"www.linkedin.com/in/jiahui-mavis-zhou-a4537814a\" title=\"cognitiveclass\"> Mavis Zhou</a>, \n",
    "</p>\n"
   ]
  },
  {
   "cell_type": "markdown",
   "metadata": {},
   "source": [
    "<hr>"
   ]
  },
  {
   "cell_type": "markdown",
   "metadata": {},
   "source": [
    "<p>Copyright &copy; 2023. Este cuaderno y su código fuente se publican según los términos del <a href=\"https://cognitiveclass.ai/mit-license/\">MIT License</a>.</p>"
   ]
  }
 ],
 "metadata": {
  "kernelspec": {
   "display_name": "Python 3 (ipykernel)",
   "language": "python",
   "name": "python3"
  },
  "language_info": {
   "codemirror_mode": {
    "name": "ipython",
    "version": 3
   },
   "file_extension": ".py",
   "mimetype": "text/x-python",
   "name": "python",
   "nbconvert_exporter": "python",
   "pygments_lexer": "ipython3",
   "version": "3.10.9"
  }
 },
 "nbformat": 4,
 "nbformat_minor": 4
}
