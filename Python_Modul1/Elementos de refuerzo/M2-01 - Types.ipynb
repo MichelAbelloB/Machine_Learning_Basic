{
 "cells": [
  {
   "cell_type": "markdown",
   "metadata": {},
   "source": [
    "<a href=\"https://albertomerani.org/\">\n",
    "    <img src=\"images/Merani2.png\" width=\"1000\" align=\"center\">\n",
    "</a>"
   ]
  },
  {
   "cell_type": "markdown",
   "metadata": {},
   "source": [
    "<h1>Introducción a Python</h1>"
   ]
  },
  {
   "cell_type": "markdown",
   "metadata": {},
   "source": [
    "<p><strong>Bienvenido!</strong> Este cuaderno te enseñará los fundamentos del lenguaje de programación Python. Aunque la información presentada aquí es bastante básica, constituye una base importante que te ayudará a leer y escribir código en Python. Al final de este cuaderno, conocerás los conceptos básicos de Python, incluyendo cómo escribir comandos básicos, comprender algunos tipos fundamentales y realizar operaciones simples en ellos.</p>\n"
   ]
  },
  {
   "cell_type": "markdown",
   "metadata": {},
   "source": [
    "<h2>Tabla de contenidos</h2>\n",
    "<div class=\"alerta alerta-bloque alerta-info\" estilo=\"margin-top: 20px\">\n",
    "     <ul>\n",
    "         <li>\n",
    "             <a href=\"#hello\">Di \"Hola mundo\" en Python</a>\n",
    "             <ul>\n",
    "                 <li><a href=\"#version\">¿Qué versión de Python estamos usando?</a></li>\n",
    "                 <li><a href=\"#comments\">Escribir comentarios en Python</a></li>\n",
    "                 <li><a href=\"#errors\">Errores en Python</a></li>\n",
    "                 <li><a href=\"#python_error\">¿Python sabe de tu error antes de ejecutar tu código?</a></li>\n",
    "                 <li><a href=\"#ejercise\">Ejercicio: su primer programa</a></li>\n",
    "             </ul>\n",
    "         </li>\n",
    "         <li>\n",
    "             <a href=\"#types_objects\">Tipos de objetos en Python</a>\n",
    "             <ul>\n",
    "                 <li><a href=\"#int\">Enteros</a></li>\n",
    "                 <li><a href=\"#float\">Float</a></li>\n",
    "                 <li><a href=\"#convert\">Conversión de un tipo de objeto a otro tipo de objeto diferente</a></li>\n",
    "                 <li><a href=\"#bool\">Tipo de datos booleanos</a></li>\n",
    "                 <li><a href=\"#exer_type\">Ejercicio: Tipos</a></li>\n",
    "             </ul>\n",
    "         </li>\n",
    "         <li>\n",
    "             <a href=\"#expressions\">Expresiones y variables</a>\n",
    "             <ul>\n",
    "                 <li><a href=\"#exp\">Expresiones</a></li>\n",
    "                 <li><a href=\"#exer_exp\">Ejercicio: Expresiones</a></li>\n",
    "                 <li><a href=\"#var\">Variables</a></li>\n",
    "                 <li><a href=\"#exer_exp_var\">Ejercicio: Expresión y Variables en Python</a></li>\n",
    "             </ul>\n",
    "         </li>\n",
    "     </ul>\n",
    "</div>\n",
    "\n",
    "<hr>"
   ]
  },
  {
   "cell_type": "markdown",
   "metadata": {},
   "source": [
    "<h2 id=\"hello\">Decir 'Hola mundo!' en Python</h2>"
   ]
  },
  {
   "cell_type": "markdown",
   "metadata": {},
   "source": [
    "\n",
    "Cuando nos aventuramos en el aprendizaje de un nuevo idioma de programación, es una práctica común comenzar con un ejemplo que podríamos llamar \"hello world\". Por más elemental que parezca, esta única línea de código actúa como el timbre que nos confirma que sabemos cómo mostrar un mensaje en la salida y cómo ejecutar comandos en celdas de un cuaderno."
   ]
  },
  {
   "cell_type": "markdown",
   "metadata": {},
   "source": [
    "<hr/>\n",
    "<div class=\"alert alert-success alertsuccess\" style=\"margin-top: 20px\">\n",
    "[Consejo]: Para ejecutar el código Python en la siguiente celda de código, haga clic en la celda para seleccionarla y presione <kbd>Shift</kbd> + <kbd>Enter</kbd>.</div>\n",
    "<hr/>"
   ]
  },
  {
   "cell_type": "code",
   "execution_count": null,
   "metadata": {
    "tags": []
   },
   "outputs": [],
   "source": [
    "print(\"¡Hola mundo!\")"
   ]
  },
  {
   "cell_type": "markdown",
   "metadata": {},
   "source": [
    "<hr/>\n",
    "<div class=\"alert alert-success alertsuccess\" style=\"margin-top: 20px\">\n",
    "    [Consejo:] <code>print()</code> es una función. Pasaste la cadena <code>'¡Hola mundo!'</code> como argumento para indicarle a Python qué imprimir.\n",
    "</div>\n",
    "<hr/>"
   ]
  },
  {
   "cell_type": "markdown",
   "metadata": {},
   "source": [
    "<h3 id=\"version\">¿Qué versión de Python estamos usando?</h3>"
   ]
  },
  {
   "cell_type": "code",
   "execution_count": null,
   "metadata": {
    "tags": []
   },
   "outputs": [],
   "source": [
    "import sys\n",
    "print(sys.version)"
   ]
  },
  {
   "cell_type": "markdown",
   "metadata": {},
   "source": [
    "<h3 id=\"comments\">Escribir comentarios en Python</h3>"
   ]
  },
  {
   "cell_type": "markdown",
   "metadata": {},
   "source": [
    "<p>\n",
    "    Los comentarios son líneas de texto que el intérprete de Python ignora. Se utilizan para explicar el código o para dejar notas para otros programadores. Los comentarios se pueden escribir en una línea o en varias líneas.\n",
    "\n",
    "Para escribir un comentario en una línea, use el símbolo #. Por ejemplo, el siguiente código imprime la cadena \"¡Hola mundo!\" y luego agrega un comentario que explica lo que hace el código:</p>\n"
   ]
  },
  {
   "cell_type": "code",
   "execution_count": null,
   "metadata": {
    "tags": []
   },
   "outputs": [],
   "source": [
    "\n",
    "print(\"¡Hola mundo!\") # Imprime \"¡Hola mundo!\" en la pantalla\n"
   ]
  },
  {
   "cell_type": "markdown",
   "metadata": {},
   "source": [
    "<p>\n",
    "    Para escribir un comentario en varias líneas, use tres comillas simples (''') o tres comillas dobles (\"\"\"). Por ejemplo, el siguiente código imprime la cadena \"¡Hola mundo!\" y luego agrega un comentario que explica lo que hace el código en varias líneas:\n",
    "</p>"
   ]
  },
  {
   "cell_type": "code",
   "execution_count": null,
   "metadata": {
    "tags": []
   },
   "outputs": [],
   "source": [
    "\"\"\"\n",
    "Este código imprime la cadena \"¡Hola mundo!\" en la pantalla.\n",
    "\n",
    "Los comentarios se pueden escribir en una línea o en varias líneas.\n",
    "Para escribir un comentario en una línea, use el símbolo `#`.\n",
    "Para escribir un comentario en varias líneas, use tres comillas simples (`'''`) o 3 comillas dobles.\n",
    "\"\"\"\n",
    "\n",
    "print(\"¡Hola mundo!\")"
   ]
  },
  {
   "cell_type": "markdown",
   "metadata": {},
   "source": [
    "<h3 id=\"errors\">Errores en Python\n",
    "</h3>"
   ]
  },
  {
   "cell_type": "markdown",
   "metadata": {},
   "source": [
    "<p>Los errores son problemas que ocurren cuando el intérprete de Python no puede entender o ejecutar el código. Hay dos tipos de errores: errores de sintaxis y errores de ejecución.\n",
    "\n",
    "Los errores de sintaxis ocurren cuando el código no está escrito correctamente. Por ejemplo, el siguiente código contiene un <code>SyntaxError</code> porque el paréntesis de cierre falta:</p>"
   ]
  },
  {
   "cell_type": "code",
   "execution_count": null,
   "metadata": {
    "tags": []
   },
   "outputs": [],
   "source": [
    "# Print string as error message\n",
    "\n",
    "print(\"¡Hola mundo!\""
   ]
  },
  {
   "cell_type": "markdown",
   "metadata": {},
   "source": [
    "<p>El mensaje de error le dice:\n",
    "<ol>\n",
    "     <li>dónde ocurrió el error (más útil en secuencias de comandos o celdas grandes de cuadernos) y</li>\n",
    "     <li>qué tipo de error fue (NameError)</li>\n",
    "</ol>\n",
    "\n",
    "</p>"
   ]
  },
  {
   "cell_type": "markdown",
   "metadata": {},
   "source": [
    "<p>Los errores de ejecución ocurren cuando el código se ejecuta correctamente, pero hay un problema con el código en sí. Por ejemplo, el siguiente código contiene un error de ejecución porque intenta dividir por cero: </p>"
   ]
  },
  {
   "cell_type": "code",
   "execution_count": null,
   "metadata": {
    "tags": []
   },
   "outputs": [],
   "source": [
    "x = 1 / 0"
   ]
  },
  {
   "cell_type": "markdown",
   "metadata": {},
   "source": [
    "Python es lo que se llama un <em>lenguaje interpretado</em>. Los lenguajes compilados examinan todo su programa en el momento de la compilación y pueden advertirle sobre toda una clase de errores antes de la ejecución. Por el contrario, Python interpreta su script línea por línea mientras lo ejecuta. Python dejará de ejecutar todo el programa cuando encuentre un error (a menos que el programador espere y maneje el error, un tema más avanzado que cubriremos más adelante en este curso)."
   ]
  },
  {
   "cell_type": "code",
   "execution_count": null,
   "metadata": {
    "tags": []
   },
   "outputs": [],
   "source": [
    "saludo = \"¡Hola!\"\n",
    "nombre = \"Mundo\"\n",
    "print(saludo, nombre)  # Imprime múltiples cadenas de texto y una variable\n",
    "\n",
    "fruta = \"manzana\"\n",
    "print(\"Me encanta comer una deliciosa\", fruta  # Imprime una cadena con una variable"
   ]
  },
  {
   "cell_type": "markdown",
   "metadata": {},
   "source": [
    "<h3 id=\"ejercise\">Ejercicio: Tu primer programa</h3>"
   ]
  },
  {
   "cell_type": "code",
   "execution_count": null,
   "metadata": {
    "tags": []
   },
   "outputs": [],
   "source": [
    "# Solicita al usuario ingresar la longitud y el ancho del rectángulo\n",
    "longitud = float(input(\"Ingrese la longitud del rectángulo: \"))\n",
    "ancho = float(input(\"Ingrese el ancho del rectángulo: \"))\n",
    "\n",
    "# Reemplace la siguiente línea con la ecuación para calcular el área del rectángulo\n",
    "area = None  # Reemplace 'None' con la ecuación correcta\n",
    "\n",
    "# Imprime el resultado\n",
    "print(\"El área del rectángulo es:\", area)"
   ]
  },
  {
   "cell_type": "markdown",
   "metadata": {},
   "source": [
    "Haga doble clic __aquí__ para ver la solución.\n",
    "\n",
    "<!-- Su respuesta está a continuación:\n",
    "\n",
    "# Solicita al usuario ingresar la longitud y el ancho del rectángulo\n",
    "longitud = float(input(\"Ingrese la longitud del rectángulo: \"))\n",
    "ancho = float(input(\"Ingrese el ancho del rectángulo: \"))\n",
    "\n",
    "# Calcula el área del rectángulo\n",
    "area = longitud * ancho\n",
    "\n",
    "# Imprime el resultado\n",
    "print(\"El área del rectángulo es:\", area)\n",
    "\n",
    "-->"
   ]
  },
  {
   "cell_type": "markdown",
   "metadata": {},
   "source": [
    "<h3 id=\"ejercise\">Ejercicio: Tu Segundo programa</h3>"
   ]
  },
  {
   "cell_type": "markdown",
   "metadata": {},
   "source": [
    "<p> Imagina que eres un estudiante y deseas calcular tu promedio en tres exámenes que has realizado en una materia específica. Puedes utilizar este programa para ingresar las calificaciones de tus tres exámenes y obtener de inmediato el promedio.\n",
    "\n",
    "Por ejemplo, ingreses las calificaciones de tus exámenes como sigue:\n",
    "\n",
    "* Primer examen: 90\n",
    "* Segundo examen: 85\n",
    "* Tercer examen: 78\n",
    "\n",
    "    El programa calculará el promedio de estas calificaciones de la siguiente manera:</p>"
   ]
  },
  {
   "cell_type": "code",
   "execution_count": null,
   "metadata": {
    "tags": []
   },
   "outputs": [],
   "source": [
    "# Solicita al usuario ingresar tres números\n",
    "numero1 = 90\n",
    "numero2 = 85\n",
    "numero3 = 78\n",
    "\n",
    "# Calcula el promedio de los números\n",
    "promedio = None # Reemplace 'None' con la ecuación correcta\n",
    "\n",
    "# Imprime el resultado\n",
    "print(\"El promedio de los números ingresados es:\", promedio)"
   ]
  },
  {
   "cell_type": "markdown",
   "metadata": {},
   "source": [
    "Haga doble clic __aquí__ para ver la solución.\n",
    "\n",
    "<!-- Su respuesta está a continuación:\n",
    "\n",
    "# Solicita al usuario ingresar tres números\n",
    "numero1 = float(input(\"Ingrese el primer número: \"))\n",
    "numero2 = float(input(\"Ingrese el segundo número: \"))\n",
    "numero3 = float(input(\"Ingrese el tercer número: \"))\n",
    "\n",
    "# Calcula el promedio de los números\n",
    "promedio = (numero1 + numero2 + numero3) / 3\n",
    "\n",
    "# Imprime el resultado\n",
    "print(\"El promedio de los números ingresados es:\", promedio)\n",
    "\n",
    "-->\n"
   ]
  },
  {
   "cell_type": "markdown",
   "metadata": {},
   "source": [
    "<hr>"
   ]
  },
  {
   "cell_type": "markdown",
   "metadata": {},
   "source": [
    "<h2 id=\"types_objects\" align=\"center\">Tipos de objetos en Python</h2>"
   ]
  },
  {
   "cell_type": "markdown",
   "metadata": {},
   "source": [
    "<p>En Python, hay varios tipos de objetos con los que puedes trabajar. Estos tipos representan diferentes tipos de datos y comprenderlos es fundamental para la programación en Python. Aquí están algunos de los tipos de objetos más comunes en Python:\n",
    "\n",
    "    Entero (int): Representa números enteros, tanto positivos como negativos, sin punto decimal. Por ejemplo, 5, -3 y 0 son enteros.\n",
    "\n",
    "    Flotante (float): Representa números reales con punto decimal. Por ejemplo, 3.14, -0.5 y 2.0 son flotantes.\n",
    "\n",
    "    Cadena (str): Representa texto. Las cadenas se encierran entre comillas simples o dobles. Por ejemplo, \"Hola, Mundo\" y 'Python' son cadenas.\n",
    "\n",
    "    Booleano (bool): Representa True (verdadero) o False (falso). Los booleanos se utilizan a menudo en operaciones lógicas y estructuras de control.\n",
    "\n",
    "</p>"
   ]
  },
  {
   "cell_type": "code",
   "execution_count": null,
   "metadata": {
    "tags": []
   },
   "outputs": [],
   "source": [
    "# Declarar un entero\n",
    "x = 12\n",
    "\n",
    "# Imprimir el entero\n",
    "print(x)"
   ]
  },
  {
   "cell_type": "code",
   "execution_count": null,
   "metadata": {
    "tags": []
   },
   "outputs": [],
   "source": [
    "# Declarar un float\n",
    "x = 3.1416\n",
    "\n",
    "# Imprimir el float\n",
    "print(x)"
   ]
  },
  {
   "cell_type": "code",
   "execution_count": null,
   "metadata": {
    "tags": []
   },
   "outputs": [],
   "source": [
    "# Declarar un booleano\n",
    "x = True\n",
    "\n",
    "# Imprimir el booleano\n",
    "print(x)"
   ]
  },
  {
   "cell_type": "code",
   "execution_count": null,
   "metadata": {
    "tags": []
   },
   "outputs": [],
   "source": [
    "# String\n",
    "\n",
    "# Declarar un número entero\n",
    "a = '10a'\n",
    "\n",
    "# Imprimir el número entero\n",
    "print(a)"
   ]
  },
  {
   "cell_type": "markdown",
   "metadata": {},
   "source": [
    "<p>Puedes hacer que Python te indique el tipo de expresión utilizando la función incorporada <code>type()</code>. Notarás que Python se refiere a los números enteros como <code>int</code>, a los flotantes como <code>float</code> y a las cadenas de caracteres como <code>str</code>.</p>"
   ]
  },
  {
   "cell_type": "code",
   "execution_count": null,
   "metadata": {
    "tags": []
   },
   "outputs": [],
   "source": [
    "# Type of 12\n",
    "\n",
    "type(12)"
   ]
  },
  {
   "cell_type": "code",
   "execution_count": null,
   "metadata": {
    "tags": []
   },
   "outputs": [],
   "source": [
    "# Type of 2.14\n",
    "\n",
    "type(3.1416)"
   ]
  },
  {
   "cell_type": "code",
   "execution_count": null,
   "metadata": {
    "tags": []
   },
   "outputs": [],
   "source": [
    "# Type of True\n",
    "\n",
    "type(True)"
   ]
  },
  {
   "cell_type": "code",
   "execution_count": null,
   "metadata": {
    "tags": []
   },
   "outputs": [],
   "source": [
    "# Type of \"Hello, Python 101!\"\n",
    "\n",
    "type('10a')"
   ]
  },
  {
   "cell_type": "markdown",
   "metadata": {},
   "source": [
    "<p>En la celda de código siguiente, use la función <code>type()</code> para verificar el tipo de objeto de <code> '45.0'</code>."
   ]
  },
  {
   "cell_type": "code",
   "execution_count": null,
   "metadata": {
    "tags": []
   },
   "outputs": [],
   "source": [
    "\n",
    "None\n"
   ]
  },
  {
   "cell_type": "markdown",
   "metadata": {},
   "source": [
    "Haga doble clic __aquí__ para ver la solución.\n",
    "\n",
    "<!-- Su respuesta está a continuación:\n",
    "\n",
    "type('45.0')\n",
    "\n",
    "-->"
   ]
  },
  {
   "cell_type": "markdown",
   "metadata": {},
   "source": [
    "<h3 id=\"convert\">Convertir de un tipo de objeto a otro tipo de objeto diferente </h3>"
   ]
  },
  {
   "cell_type": "markdown",
   "metadata": {},
   "source": [
    "<p>Puedes cambiar el tipo de objeto en Python; esto se llama encasillamiento. Por ejemplo, puedes convertir un <i>entero</i> en un <i>flotante</i> (por ejemplo, 2 a 2,0).</p>\n",
    "<p>Probémoslo:</p>"
   ]
  },
  {
   "cell_type": "code",
   "execution_count": null,
   "metadata": {
    "tags": []
   },
   "outputs": [],
   "source": [
    "# Declarar un entero\n",
    "x = 452\n",
    "print( type(x) )"
   ]
  },
  {
   "cell_type": "code",
   "execution_count": null,
   "metadata": {
    "tags": []
   },
   "outputs": [],
   "source": [
    "# Convertir el entero a un float\n",
    "x = float(x)"
   ]
  },
  {
   "cell_type": "code",
   "execution_count": null,
   "metadata": {
    "tags": []
   },
   "outputs": [],
   "source": [
    "# Imprimir el float\n",
    "print( type(x) )"
   ]
  },
  {
   "cell_type": "markdown",
   "metadata": {},
   "source": [
    "<p>Para convertir un float a entero en Python, se puede usar la función int(). Esta función truncará los decimales del float, conservando solo la parte entera.\n",
    "</p>"
   ]
  },
  {
   "cell_type": "code",
   "execution_count": null,
   "metadata": {
    "tags": []
   },
   "outputs": [],
   "source": [
    "# Declarar un float\n",
    "x = 1.5\n",
    "print( type(x) )\n",
    "\n",
    "# Convertir el float a un entero\n",
    "y = int(x)\n",
    "\n",
    "# Imprimir el entero\n",
    "print( type(y) )"
   ]
  },
  {
   "cell_type": "markdown",
   "metadata": {},
   "source": [
    "<h4>Conversión de cadenas a números enteros o flotantes</h4>"
   ]
  },
  {
   "cell_type": "markdown",
   "metadata": {},
   "source": [
    "<p>A veces, podemos tener una cadena que contiene un número dentro de ella. Si este es el caso, podemos convertir esa cadena que representa un número en un número entero usando <code>int()</code>:</p>"
   ]
  },
  {
   "cell_type": "code",
   "execution_count": null,
   "metadata": {
    "tags": []
   },
   "outputs": [],
   "source": [
    "# Convertir un string a un entero\n",
    "x = \"123\"\n",
    "y = int(x)\n",
    "print(y)"
   ]
  },
  {
   "cell_type": "markdown",
   "metadata": {},
   "source": [
    "<p>Pero si intentas hacerlo con una cadena que no coincide perfectamente con un número, obtendrás un error. Pruebe lo siguiente:</p>"
   ]
  },
  {
   "cell_type": "code",
   "execution_count": null,
   "metadata": {
    "tags": []
   },
   "outputs": [],
   "source": [
    "# Convertir una cadena en un número entero con error\n",
    "\n",
    "int('Convertir 1 cadena en 1 número entero')"
   ]
  },
  {
   "cell_type": "markdown",
   "metadata": {},
   "source": [
    "<p>También puedes convertir cadenas que contengan números de punto flotante en objetos <i>flotantes</i>:</p>"
   ]
  },
  {
   "cell_type": "code",
   "execution_count": null,
   "metadata": {
    "tags": []
   },
   "outputs": [],
   "source": [
    "# Convertir un string a un float\n",
    "x = \"123.456\"\n",
    "y = float(x)\n",
    "print(y)"
   ]
  },
  {
   "cell_type": "markdown",
   "metadata": {},
   "source": [
    "<p> Hacer el mismo proceso con punto flotante a un int causara un error</p>"
   ]
  },
  {
   "cell_type": "code",
   "execution_count": null,
   "metadata": {
    "tags": []
   },
   "outputs": [],
   "source": [
    "# Convertir un string a un int\n",
    "x = \"123.456\"\n",
    "y = int(x)\n",
    "print(y)"
   ]
  },
  {
   "cell_type": "markdown",
   "metadata": {},
   "source": [
    "<h4>Convertir números en cadenas</h4>"
   ]
  },
  {
   "cell_type": "code",
   "execution_count": null,
   "metadata": {
    "tags": []
   },
   "outputs": [],
   "source": [
    "# Convertir un int a un string\n",
    "x = 123\n",
    "y = str(x)\n",
    "\n",
    "print(y)\n",
    "print( type(y) )"
   ]
  },
  {
   "cell_type": "markdown",
   "metadata": {},
   "source": [
    "<h3 id=\"bool\">Boolean data type</h3>"
   ]
  },
  {
   "cell_type": "markdown",
   "metadata": {},
   "source": [
    "<p><i>Booleano</i> es otro tipo importante en Python. Un objeto de tipo <i>Booleano</i> puede tomar uno de dos valores: <code>True</code> o <code>False</code>:</p>"
   ]
  },
  {
   "cell_type": "code",
   "execution_count": null,
   "metadata": {},
   "outputs": [],
   "source": [
    "# Value true\n",
    "\n",
    "True"
   ]
  },
  {
   "cell_type": "code",
   "execution_count": null,
   "metadata": {},
   "outputs": [],
   "source": [
    "# Value false\n",
    "\n",
    "False"
   ]
  },
  {
   "cell_type": "markdown",
   "metadata": {},
   "source": [
    "<p>Cuando le pides a Python que muestre el tipo de un objeto booleano, mostrará <code>bool</code> que significa <i>booleano</i>:</p>"
   ]
  },
  {
   "cell_type": "code",
   "execution_count": null,
   "metadata": {
    "tags": []
   },
   "outputs": [],
   "source": [
    "# Type of True\n",
    "\n",
    "type(True)"
   ]
  },
  {
   "cell_type": "code",
   "execution_count": null,
   "metadata": {
    "tags": []
   },
   "outputs": [],
   "source": [
    "# Type of False\n",
    "\n",
    "type(False)"
   ]
  },
  {
   "cell_type": "markdown",
   "metadata": {},
   "source": [
    "<p>Podemos convertir objetos booleanos a otros tipos de datos. Si convertimos un booleano con un valor de <code>True</code> a un número entero o flotante, obtendremos uno. Si convertimos un booleano con un valor de <code>False</code> a un número entero o flotante obtendremos un cero. De manera similar, si convertimos un 1 en un booleano, obtienes un <code>True</code>. Y si le ponemos un 0 a un booleano obtendremos un <code>False</code>. Probémoslo:</p>"
   ]
  },
  {
   "cell_type": "code",
   "execution_count": null,
   "metadata": {
    "tags": []
   },
   "outputs": [],
   "source": [
    "# Convert True to int\n",
    "\n",
    "int(True)"
   ]
  },
  {
   "cell_type": "code",
   "execution_count": null,
   "metadata": {
    "tags": []
   },
   "outputs": [],
   "source": [
    "# Convert 1 to boolean\n",
    "\n",
    "bool(1)"
   ]
  },
  {
   "cell_type": "code",
   "execution_count": null,
   "metadata": {
    "tags": []
   },
   "outputs": [],
   "source": [
    "# Convert 0 to boolean\n",
    "\n",
    "bool(0)"
   ]
  },
  {
   "cell_type": "code",
   "execution_count": null,
   "metadata": {
    "tags": []
   },
   "outputs": [],
   "source": [
    "# Convert True to float\n",
    "\n",
    "float(True)"
   ]
  },
  {
   "cell_type": "markdown",
   "metadata": {},
   "source": [
    "<h3 id=\"exer_type\">Ejercicio: Tipos</h3>"
   ]
  },
  {
   "cell_type": "markdown",
   "metadata": {},
   "source": [
    "<p>¿Cuál es el tipo de datos del resultado de: <code>6 / 2</code>?</p>"
   ]
  },
  {
   "cell_type": "code",
   "execution_count": null,
   "metadata": {},
   "outputs": [],
   "source": [
    "None"
   ]
  },
  {
   "cell_type": "markdown",
   "metadata": {},
   "source": [
    "Haga doble clic __aquí__ para ver la solución.\n",
    "\n",
    "<!-- Su respuesta está a continuación:\n",
    "\n",
    "type(6/2) # float\n",
    "-->"
   ]
  },
  {
   "cell_type": "markdown",
   "metadata": {},
   "source": [
    "<p>¿Cuál es el tipo de resultado de: <code>6 // 2</code>? (Tenga en cuenta la doble barra <code>//</code>.)</p>"
   ]
  },
  {
   "cell_type": "code",
   "execution_count": null,
   "metadata": {},
   "outputs": [],
   "source": [
    "None"
   ]
  },
  {
   "cell_type": "markdown",
   "metadata": {},
   "source": [
    "Haga doble clic __aquí__ para ver la solución.\n",
    "\n",
    "<!-- Su respuesta está a continuación:\n",
    "\n",
    "type(6//2) # int, ya que las barras dobles representan división de enteros \n",
    "-->"
   ]
  },
  {
   "cell_type": "markdown",
   "metadata": {
    "tags": []
   },
   "source": [
    "<p>Escribe un programa que imprima el tipo de cada uno de los siguientes valores:\n",
    "    \n",
    "* 1\n",
    "* 1.0\n",
    "* \"Hola mundo\"\n",
    "* True\n",
    "</p>"
   ]
  },
  {
   "cell_type": "code",
   "execution_count": null,
   "metadata": {
    "tags": []
   },
   "outputs": [],
   "source": [
    "None"
   ]
  },
  {
   "cell_type": "markdown",
   "metadata": {},
   "source": [
    "Haga doble clic __aquí__ para ver la solución.\n",
    "\n",
    "<!-- Su respuesta está a continuación:\n",
    "\n",
    "# Declarar los valores\n",
    "x = 1\n",
    "y = 1.0\n",
    "z = \"Hola mundo\"\n",
    "w = True\n",
    "\n",
    "# Imprimir los tipos\n",
    "print(type(x))\n",
    "print(type(y))\n",
    "print(type(z))\n",
    "print(type(w))\n",
    "\n",
    "-->"
   ]
  },
  {
   "cell_type": "markdown",
   "metadata": {},
   "source": [
    "<hr>"
   ]
  },
  {
   "cell_type": "markdown",
   "metadata": {},
   "source": [
    "<h2 id=\"expressions\">Expresión y variables</h2>"
   ]
  },
  {
   "cell_type": "markdown",
   "metadata": {},
   "source": [
    "<h3 id=\"exp\">Expresiones</h3>"
   ]
  },
  {
   "cell_type": "markdown",
   "metadata": {},
   "source": [
    "<p> Una expresión es una combinación de variables, operadores y valores que produce un valor. Un valor es una expresión en sí misma.\n",
    "\n",
    "Algunos ejemplos de expresiones son:\n",
    "\n",
    "* 1 + 2\n",
    "* \"Hola mundo\"\n",
    "* x * y\n",
    "*  z ** 2\n",
    "</p>"
   ]
  },
  {
   "cell_type": "code",
   "execution_count": null,
   "metadata": {
    "tags": []
   },
   "outputs": [],
   "source": [
    "# Expresión de operación de suma\n",
    "\n",
    "# Declarar variables\n",
    "x = 1\n",
    "y = 2\n",
    "\n",
    "# Calcular la suma\n",
    "z = x + y\n",
    "\n",
    "# Imprimir el resultado\n",
    "print(z)"
   ]
  },
  {
   "cell_type": "code",
   "execution_count": null,
   "metadata": {
    "tags": []
   },
   "outputs": [],
   "source": [
    "# Declarar variables\n",
    "x = 10\n",
    "y = 5\n",
    "\n",
    "# Realizar la resta\n",
    "z = x - y\n",
    "\n",
    "# Imprimir el resultado\n",
    "print(z)"
   ]
  },
  {
   "cell_type": "markdown",
   "metadata": {},
   "source": [
    "<p>Podemos hacer multiplicaciones usando un asterisco:</p>"
   ]
  },
  {
   "cell_type": "code",
   "execution_count": null,
   "metadata": {
    "tags": []
   },
   "outputs": [],
   "source": [
    "# Declarar variables\n",
    "x = 10\n",
    "y = 15\n",
    "\n",
    "# Realizar la resta\n",
    "z = x * y\n",
    "\n",
    "# Imprimir el resultado\n",
    "print(z)"
   ]
  },
  {
   "cell_type": "markdown",
   "metadata": {},
   "source": [
    "<p>También podemos realizar la división con la barra diagonal:"
   ]
  },
  {
   "cell_type": "code",
   "execution_count": null,
   "metadata": {
    "tags": []
   },
   "outputs": [],
   "source": [
    "# Division operation expression\n",
    "\n",
    "25 / 5"
   ]
  },
  {
   "cell_type": "code",
   "execution_count": null,
   "metadata": {
    "tags": []
   },
   "outputs": [],
   "source": [
    "# Division operation expression\n",
    "\n",
    "25 / 6"
   ]
  },
  {
   "cell_type": "markdown",
   "metadata": {},
   "source": [
    "<p>Como se vio en el cuestionario anterior, podemos usar la doble barra para la división de enteros, donde el resultado se redondea al entero más cercano:"
   ]
  },
  {
   "cell_type": "code",
   "execution_count": null,
   "metadata": {
    "tags": []
   },
   "outputs": [],
   "source": [
    "# Integer division operation expression\n",
    "\n",
    "25 // 5"
   ]
  },
  {
   "cell_type": "code",
   "execution_count": null,
   "metadata": {
    "tags": []
   },
   "outputs": [],
   "source": [
    "# Integer division operation expression\n",
    "\n",
    "25 // 6"
   ]
  },
  {
   "cell_type": "markdown",
   "metadata": {},
   "source": [
    "* En Python, las variables se pueden declarar en cualquier lugar del código.\n",
    "* Las variables se pueden usar para almacenar cualquier tipo de datos.\n",
    "* Las expresiones se pueden usar para realizar cálculos y operaciones con variables."
   ]
  },
  {
   "cell_type": "markdown",
   "metadata": {},
   "source": [
    "<h3 id=\"exer_exp\">Ejercicio: Expresión</h3>"
   ]
  },
  {
   "cell_type": "markdown",
   "metadata": {},
   "source": [
    "<p>Escribamos una expresión que calcule cuántas horas hay en 160 minutos:"
   ]
  },
  {
   "cell_type": "code",
   "execution_count": null,
   "metadata": {},
   "outputs": [],
   "source": [
    "None"
   ]
  },
  {
   "cell_type": "markdown",
   "metadata": {},
   "source": [
    "Haga doble clic __aquí__ para ver la solución.\n",
    "\n",
    "<!-- Su respuesta está a continuación:\n",
    "160/60 \n",
    "# Or \n",
    "160//60\n",
    "-->"
   ]
  },
  {
   "cell_type": "markdown",
   "metadata": {},
   "source": [
    "<p>Python sigue convenciones matemáticas bien aceptadas al evaluar expresiones matemáticas. En el siguiente ejemplo, Python suma 30 al resultado de la multiplicación (es decir, 120)."
   ]
  },
  {
   "cell_type": "code",
   "execution_count": null,
   "metadata": {
    "tags": []
   },
   "outputs": [],
   "source": [
    "\n",
    "30 + 2 * 60"
   ]
  },
  {
   "cell_type": "markdown",
   "metadata": {},
   "source": [
    "<p>Y al igual que las matemáticas, las expresiones entre paréntesis tienen prioridad. Entonces lo siguiente multiplica 32 por 60."
   ]
  },
  {
   "cell_type": "code",
   "execution_count": null,
   "metadata": {
    "tags": []
   },
   "outputs": [],
   "source": [
    "\n",
    "(30 + 2) * 60"
   ]
  },
  {
   "cell_type": "markdown",
   "metadata": {},
   "source": [
    "<h3 id=\"var\">Variables</h3>"
   ]
  },
  {
   "cell_type": "markdown",
   "metadata": {},
   "source": [
    "<p>Al igual que con la mayoría de los lenguajes de programación, podemos almacenar valores en <i>variables</i>, para poder usarlos más adelante. Por ejemplo:</p>"
   ]
  },
  {
   "cell_type": "code",
   "execution_count": null,
   "metadata": {
    "tags": []
   },
   "outputs": [],
   "source": [
    "# Store value into variable\n",
    "\n",
    "x = 4 + 60 + 4 + 41 - 50"
   ]
  },
  {
   "cell_type": "markdown",
   "metadata": {},
   "source": [
    "<p>Para ver el valor de <code>x</code> en un Notebook, simplemente podemos colocarlo en la última línea de una celda:</p>"
   ]
  },
  {
   "cell_type": "code",
   "execution_count": null,
   "metadata": {
    "tags": []
   },
   "outputs": [],
   "source": [
    "x"
   ]
  },
  {
   "cell_type": "markdown",
   "metadata": {},
   "source": [
    "<p>También podemos realizar operaciones en <code>x</code> y guardar el resultado en una nueva variable:</p>"
   ]
  },
  {
   "cell_type": "code",
   "execution_count": null,
   "metadata": {
    "tags": []
   },
   "outputs": [],
   "source": [
    "# Usar otra variable para almacenar el resultado de la operación entre variable y valor\n",
    "\n",
    "y = x / 60\n",
    "y"
   ]
  },
  {
   "cell_type": "markdown",
   "metadata": {},
   "source": [
    "<p>Si guardamos un valor en una variable existente, el nuevo valor sobrescribirá el valor anterior:</p>"
   ]
  },
  {
   "cell_type": "code",
   "execution_count": null,
   "metadata": {
    "tags": []
   },
   "outputs": [],
   "source": [
    "# Sobrescribir variable con nuevo valor\n",
    "x = x / 60\n",
    "x"
   ]
  },
  {
   "cell_type": "markdown",
   "metadata": {},
   "source": [
    "<h3 id=\"exer_exp_var\">Ejercicio: Expresión y Variables en Python</h3>"
   ]
  },
  {
   "cell_type": "markdown",
   "metadata": {},
   "source": [
    "<p>¿Cuál es el valor de <code>x</code> donde <code>x = 3 + 2 * 2</code></p>"
   ]
  },
  {
   "cell_type": "code",
   "execution_count": null,
   "metadata": {},
   "outputs": [],
   "source": [
    "None"
   ]
  },
  {
   "cell_type": "markdown",
   "metadata": {},
   "source": [
    "Haga doble clic __aquí__ para ver la solución.\n",
    "\n",
    "<!-- Su respuesta está a continuación:\n",
    "x = 3 + 2 * 2\n",
    "print(x)\n",
    "-->\n"
   ]
  },
  {
   "cell_type": "markdown",
   "metadata": {},
   "source": [
    "<p>What is the value of <code>y</code> where <code>y = (3 + 2) * 2</code>?</p>"
   ]
  },
  {
   "cell_type": "code",
   "execution_count": null,
   "metadata": {},
   "outputs": [],
   "source": [
    "None"
   ]
  },
  {
   "cell_type": "markdown",
   "metadata": {},
   "source": [
    "Haga doble clic __aquí__ para ver la solución.\n",
    "\n",
    "<!-- Su respuesta está a continuación:\n",
    "z = x + y\n",
    "print(z)\n",
    "-->"
   ]
  },
  {
   "cell_type": "markdown",
   "metadata": {},
   "source": [
    "<p>What is the value of <code>z</code> where <code>z = x + y</code>?</p>"
   ]
  },
  {
   "cell_type": "code",
   "execution_count": null,
   "metadata": {},
   "outputs": [],
   "source": [
    "None"
   ]
  },
  {
   "cell_type": "markdown",
   "metadata": {},
   "source": [
    "Haga doble clic __aquí__ para ver la solución.\n",
    "\n",
    "<!-- Su respuesta está a continuación:\n",
    "17\n",
    "-->"
   ]
  },
  {
   "cell_type": "markdown",
   "metadata": {},
   "source": [
    "<hr>\n",
    "<div class=\"alert alert-block alert-info\" style=\"margin-top: 20px\">\n",
    "\n",
    "<h2>Felicitaciones por llegar hasta aquí!</h2>\n",
    "\n",
    "¡Has completado una nueva hazaña!\n",
    "\n",
    "Has aprendido sobre los tipos de datos.\n",
    "\n",
    "Ahora eres capaz de declarar variables y hacer operaciones básicas.\n",
    "\n",
    "\n",
    "<h3>¡Sigue aprendiendo y creciendo!</h3>\n",
    "    \n",
    "</div>\n",
    "\n",
    "<hr>"
   ]
  },
  {
   "cell_type": "markdown",
   "metadata": {},
   "source": [
    "<h2>Autores y colaborares:</h2> \n",
    "\n",
    "\n",
    "<a href=\"https://www.linkedin.com/in/robinssondeantonio/\" title=\"Robinsson Deantonio\"> Robinsson S. Deantonio</a> \n",
    "\n",
    "<p> Basado en aportes de: \n",
    "    <a href=\"https://cognitiveclass.ai/\" title=\"cognitiveclass\"> cognitiveclass</a>, \n",
    "    <a href=\"https://www.linkedin.com/in/joseph-s-50398b136/\" title=\"cognitiveclass\"> Joseph Santarcangelo</a>, \n",
    "    <a href=\"https://www.linkedin.com/in/reevejamesd/\" title=\"cognitiveclass\"> James Reeve</a>,  \n",
    "    <a href=\"www.linkedin.com/in/jiahui-mavis-zhou-a4537814a\" title=\"cognitiveclass\"> Mavis Zhou</a>, \n",
    "</p>"
   ]
  },
  {
   "cell_type": "markdown",
   "metadata": {},
   "source": [
    "<hr>\n",
    "<p>Copyright &copy; 2023. Este cuaderno y su código fuente se publican según los términos del <a href=\"https://cognitiveclass.ai/mit-license/\">MIT License</a>.</p>"
   ]
  }
 ],
 "metadata": {
  "kernelspec": {
   "display_name": "Python 3 (ipykernel)",
   "language": "python",
   "name": "python3"
  },
  "language_info": {
   "codemirror_mode": {
    "name": "ipython",
    "version": 3
   },
   "file_extension": ".py",
   "mimetype": "text/x-python",
   "name": "python",
   "nbconvert_exporter": "python",
   "pygments_lexer": "ipython3",
   "version": "3.10.9"
  }
 },
 "nbformat": 4,
 "nbformat_minor": 4
}
