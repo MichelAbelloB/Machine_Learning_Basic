{
 "cells": [
  {
   "cell_type": "markdown",
   "metadata": {},
   "source": [
    "<a href=\"https://albertomerani.org/\">\n",
    "    <img src=\"images/Merani2.png\" width=\"1000\" align=\"center\">\n",
    "</a>"
   ]
  },
  {
   "cell_type": "markdown",
   "metadata": {},
   "source": [
    "<h1>Conditionales en Python</h1>"
   ]
  },
  {
   "cell_type": "markdown",
   "metadata": {},
   "source": [
    "<h2>Tabla de contenidos</h2>\n",
    "<div class=\"alert alert-block alert-info\" style=\"margin-top: 20px\">\n",
    "    <ul>\n",
    "         <li>\n",
    "             <a href=\"#cond\">Declaraciones condicionales</a>\n",
    "             <ul>\n",
    "                 <li><a href=\"#comp\">Operadores de comparación</a></li>\n",
    "                 <li><a href=\"#branch\">Derivación</a></li>\n",
    "                 <li><a href=\"#logic\">Operadores lógicos</a></li>\n",
    "             </ul>\n",
    "         </li>\n",
    "         <li>\n",
    "             <a href=\"#quiz\">Quiz sobre la declaración de condicionales</a>\n",
    "         </li>\n",
    "     </ul>\n",
    "</div>\n",
    "<hr>"
   ]
  },
  {
   "cell_type": "markdown",
   "metadata": {},
   "source": [
    "<h2 id=\"cond\">Declaraciones condicionales</h2>"
   ]
  },
  {
   "cell_type": "markdown",
   "metadata": {},
   "source": [
    "<h3 id=\"comp\">Operadores de Comparación</h3>"
   ]
  },
  {
   "cell_type": "markdown",
   "metadata": {},
   "source": [
    "Los operadores de comparación se utilizan para comparar valores y crear condiciones en declaraciones condicionales. Algunos operadores de comparación comunes en Python son:\n",
    "\n",
    "* \"==\" (igual a): Comprueba si dos valores son iguales.\n",
    "* \"!=\" (no igual a): Comprueba si dos valores no son iguales.\n",
    "* \">\" (mayor que): Comprueba si un valor es mayor que otro.\n",
    "* \"<\" (menor que): Comprueba si un valor es menor que otro.\n",
    "* \">=\" (mayor o igual que): Comprueba si un valor es mayor o igual que otro.\n",
    "* \"<=\" (menor o igual que): Comprueba si un valor es menor o igual que otro."
   ]
  },
  {
   "cell_type": "code",
   "execution_count": null,
   "metadata": {
    "tags": []
   },
   "outputs": [],
   "source": [
    "# Declarar variables\n",
    "\n",
    "a = 5\n",
    "b = 10"
   ]
  },
  {
   "cell_type": "code",
   "execution_count": null,
   "metadata": {},
   "outputs": [],
   "source": [
    "print(a == b)  # False\n"
   ]
  },
  {
   "cell_type": "code",
   "execution_count": null,
   "metadata": {},
   "outputs": [],
   "source": [
    "print(a != b)  # True\n"
   ]
  },
  {
   "cell_type": "code",
   "execution_count": null,
   "metadata": {},
   "outputs": [],
   "source": [
    "print(a > b)   # False\n"
   ]
  },
  {
   "cell_type": "code",
   "execution_count": null,
   "metadata": {},
   "outputs": [],
   "source": [
    "print(a < b)   # True\n"
   ]
  },
  {
   "cell_type": "code",
   "execution_count": null,
   "metadata": {},
   "outputs": [],
   "source": [
    "print(a >= b)  # False\n"
   ]
  },
  {
   "cell_type": "code",
   "execution_count": null,
   "metadata": {},
   "outputs": [],
   "source": [
    "print(a <= b)  # True"
   ]
  },
  {
   "cell_type": "markdown",
   "metadata": {},
   "source": [
    "Mostremos algunos valores para <code>i</code> en la figura. Establece los valores mayores a 5 en verde y el resto en rojo. La región verde representa donde la condición es **Verdadera**, la roja donde la declaración es **Falsa**. Si el valor de <code>i</code> es 2, obtenemos **Falso** ya que el 2 cae en la región roja. De manera similar, si el valor de <code>i</code> es 6, obtenemos un **Verdadero** ya que la condición se encuentra en la región verde."
   ]
  },
  {
   "cell_type": "code",
   "execution_count": null,
   "metadata": {
    "tags": []
   },
   "outputs": [],
   "source": [
    "\n",
    "i = 6\n",
    "i > 5"
   ]
  },
  {
   "cell_type": "code",
   "execution_count": null,
   "metadata": {
    "tags": []
   },
   "outputs": [],
   "source": [
    "\n",
    "i = 2\n",
    "i > 5"
   ]
  },
  {
   "cell_type": "markdown",
   "metadata": {},
   "source": [
    "<img src=\"images/CondsGreater.gif\" width=\"650\" />"
   ]
  },
  {
   "cell_type": "markdown",
   "metadata": {},
   "source": [
    "La prueba de desigualdad utiliza un signo de exclamación precediendo al signo igual; si dos operandos no son iguales, la condición se vuelve **Verdadera**. Por ejemplo, la siguiente condición producirá **Verdadero** siempre que el valor de <code>i</code> no sea igual a 6:"
   ]
  },
  {
   "cell_type": "code",
   "execution_count": null,
   "metadata": {
    "tags": []
   },
   "outputs": [],
   "source": [
    "# Signo de desigualdad\n",
    "\n",
    "i = 2\n",
    "i != 6"
   ]
  },
  {
   "cell_type": "markdown",
   "metadata": {},
   "source": [
    "Cuando <code>i</code> es igual a 6, la expresión de desigualdad produce <b>Falso</b>."
   ]
  },
  {
   "cell_type": "code",
   "execution_count": null,
   "metadata": {},
   "outputs": [],
   "source": [
    "# Signo de desigualdad\n",
    "\n",
    "i = 6\n",
    "i != 6"
   ]
  },
  {
   "cell_type": "markdown",
   "metadata": {},
   "source": [
    "Vea la recta numérica a continuación. cuando la condición es **Verdadero** los números correspondientes están marcados en verde y cuando la condición es **Falso** el número correspondiente está marcado en rojo. Si establecemos <code>i</code> igual a 2, el operador es verdadero ya que 2 está en la región verde. Si establecemos <code>i</code> en 6, obtenemos un **Falso** ya que la condición se encuentra en la región roja."
   ]
  },
  {
   "cell_type": "markdown",
   "metadata": {},
   "source": [
    "<img src=\"https://s3-api.us-geo.objectstorage.softlayer.net/cf-courses-data/CognitiveClass/PY0101EN/Chapter%203/Images/CondsIneq.gif\" width=\"650\" />"
   ]
  },
  {
   "cell_type": "markdown",
   "metadata": {},
   "source": [
    "Podemos aplicar los mismos métodos en cadenas. Por ejemplo, utilice un operador de igualdad en dos cadenas diferentes. Como las cadenas no son iguales, obtenemos un **Falso**."
   ]
  },
  {
   "cell_type": "code",
   "execution_count": null,
   "metadata": {
    "tags": []
   },
   "outputs": [],
   "source": [
    "# Utilice el signo de Igualdad para comparar las cadenas\n",
    "\n",
    "\"FUNDAMENTOS IA MINTIC\" == \"CURSO INTRODUCTORIO\""
   ]
  },
  {
   "cell_type": "markdown",
   "metadata": {},
   "source": [
    "Si usamos el operador de desigualdad, el resultado será **Verdadero** ya que las cadenas no son iguales."
   ]
  },
  {
   "cell_type": "code",
   "execution_count": null,
   "metadata": {
    "tags": []
   },
   "outputs": [],
   "source": [
    "# Utilice el signo de desigualdad para comparar las cadenas.\n",
    "\n",
    "\"FUNDAMENTOS IA MINTIC\" != \"CURSO INTRODUCTORIO\""
   ]
  },
  {
   "cell_type": "markdown",
   "metadata": {},
   "source": [
    "<h3 id=\"branch\">Derivación</h3>"
   ]
  },
  {
   "cell_type": "markdown",
   "metadata": {},
   "source": [
    "La ramificación nos permite ejecutar diferentes declaraciones para diferentes entradas. Es útil pensar en una **declaración if** como una habitación cerrada, si la declaración es **Verdadero** podemos ingresar a la sala y su programa ejecutará algunas tareas predefinidas, pero si la declaración es **Falso** el programa ignorará la tarea."
   ]
  },
  {
   "cell_type": "markdown",
   "metadata": {},
   "source": [
    "En programación, las \"ramificaciones\" se utilizan para tomar decisiones basadas en condiciones. Permiten que un programa siga diferentes caminos de ejecución según si una condición es verdadera o falsa. En Python, las declaraciones condicionales, como \"if\", \"elif\" y \"else\", se utilizan para implementar ramificaciones.\n"
   ]
  },
  {
   "cell_type": "markdown",
   "metadata": {},
   "source": [
    "#### Declaración \"if\"\n",
    "\n",
    "La declaración \"if\" se utiliza para ejecutar un bloque de código si una condición es verdadera.\n"
   ]
  },
  {
   "cell_type": "code",
   "execution_count": null,
   "metadata": {
    "tags": []
   },
   "outputs": [],
   "source": [
    "edad = 18\n",
    "\n",
    "if edad >= 18:\n",
    "    print(\"Eres mayor de edad.\")"
   ]
  },
  {
   "cell_type": "markdown",
   "metadata": {},
   "source": [
    "#### Declaración \"else\"\n",
    "La declaración \"else\" se utiliza para ejecutar un bloque de código si la condición en \"if\" no es verdadera."
   ]
  },
  {
   "cell_type": "code",
   "execution_count": null,
   "metadata": {
    "tags": []
   },
   "outputs": [],
   "source": [
    "edad = 16\n",
    "if edad >= 18:\n",
    "    print(\"Eres mayor de edad.\")\n",
    "else:\n",
    "    print(\"Eres menor de edad.\")"
   ]
  },
  {
   "cell_type": "markdown",
   "metadata": {},
   "source": [
    "#### Declaración \"elif\"\n",
    "La declaración \"elif\" se utiliza para agregar más condiciones después de \"if\". Si la condición en \"if\" no es verdadera, Python verificará las condiciones \"elif\" en orden y ejecutará el primer bloque de código cuya condición sea verdadera.\n"
   ]
  },
  {
   "cell_type": "code",
   "execution_count": null,
   "metadata": {
    "tags": []
   },
   "outputs": [],
   "source": [
    "puntuacion = 85\n",
    "\n",
    "if puntuacion >= 90:\n",
    "    print(\"Tienes una A.\")\n",
    "elif puntuacion >= 80:\n",
    "    print(\"Tienes una B.\")\n",
    "elif puntuacion >= 70:\n",
    "    print(\"Tienes una C.\")\n",
    "else:\n",
    "    print(\"Tienes una D.\")"
   ]
  },
  {
   "cell_type": "markdown",
   "metadata": {},
   "source": [
    "### Ejercicio #1"
   ]
  },
  {
   "cell_type": "markdown",
   "metadata": {},
   "source": [
    "**Contexto**: Imagina que estás construyendo un programa que ayuda a los usuarios a tomar decisiones sobre qué ropa deben usar según la temperatura. El programa debe proporcionar recomendaciones basadas en la temperatura actual.\n",
    "\n",
    "**Objetivo**: Crear un programa que solicita al usuario ingresar la temperatura actual y luego brinda una recomendación de ropa según la temperatura. Utilizaremos declaraciones de ramificación para determinar la recomendación.\n",
    "\n",
    "Explicación detallada paso a paso:\n",
    "\n",
    "* Primero, solicitamos al usuario que ingrese la temperatura actual en grados Celsius.\n",
    "* Luego, utilizamos una declaración if para evaluar la temperatura:\n",
    "\n",
    "    \n",
    "    - Si la temperatura es menor de 10 grados, recomendamos usar ropa abrigada.\n",
    "    - Si la temperatura está entre 10 y 20 grados, recomendamos ropa de entretiempo.\n",
    "    - Si la temperatura es mayor o igual a 20 grados, recomendamos ropa ligera.\n",
    "\n",
    "Finalmente, mostramos la recomendación al usuario según la temperatura ingresada.\n",
    "\n"
   ]
  },
  {
   "cell_type": "code",
   "execution_count": null,
   "metadata": {
    "tags": []
   },
   "outputs": [],
   "source": [
    "# Solicitar al usuario que ingrese la temperatura actual en grados Celsius\n",
    "temperatura = float(input(\"Ingresa la temperatura actual en grados Celsius: \"))"
   ]
  },
  {
   "cell_type": "code",
   "execution_count": null,
   "metadata": {
    "tags": []
   },
   "outputs": [],
   "source": [
    "# Utilizar declaraciones de ramificación para determinar la recomendación de ropa\n",
    "if temperatura < 10:\n",
    "    recomendacion = \"Usa ropa abrigada.\"\n",
    "elif temperatura >= 10 and temperatura < 20:\n",
    "    recomendacion = \"Usa ropa de entretiempo.\"\n",
    "else:\n",
    "    recomendacion = \"Puedes usar ropa ligera.\""
   ]
  },
  {
   "cell_type": "code",
   "execution_count": null,
   "metadata": {
    "tags": []
   },
   "outputs": [],
   "source": [
    "# Mostrar la recomendación al usuario\n",
    "print(\"Recomendación de ropa:\", recomendacion)"
   ]
  },
  {
   "cell_type": "markdown",
   "metadata": {},
   "source": [
    "### Ejercicio #2"
   ]
  },
  {
   "cell_type": "markdown",
   "metadata": {},
   "source": [
    " Este programa permitirá a los usuarios realizar operaciones matemáticas básicas como suma, resta, multiplicación y división."
   ]
  },
  {
   "cell_type": "markdown",
   "metadata": {},
   "source": [
    "**Contexto**: Estamos creando una calculadora simple que solicitará al usuario ingresar dos números y la operación que desean realizar. Luego, realizará la operación y mostrará el resultado.\n",
    "\n",
    "**Objetivo**: Construir un programa de calculadora con declaraciones de ramificación para manejar múltiples operaciones.\n",
    "\n",
    "Explicación detallada paso a paso:\n",
    "\n",
    "* Primero, solicitamos al usuario que ingrese dos números, el número \"a\" y el número \"b\".\n",
    "\n",
    "* Luego, solicitamos al usuario que elija una operación: suma, resta, multiplicación o división.\n",
    "\n",
    "Utilizamos declaraciones if, elif y else para determinar qué operación realizar en función de la elección del usuario.\n",
    "\n",
    "Realizamos la operación seleccionada y mostramos el resultado al usuario.\n",
    "\n",
    "A continuación, el código y una explicación paso a paso:"
   ]
  },
  {
   "cell_type": "code",
   "execution_count": null,
   "metadata": {
    "tags": []
   },
   "outputs": [],
   "source": [
    "# Solicitar al usuario que ingrese dos números\n",
    "a = float(input(\"Ingresa el primer número: \"))\n",
    "b = float(input(\"Ingresa el segundo número: \"))\n"
   ]
  },
  {
   "cell_type": "code",
   "execution_count": null,
   "metadata": {
    "tags": []
   },
   "outputs": [],
   "source": [
    "# Solicitar al usuario que elija una operación\n",
    "operacion = input(\"Elige una operación (+, -, *, /): \")\n"
   ]
  },
  {
   "cell_type": "code",
   "execution_count": null,
   "metadata": {
    "tags": []
   },
   "outputs": [],
   "source": [
    "# Utilizar declaraciones de ramificación para realizar la operación seleccionada\n",
    "if operacion == \"+\":\n",
    "    resultado = a + b\n",
    "elif operacion == \"-\":\n",
    "    resultado = a - b\n",
    "elif operacion == \"*\":\n",
    "    resultado = a * b\n",
    "elif operacion == \"/\":\n",
    "    # Manejar la división por cero\n",
    "    if b == 0:\n",
    "        resultado = \"No es posible dividir por cero.\"\n",
    "    else:\n",
    "        resultado = a / b\n",
    "else:\n",
    "    resultado = \"Operación no válida.\""
   ]
  },
  {
   "cell_type": "code",
   "execution_count": null,
   "metadata": {
    "tags": []
   },
   "outputs": [],
   "source": [
    "# Mostrar el resultado al usuario\n",
    "print(f\"Resultado: {resultado}\")"
   ]
  },
  {
   "cell_type": "markdown",
   "metadata": {},
   "source": [
    "<h3 id=\"logic\">Logical operators</h3>"
   ]
  },
  {
   "cell_type": "markdown",
   "metadata": {},
   "source": [
    "\n",
    "En programación, los operadores lógicos se utilizan para realizar operaciones booleanas en los valores verdadero (True) y falso (False). Los operadores lógicos más comunes en Python son and (y), or (o) y not (no). Estos operadores permiten combinar o negar expresiones lógicas para tomar decisiones en las declaraciones condicionales.\n",
    "\n",
    "<ul>\n",
    "    <li><code>and: Devuelve verdadero si ambas expresiones son verdaderas.</code></li>\n",
    "    <li><code>or: Devuelve verdadero si al menos una de las expresiones es verdadera.</code></li>\n",
    "    <li><code>not: Devuelve verdadero si la expresión es falsa.</code></li>\n",
    "</ul>\n",
    "\n",
    "\n",
    "\n",
    "Estos operadores se resumen para dos variables utilizando las siguientes tablas de verdad:"
   ]
  },
  {
   "cell_type": "markdown",
   "metadata": {},
   "source": [
    "<img src=\"https://s3-api.us-geo.objectstorage.softlayer.net/cf-courses-data/CognitiveClass/PY0101EN/Chapter%203/Images/CondsTable.png\" width=\"650\" />"
   ]
  },
  {
   "cell_type": "markdown",
   "metadata": {},
   "source": [
    "### Operador **and**"
   ]
  },
  {
   "cell_type": "code",
   "execution_count": null,
   "metadata": {
    "tags": []
   },
   "outputs": [],
   "source": [
    "# Declarar variables\n",
    "a = True\n",
    "b = False\n",
    "\n",
    "# Realizar la operación\n",
    "c = a and b\n",
    "\n",
    "# Imprimir el resultado\n",
    "print(c)"
   ]
  },
  {
   "cell_type": "markdown",
   "metadata": {},
   "source": [
    "#### Explicación:\n",
    "\n",
    "La expresión a and b es verdadera si ambas expresiones, a y b, son verdaderas. En este caso, a es verdadera, pero b es falsa. Por lo tanto, el resultado de la operación es False."
   ]
  },
  {
   "cell_type": "markdown",
   "metadata": {},
   "source": [
    "### Operador **or**"
   ]
  },
  {
   "cell_type": "code",
   "execution_count": null,
   "metadata": {
    "tags": []
   },
   "outputs": [],
   "source": [
    "\n",
    "# Declarar variables\n",
    "a = True\n",
    "b = False\n",
    "\n",
    "# Realizar la operación\n",
    "c = a or b\n",
    "\n",
    "# Imprimir el resultado\n",
    "print(c)"
   ]
  },
  {
   "cell_type": "markdown",
   "metadata": {},
   "source": [
    "#### Explicación:\n",
    "\n",
    "La expresión a or b es verdadera si al menos una de las expresiones, a o b, es verdadera. En este caso, a es verdadera, por lo que el resultado de la operación es True."
   ]
  },
  {
   "cell_type": "markdown",
   "metadata": {},
   "source": [
    "### Operador **not**"
   ]
  },
  {
   "cell_type": "code",
   "execution_count": null,
   "metadata": {
    "tags": []
   },
   "outputs": [],
   "source": [
    "# Declarar una variable\n",
    "a = True\n",
    "\n",
    "# Realizar la operación\n",
    "c = not a\n",
    "\n",
    "# Imprimir el resultado\n",
    "print(c)"
   ]
  },
  {
   "cell_type": "markdown",
   "metadata": {},
   "source": [
    "#### Explicación:\n",
    "\n",
    "El operador not invierte el valor de la expresión. En este caso, la expresión a es verdadera, por lo que el resultado de la operación es False.\n"
   ]
  },
  {
   "cell_type": "markdown",
   "metadata": {},
   "source": [
    "### Ejemplo 1: Evaluación de la temperatura"
   ]
  },
  {
   "cell_type": "markdown",
   "metadata": {},
   "source": [
    "Supongamos que estamos construyendo un sistema de control de temperatura. Usaremos operadores lógicos para determinar si la temperatura está dentro de un rango seguro."
   ]
  },
  {
   "cell_type": "code",
   "execution_count": null,
   "metadata": {
    "tags": []
   },
   "outputs": [],
   "source": [
    "temperatura = 25\n",
    "\n",
    "es_seguro = temperatura >= 10 and temperatura <= 30\n",
    "\n",
    "print(\"La temperatura es segura:\", es_seguro)  # Output: True"
   ]
  },
  {
   "cell_type": "markdown",
   "metadata": {},
   "source": [
    "### Ejemplo 2: Autorización de usuario"
   ]
  },
  {
   "cell_type": "markdown",
   "metadata": {},
   "source": [
    "Imaginemos un sistema de autenticación de usuario. Usaremos el operador or para permitir el acceso si el usuario ingresa un nombre de usuario o contraseña válidos."
   ]
  },
  {
   "cell_type": "code",
   "execution_count": null,
   "metadata": {
    "tags": []
   },
   "outputs": [],
   "source": [
    "nombre_de_usuario = \"usuario123\"\n",
    "correo = \"usuario123@correo.com\"\n",
    "\n",
    "autenticado = nombre_de_usuario == \"usuario123\" or correo == \"usuario123@correo.com\"\n",
    "\n",
    "print(\"Usuario autenticado:\", autenticado)  # Output: True"
   ]
  },
  {
   "cell_type": "markdown",
   "metadata": {},
   "source": [
    "<hr>"
   ]
  },
  {
   "cell_type": "markdown",
   "metadata": {},
   "source": [
    "<h2 id=\"quiz\">Quiz de Condicionales</h2>"
   ]
  },
  {
   "cell_type": "markdown",
   "metadata": {},
   "source": [
    "### Control de acceso a un evento\n",
    "\n",
    "Supongamos que estás organizando un evento y deseas controlar el acceso de los asistentes según su edad. Solo se permite la entrada a personas mayores de 18 años o menores de 12 años. Utilizaremos operadores lógicos para verificar la edad de los asistentes."
   ]
  },
  {
   "cell_type": "code",
   "execution_count": null,
   "metadata": {
    "tags": []
   },
   "outputs": [],
   "source": [
    "# Escriba su código a continuación y presione Shift+Enter para ejecutar\n",
    "# Reemplaze la declaración **None** por la respuesta\n",
    "\n",
    "# Edad del asistente\n",
    "edad = int(input(\"Ingresa tu edad: \"))\n",
    "\n",
    "# Verificar si el asistente puede ingresar al evento\n",
    "puede_ingresar = None\n",
    "\n",
    "if puede_ingresar:\n",
    "    print(\"¡Bienvenido al evento!\")\n",
    "else:\n",
    "    print(\"Lo sentimos, no puedes ingresar al evento.\")"
   ]
  },
  {
   "cell_type": "markdown",
   "metadata": {},
   "source": [
    "Haga doble clic __aquí__ para ver la solución.\n",
    "\n",
    "<!-- Su respuesta está a continuación:\n",
    "\n",
    "# Edad del asistente\n",
    "edad = int(input(\"Ingresa tu edad: \"))\n",
    "\n",
    "# Verificar si el asistente puede ingresar al evento\n",
    "puede_ingresar = edad >= 18 or edad < 12\n",
    "if puede_ingresar:\n",
    "    print(\"¡Bienvenido al evento!\")\n",
    "else:\n",
    "    print(\"Lo sentimos, no puedes ingresar al evento.\")\n",
    "\n",
    " -->"
   ]
  },
  {
   "cell_type": "markdown",
   "metadata": {},
   "source": [
    "<hr>"
   ]
  },
  {
   "cell_type": "markdown",
   "metadata": {},
   "source": [
    "### Elección de platos en un restaurante\n",
    "\n",
    "Imagina que estás desarrollando un programa para ayudar a los clientes a elegir platos en un restaurante. Los clientes pueden elegir una entrada, un plato principal y un postre. Utilizaremos operadores lógicos para asegurarnos de que el cliente **siempre ha elegido al menos un plato** de cada categoría."
   ]
  },
  {
   "cell_type": "code",
   "execution_count": null,
   "metadata": {
    "tags": []
   },
   "outputs": [],
   "source": [
    "# Escriba su código a continuación y presione Shift+Enter para ejecutar\n",
    "# Reemplaze la declaración **None** por la respuesta\n",
    "\n",
    "# Elección del cliente\n",
    "entrada = input(\"Elige una entrada: \")\n",
    "plato_principal = input(\"Elige un plato principal: \")\n",
    "postre = input(\"Elige un postre: \")\n",
    "\n",
    "# Verificar si se han hecho elecciones en todas las categorías\n",
    "elecciones_completas =  None\n",
    "if elecciones_completas:\n",
    "    print(\"¡Tu pedido está completo!\")\n",
    "else:\n",
    "    print(\"Por favor, asegúrate de elegir al menos un plato de cada categoría.\")"
   ]
  },
  {
   "cell_type": "markdown",
   "metadata": {},
   "source": [
    "Haga doble clic __aquí__ para ver la solución.\n",
    "\n",
    "<!-- Su respuesta está a continuación:\n",
    "\n",
    "# Elección del cliente\n",
    "entrada = input(\"Elige una entrada: \")\n",
    "plato_principal = input(\"Elige un plato principal: \")\n",
    "postre = input(\"Elige un postre: \")\n",
    "\n",
    "# Verificar si se han hecho elecciones en todas las categorías\n",
    "elecciones_completas = entrada != \"\" and plato_principal != \"\" and postre != \"\"\n",
    "if elecciones_completas:\n",
    "    print(\"¡Tu pedido está completo!\")\n",
    "else:\n",
    "    print(\"Por favor, asegúrate de elegir al menos un plato de cada categoría.\")\n",
    "\n",
    " -->"
   ]
  },
  {
   "cell_type": "markdown",
   "metadata": {},
   "source": [
    "<hr>"
   ]
  },
  {
   "cell_type": "markdown",
   "metadata": {},
   "source": [
    "### Aplicando a la beca\n",
    "\n",
    "**Contexto**: Imagina que estás desarrollando un programa para verificar si los estudiantes califican para una beca en función de su desempeño académico y sus ingresos familiares. Los requisitos son los siguientes:\n",
    "\n",
    "* El estudiante debe tener un promedio de calificaciones de al menos 85.\n",
    "* El ingreso familiar anual no debe superar los $50,000.\n",
    "\n",
    "**Objetivo**: Crear un programa que solicite al usuario su promedio de calificaciones y el ingreso familiar anual, y luego determine si el estudiante califica para la beca."
   ]
  },
  {
   "cell_type": "markdown",
   "metadata": {
    "tags": []
   },
   "source": [
    "Explicación detallada paso a paso:\n",
    "\n",
    "1. Solicitamos al usuario que ingrese su promedio de calificaciones y lo almacenamos en la variable promedio.\n",
    "\n",
    "2. Solicitamos al usuario que ingrese su ingreso familiar anual y lo almacenamos en la variable ingreso_familiar.\n",
    "\n",
    "3. Utilizamos operadores lógicos para verificar si el estudiante cumple con los requisitos de la beca:\n",
    "    * Verificamos si el promedio es mayor o igual a 85 (promedio >= 85).\n",
    "    * Verificamos si el ingreso familiar es menor o igual a $50,000 (ingreso_familiar <= 50000).\n",
    "    * Utilizamos el operador lógico and para combinar ambas condiciones. Ambas condiciones deben ser verdaderas para calificar.\n",
    "\n",
    "4. Si ambas condiciones son verdaderas, mostramos un mensaje que indica que el estudiante califica para la beca. De lo contrario, indicamos que no califica."
   ]
  },
  {
   "cell_type": "code",
   "execution_count": null,
   "metadata": {
    "tags": []
   },
   "outputs": [],
   "source": [
    "# Escriba su código a continuación y presione Shift+Enter para ejecutar\n",
    "# Reemplaze la declaración **None** por la respuesta\n",
    "\n",
    "# Solicitar al usuario que ingrese el promedio de calificaciones\n",
    "promedio = float(input(\"Ingresa tu promedio de calificaciones: \"))\n",
    "\n",
    "# Solicitar al usuario que ingrese el ingreso familiar anual\n",
    "ingreso_familiar = float(input(\"Ingresa tu ingreso familiar anual: $\"))\n",
    "\n",
    "# Verificar si el estudiante califica para la beca\n",
    "califica_para_beca = None\n",
    "\n",
    "# Mostrar el resultado\n",
    "if califica_para_beca:\n",
    "    print(\"¡Felicidades! Calificas para la beca.\")\n",
    "else:\n",
    "    print(\"Lo sentimos, no calificas para la beca.\")"
   ]
  },
  {
   "cell_type": "markdown",
   "metadata": {},
   "source": [
    "Haga doble clic __aquí__ para ver la solución.\n",
    "\n",
    "<!-- Su respuesta está a continuación:\n",
    "\n",
    "# Solicitar al usuario que ingrese el promedio de calificaciones\n",
    "promedio = float(input(\"Ingresa tu promedio de calificaciones: \"))\n",
    "\n",
    "# Solicitar al usuario que ingrese el ingreso familiar anual\n",
    "ingreso_familiar = float(input(\"Ingresa tu ingreso familiar anual: $\"))\n",
    "\n",
    "# Verificar si el estudiante califica para la beca\n",
    "califica_para_beca = promedio >= 85 and ingreso_familiar <= 50000\n",
    "\n",
    "# Mostrar el resultado\n",
    "if califica_para_beca:\n",
    "    print(\"¡Felicidades! Calificas para la beca.\")\n",
    "else:\n",
    "    print(\"Lo sentimos, no calificas para la beca.\")\n",
    "\n",
    "-->"
   ]
  },
  {
   "cell_type": "markdown",
   "metadata": {},
   "source": [
    "<hr>"
   ]
  },
  {
   "cell_type": "markdown",
   "metadata": {},
   "source": [
    "<div class=\"alert alert-block alert-info\" style=\"margin-top: 20px\">\n",
    "\n",
    "<h2>Felicitaciones por llegar hasta aquí!</h2>\n",
    "\n",
    "¡Has completado una nueva hazaña!\n",
    "\n",
    "Has aprendido sobre condiciones en Python.\n",
    "\n",
    "Ahora eres capaz de aplicar filtros en tu código\n",
    "\n",
    "\n",
    "<h3>¡Sigue aprendiendo y creciendo!</h3>\n",
    "    \n",
    "</div>"
   ]
  },
  {
   "cell_type": "markdown",
   "metadata": {},
   "source": [
    "<hr>"
   ]
  },
  {
   "cell_type": "markdown",
   "metadata": {},
   "source": [
    "<h2>Autores y colaborares:</h2> \n",
    "\n",
    "\n",
    "<a href=\"https://www.linkedin.com/in/robinssondeantonio/\" title=\"Robinsson Deantonio\"> Robinsson S. Deantonio</a> \n",
    "\n",
    "<p> Basado en aportes de: \n",
    "    <a href=\"https://cognitiveclass.ai/\" title=\"cognitiveclass\"> cognitiveclass</a>, \n",
    "    <a href=\"https://www.linkedin.com/in/joseph-s-50398b136/\" title=\"cognitiveclass\"> Joseph Santarcangelo</a>, \n",
    "    <a href=\"https://www.linkedin.com/in/reevejamesd/\" title=\"cognitiveclass\"> James Reeve</a>,  \n",
    "    <a href=\"www.linkedin.com/in/jiahui-mavis-zhou-a4537814a\" title=\"cognitiveclass\"> Mavis Zhou</a>, \n",
    "</p>"
   ]
  },
  {
   "cell_type": "markdown",
   "metadata": {},
   "source": [
    "<hr>"
   ]
  },
  {
   "cell_type": "markdown",
   "metadata": {
    "tags": []
   },
   "source": [
    "<p>Copyright &copy; 2023. Este cuaderno y su código fuente se publican según los términos del <a href=\"https://cognitiveclass.ai/mit-license/\">MIT License</a>.</p>"
   ]
  }
 ],
 "metadata": {
  "kernelspec": {
   "display_name": "Python 3 (ipykernel)",
   "language": "python",
   "name": "python3"
  },
  "language_info": {
   "codemirror_mode": {
    "name": "ipython",
    "version": 3
   },
   "file_extension": ".py",
   "mimetype": "text/x-python",
   "name": "python",
   "nbconvert_exporter": "python",
   "pygments_lexer": "ipython3",
   "version": "3.10.9"
  }
 },
 "nbformat": 4,
 "nbformat_minor": 4
}
